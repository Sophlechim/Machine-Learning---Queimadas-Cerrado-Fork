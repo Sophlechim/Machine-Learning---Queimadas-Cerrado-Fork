{
 "cells": [
  {
   "cell_type": "markdown",
   "id": "7e0ecf89-bcac-4e8e-8d72-33abeab87314",
   "metadata": {},
   "source": [
    "# Bloco 2"
   ]
  },
  {
   "cell_type": "markdown",
   "id": "19d94679-10e8-4564-a34e-e745bde97d07",
   "metadata": {},
   "source": [
    "<p align=\"justify\">\n",
    "Este trabalho é referente as tarefas desenvolvidas no Bloco 2. Espera-se desenvolver um projeto capaz de utilizar os comandos aprendidos pela linguagem de programação Python, na disciplina de Aprendizado de Máquina, além de desenvolver um sistema de previsão através de Machine Learning. O grupo desenvolvedor é composto pelas discentes:\n",
    "<p align=\"justify\">\n",
    "Isabela Bento Beneti </p>\n",
    "<p align=\"justify\">\n",
    "Monyque Karoline de Paula Silva </p>\n",
    "<p align=\"justify\">\n",
    "Sofia Baccega C.C. de Oliveira </p>\n",
    "<p align=\"justify\">\n",
    "Sophia Figueiredo Michel </p>\n",
    "<hr>"
   ]
  },
  {
   "cell_type": "markdown",
   "id": "6362ec54-b405-49b1-8d24-af13227caa75",
   "metadata": {},
   "source": [
    "### **COLETA DE DADOS**"
   ]
  },
  {
   "cell_type": "code",
   "execution_count": 104,
   "id": "65696d67-1b86-420b-8db9-b88a224ac8ab",
   "metadata": {},
   "outputs": [],
   "source": [
    "import pandas as pd\n",
    "import seaborn as sns\n",
    "import matplotlib.pyplot as plt\n",
    "import numpy as np\n",
    "from scipy import stats\n",
    "\n",
    "from sklearn.pipeline import Pipeline\n",
    "from sklearn.preprocessing import PolynomialFeatures\n",
    "from sklearn.linear_model import LinearRegression\n",
    "from sklearn.model_selection import train_test_split\n",
    "from sklearn.dummy import DummyRegressor\n",
    "from sklearn.metrics import mean_squared_error\n",
    "from sklearn.neighbors import KNeighborsRegressor\n",
    "from sklearn.preprocessing import MinMaxScaler\n",
    "from sklearn.tree import DecisionTreeRegressor\n",
    "from sklearn.ensemble import RandomForestRegressor\n",
    "\n",
    "\n",
    "from itertools import product\n",
    "from matplotlib import pyplot as plt\n",
    "from sklearn import tree"
   ]
  },
  {
   "cell_type": "code",
   "execution_count": 105,
   "id": "1ee5cc51-eb03-4aa7-854a-a2c9bd8d469f",
   "metadata": {},
   "outputs": [],
   "source": [
    "#Dados do Cerrado Brasileiro, armazenados mensalmente via .csv\n",
    "arquivos = ['janeiro.csv','fev.csv','marco.csv','abril.csv','maio.csv','junho.csv','julho.csv']"
   ]
  },
  {
   "cell_type": "code",
   "execution_count": 106,
   "id": "1c89666b-abd7-44eb-b059-14677d8b3cc2",
   "metadata": {},
   "outputs": [],
   "source": [
    "def read_csv(list_of_files):\n",
    "    dfs = []\n",
    "    for x in list_of_files:\n",
    "        file = pd.read_csv(x, sep=',')\n",
    "        dfs.append(file)\n",
    "    df = pd.concat(dfs).reset_index(drop=True)\n",
    "        \n",
    "    return df"
   ]
  },
  {
   "cell_type": "code",
   "execution_count": 107,
   "id": "f204a0ae-84e8-48b3-801f-5ae6e92f6daa",
   "metadata": {},
   "outputs": [],
   "source": [
    "meses = read_csv(arquivos)"
   ]
  },
  {
   "cell_type": "code",
   "execution_count": 108,
   "id": "afd6bd47-487d-4d23-8e2f-7a90f0234ac7",
   "metadata": {},
   "outputs": [],
   "source": [
    "#Dados trabalhados para a eliminação de NaN nas colunas e identificação dos tipos de dados\n",
    "meses.convert_dtypes()\n",
    "meses.dropna(how='any', inplace=True)"
   ]
  },
  {
   "cell_type": "code",
   "execution_count": 109,
   "id": "44da7365-5d20-4b44-a59d-d0a9b82a4567",
   "metadata": {},
   "outputs": [],
   "source": [
    "meses.drop(columns=['Unnamed: 0','estado', 'satelite', 'municipio', 'pais', 'municipio_id', 'estado_id', 'pais_id', 'bioma'], axis = 1, inplace=True)"
   ]
  },
  {
   "cell_type": "code",
   "execution_count": 110,
   "id": "9bc49fcb-111f-4379-a357-34797389b9c5",
   "metadata": {},
   "outputs": [],
   "source": [
    "meses_fogo = meses['risco_fogo'] > 0\n",
    "meses = meses[meses_fogo]"
   ]
  },
  {
   "cell_type": "code",
   "execution_count": 111,
   "id": "b225097c-aa26-4bed-a3e9-f785fea52431",
   "metadata": {},
   "outputs": [
    {
     "data": {
      "text/html": [
       "<div>\n",
       "<style scoped>\n",
       "    .dataframe tbody tr th:only-of-type {\n",
       "        vertical-align: middle;\n",
       "    }\n",
       "\n",
       "    .dataframe tbody tr th {\n",
       "        vertical-align: top;\n",
       "    }\n",
       "\n",
       "    .dataframe thead th {\n",
       "        text-align: right;\n",
       "    }\n",
       "</style>\n",
       "<table border=\"1\" class=\"dataframe\">\n",
       "  <thead>\n",
       "    <tr style=\"text-align: right;\">\n",
       "      <th></th>\n",
       "      <th>lat</th>\n",
       "      <th>lon</th>\n",
       "      <th>data_hora_gmt</th>\n",
       "      <th>numero_dias_sem_chuva</th>\n",
       "      <th>precipitacao</th>\n",
       "      <th>risco_fogo</th>\n",
       "    </tr>\n",
       "  </thead>\n",
       "  <tbody>\n",
       "    <tr>\n",
       "      <th>0</th>\n",
       "      <td>-12.314859</td>\n",
       "      <td>-43.234066</td>\n",
       "      <td>2022-03-02 01:05:48</td>\n",
       "      <td>9.0</td>\n",
       "      <td>2.7</td>\n",
       "      <td>1.0</td>\n",
       "    </tr>\n",
       "    <tr>\n",
       "      <th>1</th>\n",
       "      <td>-20.227880</td>\n",
       "      <td>-46.415940</td>\n",
       "      <td>2022-03-02 01:28:00</td>\n",
       "      <td>8.0</td>\n",
       "      <td>0.0</td>\n",
       "      <td>0.3</td>\n",
       "    </tr>\n",
       "    <tr>\n",
       "      <th>2</th>\n",
       "      <td>-20.229250</td>\n",
       "      <td>-46.426820</td>\n",
       "      <td>2022-03-02 01:28:00</td>\n",
       "      <td>8.0</td>\n",
       "      <td>0.0</td>\n",
       "      <td>0.3</td>\n",
       "    </tr>\n",
       "    <tr>\n",
       "      <th>3</th>\n",
       "      <td>-20.238930</td>\n",
       "      <td>-46.425510</td>\n",
       "      <td>2022-03-02 01:28:00</td>\n",
       "      <td>8.0</td>\n",
       "      <td>0.0</td>\n",
       "      <td>0.4</td>\n",
       "    </tr>\n",
       "    <tr>\n",
       "      <th>4</th>\n",
       "      <td>-20.237550</td>\n",
       "      <td>-46.414600</td>\n",
       "      <td>2022-03-02 01:28:00</td>\n",
       "      <td>8.0</td>\n",
       "      <td>0.0</td>\n",
       "      <td>0.4</td>\n",
       "    </tr>\n",
       "    <tr>\n",
       "      <th>...</th>\n",
       "      <td>...</td>\n",
       "      <td>...</td>\n",
       "      <td>...</td>\n",
       "      <td>...</td>\n",
       "      <td>...</td>\n",
       "      <td>...</td>\n",
       "    </tr>\n",
       "    <tr>\n",
       "      <th>265136</th>\n",
       "      <td>-6.360000</td>\n",
       "      <td>-45.670000</td>\n",
       "      <td>2022-07-29 23:54:47</td>\n",
       "      <td>46.0</td>\n",
       "      <td>0.0</td>\n",
       "      <td>1.0</td>\n",
       "    </tr>\n",
       "    <tr>\n",
       "      <th>265137</th>\n",
       "      <td>-6.360000</td>\n",
       "      <td>-45.690000</td>\n",
       "      <td>2022-07-29 23:54:47</td>\n",
       "      <td>46.0</td>\n",
       "      <td>0.0</td>\n",
       "      <td>1.0</td>\n",
       "    </tr>\n",
       "    <tr>\n",
       "      <th>265138</th>\n",
       "      <td>-6.400000</td>\n",
       "      <td>-44.140000</td>\n",
       "      <td>2022-07-29 23:54:47</td>\n",
       "      <td>34.0</td>\n",
       "      <td>0.0</td>\n",
       "      <td>1.0</td>\n",
       "    </tr>\n",
       "    <tr>\n",
       "      <th>265139</th>\n",
       "      <td>-6.350000</td>\n",
       "      <td>-45.670000</td>\n",
       "      <td>2022-07-29 23:54:47</td>\n",
       "      <td>46.0</td>\n",
       "      <td>0.0</td>\n",
       "      <td>1.0</td>\n",
       "    </tr>\n",
       "    <tr>\n",
       "      <th>265140</th>\n",
       "      <td>-6.340000</td>\n",
       "      <td>-45.690000</td>\n",
       "      <td>2022-07-29 23:54:47</td>\n",
       "      <td>45.0</td>\n",
       "      <td>0.0</td>\n",
       "      <td>1.0</td>\n",
       "    </tr>\n",
       "  </tbody>\n",
       "</table>\n",
       "<p>265141 rows × 6 columns</p>\n",
       "</div>"
      ],
      "text/plain": [
       "              lat        lon        data_hora_gmt  numero_dias_sem_chuva  \\\n",
       "0      -12.314859 -43.234066  2022-03-02 01:05:48                    9.0   \n",
       "1      -20.227880 -46.415940  2022-03-02 01:28:00                    8.0   \n",
       "2      -20.229250 -46.426820  2022-03-02 01:28:00                    8.0   \n",
       "3      -20.238930 -46.425510  2022-03-02 01:28:00                    8.0   \n",
       "4      -20.237550 -46.414600  2022-03-02 01:28:00                    8.0   \n",
       "...           ...        ...                  ...                    ...   \n",
       "265136  -6.360000 -45.670000  2022-07-29 23:54:47                   46.0   \n",
       "265137  -6.360000 -45.690000  2022-07-29 23:54:47                   46.0   \n",
       "265138  -6.400000 -44.140000  2022-07-29 23:54:47                   34.0   \n",
       "265139  -6.350000 -45.670000  2022-07-29 23:54:47                   46.0   \n",
       "265140  -6.340000 -45.690000  2022-07-29 23:54:47                   45.0   \n",
       "\n",
       "        precipitacao  risco_fogo  \n",
       "0                2.7         1.0  \n",
       "1                0.0         0.3  \n",
       "2                0.0         0.3  \n",
       "3                0.0         0.4  \n",
       "4                0.0         0.4  \n",
       "...              ...         ...  \n",
       "265136           0.0         1.0  \n",
       "265137           0.0         1.0  \n",
       "265138           0.0         1.0  \n",
       "265139           0.0         1.0  \n",
       "265140           0.0         1.0  \n",
       "\n",
       "[265141 rows x 6 columns]"
      ]
     },
     "metadata": {},
     "output_type": "display_data"
    }
   ],
   "source": [
    "meses = meses.reset_index()\n",
    "del meses['index']\n",
    "display(meses)"
   ]
  },
  {
   "cell_type": "markdown",
   "id": "c6593aed-35d9-47d0-ac45-c46856886925",
   "metadata": {},
   "source": [
    "<hr>"
   ]
  },
  {
   "cell_type": "markdown",
   "id": "00559f2a-2f0e-4f91-942d-ff055a16d727",
   "metadata": {},
   "source": [
    "### **TREINO DE MODELOS NORMALIZADOS:**"
   ]
  },
  {
   "cell_type": "code",
   "execution_count": 112,
   "id": "42dec6d6-fad9-42ca-ab62-b592fd5e19ab",
   "metadata": {},
   "outputs": [],
   "source": [
    "TAMANHO_TESTE = 0.1 # fração de dados utilizada para teste: 10%\n",
    "SEMENTE_ALEATORIA = 61455 # semente escolhida aleatoriamente\n",
    "DATASET_NAME = \"meses\"\n",
    "FEATURES = [\"numero_dias_sem_chuva\", \"precipitacao\", \"lat\", \"lon\"]\n",
    "TARGET = [\"risco_fogo\"]\n",
    "\n",
    "indices = meses.index\n",
    "indices_treino, indices_teste = train_test_split(\n",
    "    indices, test_size=TAMANHO_TESTE, random_state=SEMENTE_ALEATORIA\n",
    ")\n",
    "\n",
    "meses_treino = meses.loc[indices_treino]\n",
    "meses_teste = meses.loc[indices_teste]\n",
    "\n",
    "X_treino = meses_treino.reindex(FEATURES, axis=1).values\n",
    "y_treino = meses_treino.reindex(TARGET, axis=1).values\n",
    "X_teste = meses_teste.reindex(FEATURES, axis=1).values\n",
    "y_teste = meses_teste.reindex(TARGET, axis=1).values"
   ]
  },
  {
   "cell_type": "code",
   "execution_count": 113,
   "id": "a7d4e818-d5ba-4471-b3df-517afb2aab6b",
   "metadata": {},
   "outputs": [
    {
     "data": {
      "text/plain": [
       "MinMaxScaler()"
      ]
     },
     "execution_count": 113,
     "metadata": {},
     "output_type": "execute_result"
    }
   ],
   "source": [
    "normalizador_x = MinMaxScaler()\n",
    "normalizador_y = MinMaxScaler()\n",
    "\n",
    "normalizador_x.fit(X_treino)\n",
    "normalizador_y.fit(y_treino)"
   ]
  },
  {
   "cell_type": "markdown",
   "id": "8361bd3d-12f0-4872-a7af-ecbc2f632b58",
   "metadata": {},
   "source": [
    "## Baseline"
   ]
  },
  {
   "cell_type": "code",
   "execution_count": 114,
   "id": "79ae6f7d-8af1-4df0-91ff-92d7cfd46bfd",
   "metadata": {},
   "outputs": [
    {
     "name": "stdout",
     "output_type": "stream",
     "text": [
      "[0.84847435 0.84847435 0.84847435 ... 0.84847435 0.84847435 0.84847435]\n"
     ]
    }
   ],
   "source": [
    "# cria o modelo\n",
    "modelo_baseline = DummyRegressor()\n",
    "# treina o modelo\n",
    "modelo_baseline.fit(normalizador_x.transform(X_treino),normalizador_y.transform(y_treino))\n",
    "\n",
    "# realiza uma previsão usando o modelo treinado\n",
    "previsao = modelo_baseline.predict(normalizador_x.transform(X_treino))\n",
    "#previsao = normalizador_y.inverse_transform(previsao)\n",
    "print(previsao)"
   ]
  },
  {
   "cell_type": "code",
   "execution_count": 115,
   "id": "35f140ff-3abb-4b91-b4a4-0a1f2a0b9bf5",
   "metadata": {},
   "outputs": [
    {
     "name": "stdout",
     "output_type": "stream",
     "text": [
      "O RMSE do modelo linear foi de 0.25423701029201057\n"
     ]
    }
   ],
   "source": [
    "y_verdadeiro = y_teste\n",
    "y_previsao = modelo_baseline.predict(normalizador_x.transform(X_teste))\n",
    "#y_previsao = normalizador_y.inverse_transform(y_previsao)\n",
    "\n",
    "RMSE = mean_squared_error(y_verdadeiro, y_previsao, squared=False)\n",
    "\n",
    "print(f\"O RMSE do modelo linear foi de {RMSE}\")"
   ]
  },
  {
   "cell_type": "markdown",
   "id": "65f2e208-be67-47dc-8801-2a9502232eb1",
   "metadata": {},
   "source": [
    "## K-vizinhos mais próximos"
   ]
  },
  {
   "cell_type": "code",
   "execution_count": 116,
   "id": "1e40d362-c8e7-4bda-9ad9-e5e82a365057",
   "metadata": {},
   "outputs": [
    {
     "name": "stdout",
     "output_type": "stream",
     "text": [
      "[[1.  ]\n",
      " [1.  ]\n",
      " [0.97]\n",
      " ...\n",
      " [1.  ]\n",
      " [0.98]\n",
      " [1.  ]]\n"
     ]
    }
   ],
   "source": [
    "# cria o modelo\n",
    "modelo_knm = KNeighborsRegressor()\n",
    "\n",
    "# treina o modelo\n",
    "modelo_knm.fit(\n",
    "    normalizador_x.transform(X_treino),\n",
    "    normalizador_y.transform(y_treino),\n",
    ")\n",
    "\n",
    "# realiza uma previsão usando o modelo treinado\n",
    "previsao = modelo_knm.predict(normalizador_x.transform(X_treino))\n",
    "previsao = normalizador_y.inverse_transform(previsao)\n",
    "print(previsao)"
   ]
  },
  {
   "cell_type": "code",
   "execution_count": 117,
   "id": "92759cb4-0608-4150-ba85-993931668aad",
   "metadata": {},
   "outputs": [
    {
     "name": "stdout",
     "output_type": "stream",
     "text": [
      "O RMSE do modelo linear foi de 0.08759935110152076 com 1 vizinhos.\n",
      "O RMSE do modelo linear foi de 0.08759935110152076 com 5 vizinhos.\n",
      "O RMSE do modelo linear foi de 0.08759935110152076 com 10 vizinhos.\n",
      "O RMSE do modelo linear foi de 0.08759935110152076 com 15 vizinhos.\n",
      "O RMSE do modelo linear foi de 0.08759935110152076 com 20 vizinhos.\n"
     ]
    }
   ],
   "source": [
    "NUM_VIZINHOS = [1, 5, 10, 15, 20]\n",
    "\n",
    "for n in NUM_VIZINHOS:\n",
    "    modelo_knn = KNeighborsRegressor(n_neighbors=n)\n",
    "\n",
    "    modelo_knm.fit(normalizador_x.transform(X_treino),normalizador_y.transform(y_treino))\n",
    "    y_verdadeiro = y_teste\n",
    "    y_previsao = modelo_knm.predict(normalizador_x.transform(X_teste))\n",
    "    y_previsao = normalizador_y.inverse_transform(y_previsao)\n",
    "    RMSE = mean_squared_error(y_verdadeiro, y_previsao, squared=False)\n",
    "    print(f\"O RMSE do modelo linear foi de {RMSE} com {n} vizinhos.\")"
   ]
  },
  {
   "cell_type": "markdown",
   "id": "d21f138c-9162-409b-93b6-1f70a4770046",
   "metadata": {},
   "source": [
    "## Modelo de Regressão Linear"
   ]
  },
  {
   "cell_type": "code",
   "execution_count": 118,
   "id": "a8bb7d74-d3f1-4cba-bf38-67d2c7a20cbb",
   "metadata": {},
   "outputs": [
    {
     "name": "stdout",
     "output_type": "stream",
     "text": [
      "[[0.88141621]\n",
      " [0.81105356]\n",
      " [0.85321921]\n",
      " ...\n",
      " [0.8747693 ]\n",
      " [0.87064896]\n",
      " [0.88084116]]\n"
     ]
    }
   ],
   "source": [
    "# cria o modelo\n",
    "modelo_linear = LinearRegression()\n",
    "\n",
    "# treina o modelo\n",
    "modelo_linear.fit(normalizador_x.transform(X_treino), normalizador_y.transform(y_treino))\n",
    "\n",
    "# realiza uma previsão usando o modelo treinado\n",
    "previsao = modelo_linear.predict(normalizador_x.transform(X_treino))\n",
    "previsao = normalizador_y.inverse_transform(previsao)\n",
    "print(previsao)"
   ]
  },
  {
   "cell_type": "code",
   "execution_count": 119,
   "id": "cb71b547-c32e-4b30-bdab-e76e68a3da5b",
   "metadata": {},
   "outputs": [
    {
     "name": "stdout",
     "output_type": "stream",
     "text": [
      "[[0.88141621]\n",
      " [0.81105356]\n",
      " [0.85321921]\n",
      " ...\n",
      " [0.8747693 ]\n",
      " [0.87064896]\n",
      " [0.88084116]]\n"
     ]
    }
   ],
   "source": [
    "# cria o modelo\n",
    "modelo_linear = LinearRegression()\n",
    "\n",
    "# treina o modelo\n",
    "modelo_linear.fit(normalizador_x.transform(X_treino), normalizador_y.transform(y_treino))\n",
    "\n",
    "# realiza uma previsão usando o modelo treinado\n",
    "previsao = modelo_linear.predict(normalizador_x.transform(X_treino))\n",
    "previsao = normalizador_y.inverse_transform(previsao)\n",
    "print(previsao)"
   ]
  },
  {
   "cell_type": "markdown",
   "id": "dcea218e-b6db-4c6d-a25e-4525f6e74ea3",
   "metadata": {},
   "source": [
    "## Árvore de Decisão"
   ]
  },
  {
   "cell_type": "code",
   "execution_count": 120,
   "id": "5b443540-8d12-405f-8f0d-a2013092fd29",
   "metadata": {},
   "outputs": [
    {
     "name": "stdout",
     "output_type": "stream",
     "text": [
      "[1.         1.         0.96969697 ... 1.         1.         1.        ]\n"
     ]
    }
   ],
   "source": [
    "# cria o modelo\n",
    "modelo_dt = DecisionTreeRegressor(random_state=SEMENTE_ALEATORIA)\n",
    "\n",
    "# treina o modelo\n",
    "modelo_dt.fit(normalizador_x.transform(X_treino), normalizador_y.transform(y_treino))\n",
    "\n",
    "# realiza uma previsão usando o modelo treinado\n",
    "previsao = modelo_dt.predict(normalizador_x.transform(X_treino))\n",
    "#previsao = normalizador_y.inverse_transform(previsao)\n",
    "print(previsao)"
   ]
  },
  {
   "cell_type": "code",
   "execution_count": 121,
   "id": "14e9e268-9c8d-4e93-96af-6231e70f8b15",
   "metadata": {},
   "outputs": [
    {
     "name": "stdout",
     "output_type": "stream",
     "text": [
      "O RMSE do modelo linear foi de 0.08196837971262753.\n"
     ]
    }
   ],
   "source": [
    "y_verdadeiro = y_teste\n",
    "y_previsao = modelo_dt.predict(normalizador_x.transform(X_teste))\n",
    "#y_previsao = normalizador_y.inverse_transform(y_previsao)\n",
    "\n",
    "RMSE = mean_squared_error(y_verdadeiro, y_previsao, squared=False)\n",
    "\n",
    "print(f\"O RMSE do modelo linear foi de {RMSE}.\")"
   ]
  },
  {
   "cell_type": "markdown",
   "id": "72ca804c-241c-4d9a-aaf8-d0fd6df4130c",
   "metadata": {},
   "source": [
    "#### HIPERPARÂMETROS"
   ]
  },
  {
   "cell_type": "code",
   "execution_count": 123,
   "id": "240610ab-ee2f-4b6d-9d48-be624da57cf6",
   "metadata": {},
   "outputs": [
    {
     "name": "stdout",
     "output_type": "stream",
     "text": [
      "O RMSE do modelo AD usando max_leaf_nodes=None e max_depth=None foi de 0.08.\n",
      "O RMSE do modelo AD usando max_leaf_nodes=None e max_depth=3 foi de 0.20.\n",
      "O RMSE do modelo AD usando max_leaf_nodes=None e max_depth=10 foi de 0.15.\n",
      "O RMSE do modelo AD usando max_leaf_nodes=6 e max_depth=None foi de 0.20.\n",
      "O RMSE do modelo AD usando max_leaf_nodes=6 e max_depth=3 foi de 0.20.\n",
      "O RMSE do modelo AD usando max_leaf_nodes=6 e max_depth=10 foi de 0.20.\n",
      "O RMSE do modelo AD usando max_leaf_nodes=36 e max_depth=None foi de 0.17.\n",
      "O RMSE do modelo AD usando max_leaf_nodes=36 e max_depth=3 foi de 0.20.\n",
      "O RMSE do modelo AD usando max_leaf_nodes=36 e max_depth=10 foi de 0.17.\n"
     ]
    }
   ],
   "source": [
    "NUM_FOLHAS = [None, 6, 36]\n",
    "NUM_PROFUNDIDADE = [None, 3, 10]\n",
    "\n",
    "for n_folhas, n_profundidade in product(NUM_FOLHAS, NUM_PROFUNDIDADE):\n",
    "    modelo_dt = DecisionTreeRegressor(\n",
    "        max_leaf_nodes=n_folhas,\n",
    "        max_depth=n_profundidade,\n",
    "        random_state=SEMENTE_ALEATORIA,\n",
    "    )\n",
    "\n",
    "    modelo_dt.fit(normalizador_x.transform(X_treino), normalizador_y.transform(y_treino))\n",
    "\n",
    "    y_verdadeiro = y_teste\n",
    "    y_previsao = modelo_dt.predict(normalizador_x.transform(X_teste))\n",
    "    #y_previsao = normalizador_y.inverse_transform(y_previsao)\n",
    "    RMSE = mean_squared_error(y_verdadeiro, y_previsao, squared=False)\n",
    "\n",
    "    print(\n",
    "        f\"O RMSE do modelo AD usando max_leaf_nodes={n_folhas} \"\n",
    "        f\"e max_depth={n_profundidade} foi de {RMSE:.2f}.\"\n",
    "    )"
   ]
  },
  {
   "cell_type": "markdown",
   "id": "edae8439-ab65-406e-85fa-55901f84cb23",
   "metadata": {},
   "source": [
    "#### GRÁFICO DO MODELO DE ÁRVORE DE DECISÕES"
   ]
  },
  {
   "cell_type": "code",
   "execution_count": 124,
   "id": "01bd3e31-06cb-40fe-8840-b4982ecb3145",
   "metadata": {},
   "outputs": [
    {
     "data": {
      "image/png": "[encoded data removed]",
      "text/plain": [
       "<Figure size 1050x600 with 1 Axes>"
      ]
     },
     "metadata": {
      "needs_background": "light"
     },
     "output_type": "display_data"
    }
   ],
   "source": [
    "# cria e treina o modelo\n",
    "modelo_dt = DecisionTreeRegressor(\n",
    "    max_leaf_nodes=6,\n",
    "    random_state=SEMENTE_ALEATORIA,\n",
    ")\n",
    "modelo_dt.fit(normalizador_x.transform(X_treino), normalizador_y.transform(y_treino))\n",
    "\n",
    "# cria os objetos de figura e eixo\n",
    "fig, axe = plt.subplots(\n",
    "    ncols=1,\n",
    "    nrows=1,\n",
    "    figsize=(7, 4),\n",
    "    dpi=150,\n",
    ")\n",
    "\n",
    "# plota o grafo da árvore de decisão\n",
    "tree.plot_tree(\n",
    "    modelo_dt,\n",
    "    feature_names=FEATURES,\n",
    "    ax=axe,\n",
    "    impurity=False,\n",
    "    filled=True,\n",
    "    proportion=True,\n",
    "    precision=2,\n",
    ")\n",
    "\n",
    "# mostra o plot para o usuário\n",
    "plt.show()"
   ]
  },
  {
   "cell_type": "markdown",
   "id": "21d0b3e4-6faa-4cc9-a401-f6ae400990e4",
   "metadata": {},
   "source": [
    "## Floresta aleatória"
   ]
  },
  {
   "cell_type": "markdown",
   "id": "9ab240f0-49ed-492e-b238-8ef19c6ce54c",
   "metadata": {},
   "source": [
    "*a ser feito*"
   ]
  },
  {
   "cell_type": "markdown",
   "id": "0ffe9c78-2015-4888-9965-d42ed637d0c7",
   "metadata": {},
   "source": [
    "*a ser feito*"
   ]
  },
  {
   "cell_type": "markdown",
   "id": "7d734a3d-88c6-4f7c-9dea-4eceac22c111",
   "metadata": {},
   "source": [
    "<hr>"
   ]
  },
  {
   "cell_type": "markdown",
   "id": "4f4f9c4a-b8f7-43a7-8b36-cc5b164ef19b",
   "metadata": {
    "tags": []
   },
   "source": [
    "### **TREINO DE MODELOS NÃO - NORMALIZADOS:**"
   ]
  },
  {
   "cell_type": "markdown",
   "id": "7c8cd018-5aee-4ac6-b8b0-8d1961a50251",
   "metadata": {},
   "source": [
    "## Baseline"
   ]
  },
  {
   "cell_type": "code",
   "execution_count": 130,
   "id": "ebc48e7d-c853-4f11-a3c6-502319ffd90e",
   "metadata": {},
   "outputs": [
    {
     "name": "stdout",
     "output_type": "stream",
     "text": [
      "[0.84998961 0.84998961 0.84998961 ... 0.84998961 0.84998961 0.84998961]\n"
     ]
    }
   ],
   "source": [
    "# cria o modelo\n",
    "modelo_baseline = DummyRegressor()\n",
    "# treina o modelo\n",
    "modelo_baseline.fit(X_treino, y_treino)\n",
    "# realiza uma previsão usando o modelo treinado\n",
    "previsao = modelo_baseline.predict(X_teste)\n",
    "print(previsao)"
   ]
  },
  {
   "cell_type": "code",
   "execution_count": 131,
   "id": "127881b6-dfdd-42ac-8f77-af4035faa7c9",
   "metadata": {},
   "outputs": [
    {
     "name": "stdout",
     "output_type": "stream",
     "text": [
      "O RMSE do modelo baseline foi de 0.2542253273416988.\n"
     ]
    }
   ],
   "source": [
    "y_verdadeiro = y_teste\n",
    "y_previsao = modelo_baseline.predict(X_teste)\n",
    "RMSE = mean_squared_error(y_verdadeiro, y_previsao, squared=False)\n",
    "print(f\"O RMSE do modelo baseline foi de {RMSE}.\")"
   ]
  },
  {
   "cell_type": "markdown",
   "id": "85bb53a5-618c-4c9e-bc19-a5f334de71a9",
   "metadata": {},
   "source": [
    "## K-vizinhos mais próximos"
   ]
  },
  {
   "cell_type": "code",
   "execution_count": 132,
   "id": "cca6ea1f-564c-4ffa-adfa-f87c7a64615f",
   "metadata": {},
   "outputs": [
    {
     "name": "stdout",
     "output_type": "stream",
     "text": [
      "O RMSE do modelo k-NN foi de 0.08039338505468364 com 1 vizinhos.\n",
      "O RMSE do modelo k-NN foi de 0.09618881660830106 com 5 vizinhos.\n",
      "O RMSE do modelo k-NN foi de 0.10954420439863449 com 10 vizinhos.\n",
      "O RMSE do modelo k-NN foi de 0.11919214194856101 com 15 vizinhos.\n",
      "O RMSE do modelo k-NN foi de 0.12525708121497037 com 20 vizinhos.\n"
     ]
    }
   ],
   "source": [
    "NUM_VIZINHOS = [1, 5, 10, 15, 20]\n",
    "\n",
    "for n in NUM_VIZINHOS:\n",
    "    modelo_knn = KNeighborsRegressor(n_neighbors=n)\n",
    "    \n",
    "    modelo_knn.fit(X_treino, y_treino)\n",
    "    \n",
    "    y_verdadeiro = y_teste\n",
    "    y_previsao = modelo_knn.predict(X_teste)\n",
    "\n",
    "    RMSE_knn = mean_squared_error(y_verdadeiro, y_previsao, squared=False)\n",
    "\n",
    "    print(f\"O RMSE do modelo k-NN foi de {RMSE_knn} com {n} vizinhos.\")"
   ]
  },
  {
   "cell_type": "markdown",
   "id": "60a5e2e9-c7fa-4957-95e3-a502b1ac395d",
   "metadata": {},
   "source": [
    "## Modelo de Regressão Linear"
   ]
  },
  {
   "cell_type": "code",
   "execution_count": 133,
   "id": "5c6b2328-e529-4f88-a76f-d8502f70e79a",
   "metadata": {},
   "outputs": [
    {
     "name": "stdout",
     "output_type": "stream",
     "text": [
      "[0.84295707 0.77932213 0.83871419 ... 0.90402853 0.85529304 0.88978477]\n"
     ]
    }
   ],
   "source": [
    "# cria o modelo\n",
    "modelo_linear = LinearRegression()\n",
    "\n",
    "# treina o modelo\n",
    "modelo_linear.fit(X_treino, y_treino)\n",
    "\n",
    "# realiza uma previsão usando o modelo treinado\n",
    "previsao = modelo_linear.predict(X_teste)\n",
    "print(previsao)"
   ]
  },
  {
   "cell_type": "code",
   "execution_count": 134,
   "id": "286f3fb6-7d52-48a1-9008-74c432eca846",
   "metadata": {},
   "outputs": [
    {
     "name": "stdout",
     "output_type": "stream",
     "text": [
      "O RMSE do modelo linear foi de 0.23769024621130788.\n"
     ]
    }
   ],
   "source": [
    "y_verdadeiro = y_teste\n",
    "y_previsao = modelo_linear.predict(X_teste)\n",
    "\n",
    "RMSE = mean_squared_error(y_verdadeiro, y_previsao, squared=False)\n",
    "\n",
    "print(f\"O RMSE do modelo linear foi de {RMSE}.\")"
   ]
  },
  {
   "cell_type": "markdown",
   "id": "5da5816c-cc0b-4819-a50f-a7e3d08d7889",
   "metadata": {},
   "source": [
    "## Árvore de Decisão"
   ]
  },
  {
   "cell_type": "code",
   "execution_count": 135,
   "id": "fdf41b46-905f-4086-baa7-4f8d37675cd3",
   "metadata": {},
   "outputs": [
    {
     "name": "stdout",
     "output_type": "stream",
     "text": [
      "[0.8  0.69 0.92 ... 1.   1.   1.  ]\n"
     ]
    }
   ],
   "source": [
    "# cria o modelo\n",
    "modelo_ad = DecisionTreeRegressor(random_state=SEMENTE_ALEATORIA)\n",
    "\n",
    "# treina o modelo\n",
    "modelo_ad.fit(X_treino, y_treino)\n",
    "\n",
    "# realiza uma previsão usando o modelo treinado\n",
    "previsao_ad = modelo_ad.predict(X_teste)\n",
    "print(previsao_ad)"
   ]
  },
  {
   "cell_type": "code",
   "execution_count": 136,
   "id": "19394c0b-bd4b-4e53-b3c0-29b3b613510c",
   "metadata": {},
   "outputs": [
    {
     "name": "stdout",
     "output_type": "stream",
     "text": [
      "O RMSE do modelo árvore de decisão foi de 0.08121002222868678.\n"
     ]
    }
   ],
   "source": [
    "y_verdadeiro = y_teste\n",
    "y_previsao = modelo_ad.predict(X_teste)\n",
    "\n",
    "RMSE_ad = mean_squared_error(y_verdadeiro, y_previsao, squared=False)\n",
    "\n",
    "print(f\"O RMSE do modelo árvore de decisão foi de {RMSE_ad}.\")"
   ]
  },
  {
   "cell_type": "code",
   "execution_count": 137,
   "id": "0cff4f4f-f5a2-4f8f-aaed-a629cfb4ca60",
   "metadata": {},
   "outputs": [
    {
     "name": "stdout",
     "output_type": "stream",
     "text": [
      "O RMSE do modelo AD usando max_leaf_nodes=None e max_depth=None foi de 0.08.\n",
      "O RMSE do modelo AD usando max_leaf_nodes=None e max_depth=3 foi de 0.20.\n",
      "O RMSE do modelo AD usando max_leaf_nodes=None e max_depth=10 foi de 0.15.\n",
      "O RMSE do modelo AD usando max_leaf_nodes=6 e max_depth=None foi de 0.20.\n",
      "O RMSE do modelo AD usando max_leaf_nodes=6 e max_depth=3 foi de 0.20.\n",
      "O RMSE do modelo AD usando max_leaf_nodes=6 e max_depth=10 foi de 0.20.\n",
      "O RMSE do modelo AD usando max_leaf_nodes=36 e max_depth=None foi de 0.17.\n",
      "O RMSE do modelo AD usando max_leaf_nodes=36 e max_depth=3 foi de 0.20.\n",
      "O RMSE do modelo AD usando max_leaf_nodes=36 e max_depth=10 foi de 0.17.\n"
     ]
    }
   ],
   "source": [
    "NUM_FOLHAS = [None, 6, 36]\n",
    "NUM_PROFUNDIDADE = [None, 3, 10]\n",
    "\n",
    "for n_folhas, n_profundidade in product(NUM_FOLHAS, NUM_PROFUNDIDADE):\n",
    "    modelo_ad = DecisionTreeRegressor(\n",
    "        max_leaf_nodes=n_folhas,\n",
    "        max_depth=n_profundidade,\n",
    "        random_state=SEMENTE_ALEATORIA,\n",
    "    )\n",
    "\n",
    "    modelo_ad.fit(X_treino, y_treino)\n",
    "\n",
    "    y_verdadeiro = y_teste\n",
    "    y_previsao = modelo_ad.predict(X_teste)\n",
    "    RMSE_ad = mean_squared_error(y_verdadeiro, y_previsao, squared=False)\n",
    "\n",
    "    print(\n",
    "        f\"O RMSE do modelo AD usando max_leaf_nodes={n_folhas} \"\n",
    "        f\"e max_depth={n_profundidade} foi de {RMSE_ad:.2f}.\"\n",
    "    )"
   ]
  },
  {
   "cell_type": "markdown",
   "id": "987258b4-55c1-4479-9d7e-ac0817f539f8",
   "metadata": {},
   "source": [
    "#### MUDANDO OS HIPERPARÂMETROS"
   ]
  },
  {
   "cell_type": "code",
   "execution_count": 141,
   "id": "24582439-bad6-47d6-a7a9-8b05b8880998",
   "metadata": {},
   "outputs": [
    {
     "name": "stdout",
     "output_type": "stream",
     "text": [
      "O RMSE do modelo AD usando max_leaf_nodes=None e max_depth=None foi de 0.08.\n",
      "O RMSE do modelo AD usando max_leaf_nodes=None e max_depth=3 foi de 0.20.\n",
      "O RMSE do modelo AD usando max_leaf_nodes=None e max_depth=10 foi de 0.15.\n",
      "O RMSE do modelo AD usando max_leaf_nodes=6 e max_depth=None foi de 0.20.\n",
      "O RMSE do modelo AD usando max_leaf_nodes=6 e max_depth=3 foi de 0.20.\n",
      "O RMSE do modelo AD usando max_leaf_nodes=6 e max_depth=10 foi de 0.20.\n",
      "O RMSE do modelo AD usando max_leaf_nodes=36 e max_depth=None foi de 0.17.\n",
      "O RMSE do modelo AD usando max_leaf_nodes=36 e max_depth=3 foi de 0.20.\n",
      "O RMSE do modelo AD usando max_leaf_nodes=36 e max_depth=10 foi de 0.17.\n"
     ]
    }
   ],
   "source": [
    "NUM_FOLHAS = [None, 4, 24]\n",
    "NUM_PROFUNDIDADE = [None, 2, 10]\n",
    "\n",
    "for n_folhas, n_profundidade in product(NUM_FOLHAS, NUM_PROFUNDIDADE):\n",
    "    modelo_ad2 = DecisionTreeRegressor(\n",
    "        max_leaf_nodes=n_folhas,\n",
    "        max_depth=n_profundidade,\n",
    "        random_state=SEMENTE_ALEATORIA,\n",
    "    )\n",
    "\n",
    "    modelo_ad2.fit(X_treino, y_treino)\n",
    "\n",
    "    y_verdadeiro = y_teste\n",
    "    y_previsao = modelo_ad2.predict(X_teste)\n",
    "    RMSE_ad2 = mean_squared_error(y_verdadeiro, y_previsao, squared=False)\n",
    "\n",
    "    print(\n",
    "        f\"O RMSE do modelo AD usando max_leaf_nodes={n_folhas} \"\n",
    "        f\"e max_depth={n_profundidade} foi de {RMSE_ad2:.2f}.\"\n",
    "    )"
   ]
  },
  {
   "cell_type": "markdown",
   "id": "d84d0f6c-9c5f-4b32-8ed6-6bdc3089eb5a",
   "metadata": {},
   "source": [
    "## Floresta aleatória"
   ]
  },
  {
   "cell_type": "code",
   "execution_count": null,
   "id": "d7ca6c7f-6b51-459d-8410-a73f2f547e23",
   "metadata": {},
   "outputs": [
    {
     "name": "stdout",
     "output_type": "stream",
     "text": [
      "(238626,) (26515,)\n",
      "(238626,) (26515,)\n"
     ]
    }
   ],
   "source": [
    "# alterando o formato do target\n",
    "print(y_treino.shape, y_teste.shape)\n",
    "y_treino = y_treino.ravel()\n",
    "y_teste = y_teste.ravel()\n",
    "print(y_treino.shape, y_teste.shape)\n",
    "\n",
    "# cria o modelo\n",
    "modelo_fa = RandomForestRegressor(random_state=SEMENTE_ALEATORIA)\n",
    "\n",
    "# treina o modelo\n",
    "modelo_fa.fit(X_treino, y_treino)\n",
    "\n",
    "# realiza uma previsão usando o modelo treinado\n",
    "previsao_fa = modelo_fa.predict(X_teste)\n",
    "print()\n",
    "print(previsao_fa)"
   ]
  },
  {
   "cell_type": "code",
   "execution_count": null,
   "id": "a4609263-292f-4e7c-af44-57fa7611e26e",
   "metadata": {},
   "outputs": [],
   "source": [
    "y_verdadeiro = y_teste\n",
    "y_previsao = modelo_fa.predict(X_teste)\n",
    "\n",
    "RMSE_fa = mean_squared_error(y_verdadeiro, y_previsao, squared=False)\n",
    "\n",
    "print(f\"O RMSE do modelo de floresta aleatória foi de {RMSE_fa}.\")"
   ]
  },
  {
   "cell_type": "code",
   "execution_count": null,
   "id": "c88b4883-2cc8-4491-9213-a2adc34a81f7",
   "metadata": {},
   "outputs": [],
   "source": []
  }
 ],
 "metadata": {
  "kernelspec": {
   "display_name": "ilumpy",
   "language": "python",
   "name": "ilumpy"
  },
  "language_info": {
   "codemirror_mode": {
    "name": "ipython",
    "version": 3
   },
   "file_extension": ".py",
   "mimetype": "text/x-python",
   "name": "python",
   "nbconvert_exporter": "python",
   "pygments_lexer": "ipython3",
   "version": "3.9.7"
  }
 },
 "nbformat": 4,
 "nbformat_minor": 5
}
