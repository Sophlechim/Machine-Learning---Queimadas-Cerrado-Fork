{
 "cells": [
  {
   "cell_type": "markdown",
   "id": "7e0ecf89-bcac-4e8e-8d72-33abeab87314",
   "metadata": {},
   "source": [
    "# Bloco 2"
   ]
  },
  {
   "cell_type": "markdown",
   "id": "19d94679-10e8-4564-a34e-e745bde97d07",
   "metadata": {},
   "source": [
    "<p align=\"justify\">\n",
    "Este trabalho é referente as tarefas desenvolvidas no Bloco 2. Espera-se desenvolver um projeto capaz de utilizar os comandos aprendidos pela linguagem de programação Python, na disciplina de Aprendizado de Máquina, além de desenvolver um sistema de previsão através de Machine Learning. Neste bloco, as discentes estão aplicando modelos de treinamento de Machine Learning e analisando o metódo que melhor se adequa a target e os features estabelecidos. O grupo desenvolvedor é composto pelas discentes:\n",
    "<p align=\"justify\">\n",
    "Isabela Bento Beneti </p>\n",
    "<p align=\"justify\">\n",
    "Monyque Karoline de Paula Silva </p>\n",
    "<p align=\"justify\">\n",
    "Sofia Baccega C.C. de Oliveira </p>\n",
    "<p align=\"justify\">\n",
    "Sophia Figueiredo Michel </p>\n",
    "<hr>"
   ]
  },
  {
   "cell_type": "markdown",
   "id": "6362ec54-b405-49b1-8d24-af13227caa75",
   "metadata": {},
   "source": [
    "### **COLETA DE DADOS**"
   ]
  },
  {
   "cell_type": "code",
   "execution_count": 1,
   "id": "65696d67-1b86-420b-8db9-b88a224ac8ab",
   "metadata": {},
   "outputs": [],
   "source": [
    "import pandas as pd\n",
    "import seaborn as sns\n",
    "import matplotlib.pyplot as plt\n",
    "import numpy as np\n",
    "from scipy import stats\n",
    "\n",
    "from sklearn.pipeline import Pipeline\n",
    "from sklearn.preprocessing import PolynomialFeatures\n",
    "from sklearn.linear_model import LinearRegression\n",
    "from sklearn.model_selection import train_test_split\n",
    "from sklearn.dummy import DummyRegressor\n",
    "from sklearn.metrics import mean_squared_error\n",
    "from sklearn.neighbors import KNeighborsRegressor\n",
    "from sklearn.preprocessing import MinMaxScaler\n",
    "from sklearn.tree import DecisionTreeRegressor\n",
    "from sklearn.ensemble import RandomForestRegressor\n",
    "from sklearn.model_selection import GridSearchCV\n",
    "from sklearn import tree\n",
    "\n",
    "from itertools import product\n",
    "from matplotlib import pyplot as plt"
   ]
  },
  {
   "cell_type": "code",
   "execution_count": 2,
   "id": "1ee5cc51-eb03-4aa7-854a-a2c9bd8d469f",
   "metadata": {},
   "outputs": [],
   "source": [
    "#Dados do Cerrado Brasileiro, armazenados mensalmente via .csv\n",
    "arquivos = ['janeiro.csv','fev.csv','marco.csv','abril.csv','maio.csv','junho.csv','julho.csv']"
   ]
  },
  {
   "cell_type": "code",
   "execution_count": 3,
   "id": "1c89666b-abd7-44eb-b059-14677d8b3cc2",
   "metadata": {},
   "outputs": [],
   "source": [
    "def read_csv(list_of_files):\n",
    "    dfs = []\n",
    "    for x in list_of_files:\n",
    "        file = pd.read_csv(x, sep=',')\n",
    "        dfs.append(file)\n",
    "    df = pd.concat(dfs).reset_index(drop=True)\n",
    "        \n",
    "    return df"
   ]
  },
  {
   "cell_type": "code",
   "execution_count": 4,
   "id": "f204a0ae-84e8-48b3-801f-5ae6e92f6daa",
   "metadata": {},
   "outputs": [],
   "source": [
    "meses = read_csv(arquivos)"
   ]
  },
  {
   "cell_type": "code",
   "execution_count": 5,
   "id": "afd6bd47-487d-4d23-8e2f-7a90f0234ac7",
   "metadata": {},
   "outputs": [],
   "source": [
    "#Dados trabalhados para a eliminação de NaN nas colunas e identificação dos tipos de dados\n",
    "meses.convert_dtypes()\n",
    "meses.dropna(how='any', inplace=True)"
   ]
  },
  {
   "cell_type": "code",
   "execution_count": 6,
   "id": "44da7365-5d20-4b44-a59d-d0a9b82a4567",
   "metadata": {},
   "outputs": [],
   "source": [
    "meses.drop(columns=['Unnamed: 0','estado', 'satelite', 'municipio', 'pais', 'municipio_id', 'estado_id', 'pais_id', 'bioma'], axis = 1, inplace=True)"
   ]
  },
  {
   "cell_type": "code",
   "execution_count": 7,
   "id": "9bc49fcb-111f-4379-a357-34797389b9c5",
   "metadata": {},
   "outputs": [],
   "source": [
    "meses_fogo = meses['risco_fogo'] > 0\n",
    "meses = meses[meses_fogo]"
   ]
  },
  {
   "cell_type": "code",
   "execution_count": 8,
   "id": "b225097c-aa26-4bed-a3e9-f785fea52431",
   "metadata": {},
   "outputs": [
    {
     "data": {
      "text/html": [
       "<div>\n",
       "<style scoped>\n",
       "    .dataframe tbody tr th:only-of-type {\n",
       "        vertical-align: middle;\n",
       "    }\n",
       "\n",
       "    .dataframe tbody tr th {\n",
       "        vertical-align: top;\n",
       "    }\n",
       "\n",
       "    .dataframe thead th {\n",
       "        text-align: right;\n",
       "    }\n",
       "</style>\n",
       "<table border=\"1\" class=\"dataframe\">\n",
       "  <thead>\n",
       "    <tr style=\"text-align: right;\">\n",
       "      <th></th>\n",
       "      <th>lat</th>\n",
       "      <th>lon</th>\n",
       "      <th>data_hora_gmt</th>\n",
       "      <th>numero_dias_sem_chuva</th>\n",
       "      <th>precipitacao</th>\n",
       "      <th>risco_fogo</th>\n",
       "    </tr>\n",
       "  </thead>\n",
       "  <tbody>\n",
       "    <tr>\n",
       "      <th>0</th>\n",
       "      <td>-12.314859</td>\n",
       "      <td>-43.234066</td>\n",
       "      <td>2022-03-02 01:05:48</td>\n",
       "      <td>9.0</td>\n",
       "      <td>2.7</td>\n",
       "      <td>1.0</td>\n",
       "    </tr>\n",
       "    <tr>\n",
       "      <th>1</th>\n",
       "      <td>-20.227880</td>\n",
       "      <td>-46.415940</td>\n",
       "      <td>2022-03-02 01:28:00</td>\n",
       "      <td>8.0</td>\n",
       "      <td>0.0</td>\n",
       "      <td>0.3</td>\n",
       "    </tr>\n",
       "    <tr>\n",
       "      <th>2</th>\n",
       "      <td>-20.229250</td>\n",
       "      <td>-46.426820</td>\n",
       "      <td>2022-03-02 01:28:00</td>\n",
       "      <td>8.0</td>\n",
       "      <td>0.0</td>\n",
       "      <td>0.3</td>\n",
       "    </tr>\n",
       "    <tr>\n",
       "      <th>3</th>\n",
       "      <td>-20.238930</td>\n",
       "      <td>-46.425510</td>\n",
       "      <td>2022-03-02 01:28:00</td>\n",
       "      <td>8.0</td>\n",
       "      <td>0.0</td>\n",
       "      <td>0.4</td>\n",
       "    </tr>\n",
       "    <tr>\n",
       "      <th>4</th>\n",
       "      <td>-20.237550</td>\n",
       "      <td>-46.414600</td>\n",
       "      <td>2022-03-02 01:28:00</td>\n",
       "      <td>8.0</td>\n",
       "      <td>0.0</td>\n",
       "      <td>0.4</td>\n",
       "    </tr>\n",
       "    <tr>\n",
       "      <th>...</th>\n",
       "      <td>...</td>\n",
       "      <td>...</td>\n",
       "      <td>...</td>\n",
       "      <td>...</td>\n",
       "      <td>...</td>\n",
       "      <td>...</td>\n",
       "    </tr>\n",
       "    <tr>\n",
       "      <th>265136</th>\n",
       "      <td>-6.360000</td>\n",
       "      <td>-45.670000</td>\n",
       "      <td>2022-07-29 23:54:47</td>\n",
       "      <td>46.0</td>\n",
       "      <td>0.0</td>\n",
       "      <td>1.0</td>\n",
       "    </tr>\n",
       "    <tr>\n",
       "      <th>265137</th>\n",
       "      <td>-6.360000</td>\n",
       "      <td>-45.690000</td>\n",
       "      <td>2022-07-29 23:54:47</td>\n",
       "      <td>46.0</td>\n",
       "      <td>0.0</td>\n",
       "      <td>1.0</td>\n",
       "    </tr>\n",
       "    <tr>\n",
       "      <th>265138</th>\n",
       "      <td>-6.400000</td>\n",
       "      <td>-44.140000</td>\n",
       "      <td>2022-07-29 23:54:47</td>\n",
       "      <td>34.0</td>\n",
       "      <td>0.0</td>\n",
       "      <td>1.0</td>\n",
       "    </tr>\n",
       "    <tr>\n",
       "      <th>265139</th>\n",
       "      <td>-6.350000</td>\n",
       "      <td>-45.670000</td>\n",
       "      <td>2022-07-29 23:54:47</td>\n",
       "      <td>46.0</td>\n",
       "      <td>0.0</td>\n",
       "      <td>1.0</td>\n",
       "    </tr>\n",
       "    <tr>\n",
       "      <th>265140</th>\n",
       "      <td>-6.340000</td>\n",
       "      <td>-45.690000</td>\n",
       "      <td>2022-07-29 23:54:47</td>\n",
       "      <td>45.0</td>\n",
       "      <td>0.0</td>\n",
       "      <td>1.0</td>\n",
       "    </tr>\n",
       "  </tbody>\n",
       "</table>\n",
       "<p>265141 rows × 6 columns</p>\n",
       "</div>"
      ],
      "text/plain": [
       "              lat        lon        data_hora_gmt  numero_dias_sem_chuva  \\\n",
       "0      -12.314859 -43.234066  2022-03-02 01:05:48                    9.0   \n",
       "1      -20.227880 -46.415940  2022-03-02 01:28:00                    8.0   \n",
       "2      -20.229250 -46.426820  2022-03-02 01:28:00                    8.0   \n",
       "3      -20.238930 -46.425510  2022-03-02 01:28:00                    8.0   \n",
       "4      -20.237550 -46.414600  2022-03-02 01:28:00                    8.0   \n",
       "...           ...        ...                  ...                    ...   \n",
       "265136  -6.360000 -45.670000  2022-07-29 23:54:47                   46.0   \n",
       "265137  -6.360000 -45.690000  2022-07-29 23:54:47                   46.0   \n",
       "265138  -6.400000 -44.140000  2022-07-29 23:54:47                   34.0   \n",
       "265139  -6.350000 -45.670000  2022-07-29 23:54:47                   46.0   \n",
       "265140  -6.340000 -45.690000  2022-07-29 23:54:47                   45.0   \n",
       "\n",
       "        precipitacao  risco_fogo  \n",
       "0                2.7         1.0  \n",
       "1                0.0         0.3  \n",
       "2                0.0         0.3  \n",
       "3                0.0         0.4  \n",
       "4                0.0         0.4  \n",
       "...              ...         ...  \n",
       "265136           0.0         1.0  \n",
       "265137           0.0         1.0  \n",
       "265138           0.0         1.0  \n",
       "265139           0.0         1.0  \n",
       "265140           0.0         1.0  \n",
       "\n",
       "[265141 rows x 6 columns]"
      ]
     },
     "metadata": {},
     "output_type": "display_data"
    }
   ],
   "source": [
    "meses = meses.reset_index()\n",
    "del meses['index']\n",
    "display(meses)"
   ]
  },
  {
   "cell_type": "markdown",
   "id": "c6593aed-35d9-47d0-ac45-c46856886925",
   "metadata": {},
   "source": [
    "<hr>"
   ]
  },
  {
   "cell_type": "markdown",
   "id": "0ebfd051-f050-467e-a5f3-27031a2d1c0a",
   "metadata": {},
   "source": [
    "### DEFINIÇÕES DE TREINO E TESTE - PARAMETRIZAÇÕES"
   ]
  },
  {
   "cell_type": "code",
   "execution_count": 9,
   "id": "42dec6d6-fad9-42ca-ab62-b592fd5e19ab",
   "metadata": {},
   "outputs": [],
   "source": [
    "TAMANHO_TESTE = 0.1 # fração de dados utilizada para teste: 10%\n",
    "SEMENTE_ALEATORIA = 61455 # semente escolhida aleatoriamente\n",
    "DATASET_NAME = \"meses\"\n",
    "FEATURES = [\"numero_dias_sem_chuva\", \"precipitacao\", \"lat\", \"lon\"]\n",
    "TARGET = [\"risco_fogo\"]\n",
    "\n",
    "indices = meses.index\n",
    "indices_treino, indices_teste = train_test_split(\n",
    "    indices, test_size=TAMANHO_TESTE, random_state=SEMENTE_ALEATORIA\n",
    ")\n",
    "\n",
    "meses_treino = meses.loc[indices_treino]\n",
    "meses_teste = meses.loc[indices_teste]\n",
    "\n",
    "X_treino = meses_treino.reindex(FEATURES, axis=1).values\n",
    "y_treino = meses_treino.reindex(TARGET, axis=1).values\n",
    "X_teste = meses_teste.reindex(FEATURES, axis=1).values\n",
    "y_teste = meses_teste.reindex(TARGET, axis=1).values"
   ]
  },
  {
   "cell_type": "markdown",
   "id": "abe5979c-2641-44ab-9165-868b514d14ed",
   "metadata": {},
   "source": [
    "<hr>"
   ]
  },
  {
   "cell_type": "markdown",
   "id": "00559f2a-2f0e-4f91-942d-ff055a16d727",
   "metadata": {},
   "source": [
    "### **TREINO DE MODELOS NORMALIZADOS:**"
   ]
  },
  {
   "cell_type": "code",
   "execution_count": 10,
   "id": "a7d4e818-d5ba-4471-b3df-517afb2aab6b",
   "metadata": {},
   "outputs": [
    {
     "data": {
      "text/plain": [
       "MinMaxScaler()"
      ]
     },
     "execution_count": 10,
     "metadata": {},
     "output_type": "execute_result"
    }
   ],
   "source": [
    "#Normalização\n",
    "normalizador_x = MinMaxScaler()\n",
    "normalizador_y = MinMaxScaler()\n",
    "\n",
    "normalizador_x.fit(X_treino)\n",
    "normalizador_y.fit(y_treino)"
   ]
  },
  {
   "cell_type": "markdown",
   "id": "8361bd3d-12f0-4872-a7af-ecbc2f632b58",
   "metadata": {},
   "source": [
    "## 1. Baseline"
   ]
  },
  {
   "cell_type": "code",
   "execution_count": 11,
   "id": "79ae6f7d-8af1-4df0-91ff-92d7cfd46bfd",
   "metadata": {},
   "outputs": [
    {
     "name": "stdout",
     "output_type": "stream",
     "text": [
      "[0.84847435 0.84847435 0.84847435 ... 0.84847435 0.84847435 0.84847435]\n"
     ]
    }
   ],
   "source": [
    "# Criar  o modelo\n",
    "modelo_baseline = DummyRegressor()\n",
    "# Treinar o modelo\n",
    "modelo_baseline.fit(normalizador_x.transform(X_treino),normalizador_y.transform(y_treino))\n",
    "\n",
    "# Realiza uma previsão usando o modelo treinado\n",
    "previsao = modelo_baseline.predict(normalizador_x.transform(X_treino))\n",
    "print(previsao)"
   ]
  },
  {
   "cell_type": "code",
   "execution_count": 12,
   "id": "35f140ff-3abb-4b91-b4a4-0a1f2a0b9bf5",
   "metadata": {},
   "outputs": [
    {
     "name": "stdout",
     "output_type": "stream",
     "text": [
      "O RMSE do modelo baseline foi de 0.25423701029201057\n"
     ]
    }
   ],
   "source": [
    "#Análise do RMSE\n",
    "y_verdadeiro = y_teste\n",
    "y_previsao = modelo_baseline.predict(normalizador_x.transform(X_teste))\n",
    "\n",
    "RMSE = mean_squared_error(y_verdadeiro, y_previsao, squared=False)\n",
    "\n",
    "print(f\"O RMSE do modelo baseline foi de {RMSE}\")"
   ]
  },
  {
   "cell_type": "markdown",
   "id": "734cc023-6036-466b-a95b-ae5df7cbabc4",
   "metadata": {},
   "source": [
    "##### MODELO DE PREVISÃO"
   ]
  },
  {
   "cell_type": "code",
   "execution_count": 13,
   "id": "51ce1162-23eb-4185-b103-9fd59ed0d656",
   "metadata": {},
   "outputs": [
    {
     "data": {
      "image/png": "[encoded data removed]",
      "text/plain": [
       "<Figure size 432x288 with 1 Axes>"
      ]
     },
     "metadata": {
      "needs_background": "light"
     },
     "output_type": "display_data"
    }
   ],
   "source": [
    "#Plot \n",
    "plt.plot(y_verdadeiro, y_previsao, label = 'Teste de Precisão do Dataset', ls=\"none\", marker=\"o\", alpha=0.1, markersize=2)\n",
    "plt.title(\"Modelo de Previsão - Baseline\")\n",
    "plt.xlabel('Modelo Real')\n",
    "plt.ylabel('Modelo Previsão')\n",
    "plt.show()"
   ]
  },
  {
   "cell_type": "markdown",
   "id": "fb91234c-dab9-4cad-9a80-164dac98e599",
   "metadata": {},
   "source": [
    "##### ANÁLISE DOS RESULTADOS OBTIDOS "
   ]
  },
  {
   "cell_type": "markdown",
   "id": "5dd82b69-7c0a-4023-bb75-28647767bece",
   "metadata": {},
   "source": [
    "Este modelo realiza a média de todos os valores normalizados do modelo, apresentando uma resolução com eficiência baixa, a qual possui 25% de erro de predição."
   ]
  },
  {
   "cell_type": "markdown",
   "id": "65f2e208-be67-47dc-8801-2a9502232eb1",
   "metadata": {},
   "source": [
    "## 2. K-vizinhos mais próximos"
   ]
  },
  {
   "cell_type": "code",
   "execution_count": 14,
   "id": "1e40d362-c8e7-4bda-9ad9-e5e82a365057",
   "metadata": {},
   "outputs": [
    {
     "name": "stdout",
     "output_type": "stream",
     "text": [
      "[[1.  ]\n",
      " [1.  ]\n",
      " [0.97]\n",
      " ...\n",
      " [1.  ]\n",
      " [0.98]\n",
      " [1.  ]]\n"
     ]
    }
   ],
   "source": [
    "# cria o modelo\n",
    "modelo_knm = KNeighborsRegressor()\n",
    "\n",
    "# treina o modelo\n",
    "modelo_knm.fit(normalizador_x.transform(X_treino),normalizador_y.transform(y_treino))\n",
    "\n",
    "# realiza uma previsão usando o modelo treinado\n",
    "previsao = modelo_knm.predict(normalizador_x.transform(X_treino))\n",
    "previsao = normalizador_y.inverse_transform(previsao)\n",
    "print(previsao)"
   ]
  },
  {
   "cell_type": "markdown",
   "id": "f3ced437-8857-4ed8-aaf0-dcfdb5ac499b",
   "metadata": {},
   "source": [
    "#### Hiperparâmetros - Analisar qual o melhor k-NN"
   ]
  },
  {
   "cell_type": "code",
   "execution_count": 15,
   "id": "552a11db-6903-43ef-aac0-1536b1239a8d",
   "metadata": {},
   "outputs": [
    {
     "name": "stdout",
     "output_type": "stream",
     "text": [
      "O RMSE do modelo k-NN usando k = 1 foi de 0.06953842803629365.\n",
      "O RMSE do modelo k-NN usando k = 2 foi de 0.07485483811300009.\n",
      "O RMSE do modelo k-NN usando k = 3 foi de 0.08021297405419235.\n",
      "O RMSE do modelo k-NN usando k = 4 foi de 0.0847446520511005.\n",
      "O RMSE do modelo k-NN usando k = 5 foi de 0.08843453046819148.\n",
      "O RMSE do modelo k-NN usando k = 6 foi de 0.09124067072839374.\n",
      "O RMSE do modelo k-NN usando k = 7 foi de 0.09396136661637541.\n",
      "O RMSE do modelo k-NN usando k = 8 foi de 0.09655897528356704.\n",
      "O RMSE do modelo k-NN usando k = 9 foi de 0.09885719729467433.\n",
      "O RMSE do modelo k-NN usando k = 10 foi de 0.10112777102375806.\n"
     ]
    }
   ],
   "source": [
    "erro = []\n",
    "\n",
    "for n in range(1, 11):\n",
    "    modelo_knn = KNeighborsRegressor(n_neighbors=n)\n",
    "\n",
    "    modelo_knn.fit(normalizador_x.transform(X_treino), normalizador_y.transform(y_treino))\n",
    "\n",
    "    y_verdadeiro = normalizador_y.transform(y_teste)\n",
    "    y_previsao = modelo_knn.predict(normalizador_x.transform(X_teste))\n",
    "    y_previsao = normalizador_y.inverse_transform(y_previsao)\n",
    "    erro.append(np.mean(y_previsao != y_verdadeiro))\n",
    "\n",
    "    RMSE = mean_squared_error(y_verdadeiro, y_previsao, squared=False)\n",
    "    print(f\"O RMSE do modelo k-NN usando k = {n} foi de {RMSE}.\")"
   ]
  },
  {
   "cell_type": "markdown",
   "id": "52948c0f-88c1-4670-aa91-5c2e9eaf6862",
   "metadata": {},
   "source": [
    "##### ANÁLISE DOS RESULTADOS OBTIDOS "
   ]
  },
  {
   "cell_type": "markdown",
   "id": "e239f2ae-8850-4447-aabb-d30fc1dc522c",
   "metadata": {},
   "source": [
    "Observou-se que em números menores de vizinhos, há uma melhor predição do modelo devido a diminuição da taxa de erro. De modo a realizar esta análise por um meio visual, desenvolve-se uma representação por meio de um gráfico que demonstra a taxa de erro do treino conforme há a mudança dos vizinhos (*k*)."
   ]
  },
  {
   "cell_type": "markdown",
   "id": "cdbf6f62-6a4f-4c6d-8cad-c279ee977036",
   "metadata": {},
   "source": [
    "##### REPRESENTAÇÃO VISUAL DO MELHOR *K*"
   ]
  },
  {
   "cell_type": "code",
   "execution_count": 16,
   "id": "394fa467-7743-4b7a-9010-e6e14ca1791b",
   "metadata": {},
   "outputs": [
    {
     "data": {
      "text/plain": [
       "Text(0, 0.5, 'Erro')"
      ]
     },
     "execution_count": 16,
     "metadata": {},
     "output_type": "execute_result"
    },
    {
     "data": {
      "image/png": "[encoded data removed]",
      "text/plain": [
       "<Figure size 864x432 with 1 Axes>"
      ]
     },
     "metadata": {
      "needs_background": "light"
     },
     "output_type": "display_data"
    }
   ],
   "source": [
    "#Plot e caracterização do gráfico\n",
    "plt.figure(figsize=(12, 6))  \n",
    "# K analisados de 1 a 10.\n",
    "plt.plot(range(1, 11), erro, color='red', linestyle='dashed', marker='o',  \n",
    "         markerfacecolor='blue', markersize=10)\n",
    "plt.title('Erros do K - vizinhos')  \n",
    "plt.xlabel('Valor do K - Vizinho')  \n",
    "plt.ylabel('Erro') "
   ]
  },
  {
   "cell_type": "markdown",
   "id": "a3b12a98-1822-41f3-b550-9b41f7f10173",
   "metadata": {},
   "source": [
    "##### MODELO DE PREVISÃO"
   ]
  },
  {
   "cell_type": "code",
   "execution_count": 17,
   "id": "b1560441-ebfb-47cb-9379-ffd69262f056",
   "metadata": {},
   "outputs": [
    {
     "data": {
      "image/png": "[encoded data removed]",
      "text/plain": [
       "<Figure size 432x288 with 1 Axes>"
      ]
     },
     "metadata": {
      "needs_background": "light"
     },
     "output_type": "display_data"
    }
   ],
   "source": [
    "#Plot \n",
    "plt.plot(y_verdadeiro, y_previsao, label = 'Teste de Precisão do Dataset', ls=\"none\", marker=\"o\", alpha=0.1, markersize=2)\n",
    "plt.title(\"Modelo de Previsão - kNN - vizinhos\")\n",
    "plt.xlabel('Modelo Real')\n",
    "plt.ylabel('Modelo Previsão')\n",
    "plt.show()"
   ]
  },
  {
   "cell_type": "markdown",
   "id": "d1eebf40-0ef3-45e4-abc3-32036de1ec81",
   "metadata": {},
   "source": [
    "##### Comparação Baseline & K-NN "
   ]
  },
  {
   "cell_type": "markdown",
   "id": "014c801b-acbe-4da1-9ffa-eb37de439def",
   "metadata": {},
   "source": [
    "O metódo de k-vizinhos mais próximos foi utilizado com a realização de dez *k* distintos que vão de um a dez. Após uma série de testes, obteve-se os seguintes resultados de RSME:\n",
    "\n",
    " <ul>\n",
    " <li> O RMSE do modelo k-NN usando k = 1 foi de 0.06953842803629365.  </li>\n",
    " <li> O RMSE do modelo k-NN usando k = 2 foi de 0.07485483811300009.  </li>\n",
    " <li> O RMSE do modelo k-NN usando k = 3 foi de 0.08021297405419235.  </li>\n",
    " <li> O RMSE do modelo k-NN usando k = 4 foi de 0.0847446520511005.   </li>\n",
    " <li> O RMSE do modelo k-NN usando k = 5 foi de 0.08843453046819148.  </li>\n",
    " <li> O RMSE do modelo k-NN usando k = 6 foi de 0.09124067072839374.  </li>\n",
    " <li> O RMSE do modelo k-NN usando k = 7 foi de 0.09396136661637541.  </li>\n",
    " <li> O RMSE do modelo k-NN usando k = 8 foi de 0.09655897528356704.  </li>\n",
    " </ul>\n",
    "\n",
    "Nestes resultados, observou-se que o erro do modelo apresenta uma taxa de aproximadamente 6 - 10%. Esse modelo ao ser comparado com o Baseline, demonstra uma maior eficiência visto que ela é uma taxa bem menor ao ser comparada com a taxa de 25% de erro do treino obtido com o Baseline. "
   ]
  },
  {
   "cell_type": "code",
   "execution_count": 18,
   "id": "26c2cc2a-fd98-4102-a2af-1ab6a8085148",
   "metadata": {},
   "outputs": [
    {
     "data": {
      "text/plain": [
       "<AxesSubplot:ylabel='Frequency'>"
      ]
     },
     "execution_count": 18,
     "metadata": {},
     "output_type": "execute_result"
    },
    {
     "data": {
      "image/png": "[encoded data removed]",
      "text/plain": [
       "<Figure size 432x288 with 1 Axes>"
      ]
     },
     "metadata": {
      "needs_background": "light"
     },
     "output_type": "display_data"
    }
   ],
   "source": [
    "meses['risco_fogo'].plot(kind='hist')"
   ]
  },
  {
   "cell_type": "markdown",
   "id": "d21f138c-9162-409b-93b6-1f70a4770046",
   "metadata": {},
   "source": [
    "## 3. Modelo de Regressão Linear"
   ]
  },
  {
   "cell_type": "code",
   "execution_count": 19,
   "id": "a8bb7d74-d3f1-4cba-bf38-67d2c7a20cbb",
   "metadata": {},
   "outputs": [
    {
     "name": "stdout",
     "output_type": "stream",
     "text": [
      "[[0.88141621]\n",
      " [0.81105356]\n",
      " [0.85321921]\n",
      " ...\n",
      " [0.8747693 ]\n",
      " [0.87064896]\n",
      " [0.88084116]]\n"
     ]
    }
   ],
   "source": [
    "# cria o modelo\n",
    "modelo_linear = LinearRegression()\n",
    "\n",
    "# treina o modelo\n",
    "modelo_linear.fit(normalizador_x.transform(X_treino), normalizador_y.transform(y_treino))\n",
    "\n",
    "# realiza uma previsão usando o modelo treinado\n",
    "previsao = modelo_linear.predict(normalizador_x.transform(X_treino))\n",
    "previsao = normalizador_y.inverse_transform(previsao)\n",
    "print(previsao)"
   ]
  },
  {
   "cell_type": "code",
   "execution_count": 20,
   "id": "cb71b547-c32e-4b30-bdab-e76e68a3da5b",
   "metadata": {},
   "outputs": [
    {
     "name": "stdout",
     "output_type": "stream",
     "text": [
      "O RMSE do modelo linear foi de 0.23769024621130785\n"
     ]
    }
   ],
   "source": [
    "y_verdadeiro = y_teste\n",
    "y_previsao = modelo_linear.predict(normalizador_x.transform(X_teste))\n",
    "y_previsao = normalizador_y.inverse_transform(y_previsao)\n",
    "\n",
    "RMSE = mean_squared_error(y_verdadeiro, y_previsao, squared=False)\n",
    "\n",
    "print(f\"O RMSE do modelo linear foi de {RMSE}\")"
   ]
  },
  {
   "cell_type": "markdown",
   "id": "bbd8f9c3-9e04-4e48-9537-a7562e466a40",
   "metadata": {},
   "source": [
    "##### MODELO DE PREVISÃO"
   ]
  },
  {
   "cell_type": "code",
   "execution_count": 21,
   "id": "628f30d8-2f69-41d5-984c-f4d259964842",
   "metadata": {},
   "outputs": [
    {
     "data": {
      "image/png": "[encoded data removed]",
      "text/plain": [
       "<Figure size 432x288 with 1 Axes>"
      ]
     },
     "metadata": {
      "needs_background": "light"
     },
     "output_type": "display_data"
    }
   ],
   "source": [
    "#Plot \n",
    "plt.plot(y_verdadeiro, y_previsao, label = 'Teste de Precisão do Dataset', ls=\"none\", marker=\"o\", alpha=0.1, markersize=2)\n",
    "plt.title(\"Modelo de Previsão - Regressão Linear\")\n",
    "plt.xlabel('Modelo Real')\n",
    "plt.ylabel('Modelo Previsão')\n",
    "plt.show()"
   ]
  },
  {
   "cell_type": "markdown",
   "id": "895f542e-6b23-4167-948c-a7b46a8b304d",
   "metadata": {},
   "source": [
    "##### ANÁLISE DOS RESULTADOS OBTIDOS \n",
    "##### Comparação Baseline & Regressão Linear"
   ]
  },
  {
   "cell_type": "markdown",
   "id": "cb3ecdf5-a8f5-45d4-b9af-120656b66c2a",
   "metadata": {},
   "source": [
    "O metódo de regressão linear, obteve como RSME:\n",
    "\n",
    " <ul>\n",
    " <li> O RMSE do modelo linear foi de 0.23769024621130785.  </li>\n",
    "</ul>\n",
    "\n",
    "Dado o resultado, observou-se que o erro do modelo apresenta uma taxa de erro de aproximadamente de 23%. Esse modelo ao ser comparado com o Baseline, demonstra apresenta uma eficiência similar ao Baseline, devido a diferença das taxas ser de aproximadamente 2%."
   ]
  },
  {
   "cell_type": "markdown",
   "id": "dcea218e-b6db-4c6d-a25e-4525f6e74ea3",
   "metadata": {},
   "source": [
    "## 4. Árvore de Decisão"
   ]
  },
  {
   "cell_type": "code",
   "execution_count": 22,
   "id": "5b443540-8d12-405f-8f0d-a2013092fd29",
   "metadata": {},
   "outputs": [
    {
     "name": "stdout",
     "output_type": "stream",
     "text": [
      "[0.5959596 0.5959596 0.5959596 ... 0.5959596 0.5959596 0.5959596]\n"
     ]
    }
   ],
   "source": [
    "# cria o modelo\n",
    "modelo_dt = DecisionTreeRegressor(random_state=SEMENTE_ALEATORIA)\n",
    "\n",
    "# treina o modelo\n",
    "modelo_dt.fit(normalizador_x.transform(X_treino), normalizador_y.transform(y_treino))\n",
    "\n",
    "# realiza uma previsão usando o modelo treinado\n",
    "previsao = modelo_dt.predict(X_teste)\n",
    "print(previsao)"
   ]
  },
  {
   "cell_type": "code",
   "execution_count": 23,
   "id": "14e9e268-9c8d-4e93-96af-6231e70f8b15",
   "metadata": {},
   "outputs": [
    {
     "name": "stdout",
     "output_type": "stream",
     "text": [
      "O RMSE do modelo de árvore de decisões foi de 0.08196837971262753.\n"
     ]
    }
   ],
   "source": [
    "y_verdadeiro = y_teste\n",
    "y_previsao = modelo_dt.predict(normalizador_x.transform(X_teste))\n",
    "\n",
    "RMSE = mean_squared_error(y_verdadeiro, y_previsao, squared=False)\n",
    "\n",
    "print(f\"O RMSE do modelo de árvore de decisões foi de {RMSE}.\")"
   ]
  },
  {
   "cell_type": "markdown",
   "id": "72ca804c-241c-4d9a-aaf8-d0fd6df4130c",
   "metadata": {},
   "source": [
    "##### HIPERPARÂMETROS - MODELO BASEADO NO MATERIAL EM SALA"
   ]
  },
  {
   "cell_type": "code",
   "execution_count": 24,
   "id": "240610ab-ee2f-4b6d-9d48-be624da57cf6",
   "metadata": {},
   "outputs": [
    {
     "name": "stdout",
     "output_type": "stream",
     "text": [
      "O RMSE do modelo AD usando max_leaf_nodes=None e max_depth=None foi de 0.08.\n",
      "O RMSE do modelo AD usando max_leaf_nodes=None e max_depth=3 foi de 0.20.\n",
      "O RMSE do modelo AD usando max_leaf_nodes=None e max_depth=10 foi de 0.15.\n",
      "O RMSE do modelo AD usando max_leaf_nodes=6 e max_depth=None foi de 0.20.\n",
      "O RMSE do modelo AD usando max_leaf_nodes=6 e max_depth=3 foi de 0.20.\n",
      "O RMSE do modelo AD usando max_leaf_nodes=6 e max_depth=10 foi de 0.20.\n",
      "O RMSE do modelo AD usando max_leaf_nodes=36 e max_depth=None foi de 0.17.\n",
      "O RMSE do modelo AD usando max_leaf_nodes=36 e max_depth=3 foi de 0.20.\n",
      "O RMSE do modelo AD usando max_leaf_nodes=36 e max_depth=10 foi de 0.17.\n"
     ]
    }
   ],
   "source": [
    "NUM_FOLHAS = [None, 6, 36]\n",
    "NUM_PROFUNDIDADE = [None, 3, 10]\n",
    "\n",
    "for n_folhas, n_profundidade in product(NUM_FOLHAS, NUM_PROFUNDIDADE):\n",
    "    modelo_dt = DecisionTreeRegressor(\n",
    "        max_leaf_nodes=n_folhas,\n",
    "        max_depth=n_profundidade,\n",
    "        random_state=SEMENTE_ALEATORIA,\n",
    "    )\n",
    "\n",
    "    modelo_dt.fit(normalizador_x.transform(X_treino), normalizador_y.transform(y_treino))\n",
    "\n",
    "    y_verdadeiro = y_teste\n",
    "    y_previsao = modelo_dt.predict(normalizador_x.transform(X_teste))\n",
    "\n",
    "    RMSE = mean_squared_error(y_verdadeiro, y_previsao, squared=False)\n",
    "\n",
    "    print(\n",
    "        f\"O RMSE do modelo AD usando max_leaf_nodes={n_folhas} \"\n",
    "        f\"e max_depth={n_profundidade} foi de {RMSE:.2f}.\"\n",
    "    )"
   ]
  },
  {
   "cell_type": "markdown",
   "id": "2ace34c6-62c0-489c-8bbe-96920b142bee",
   "metadata": {},
   "source": [
    "##### HIPERPARÂMETROS - ALTERAÇÃO DOS HIPERPARÂMETROS"
   ]
  },
  {
   "cell_type": "code",
   "execution_count": 25,
   "id": "3d3d72ff-4414-4d32-aee0-ea6589c2521e",
   "metadata": {},
   "outputs": [
    {
     "name": "stdout",
     "output_type": "stream",
     "text": [
      "O RMSE do modelo AD usando max_leaf_nodes=None e max_depth=None foi de 0.08.\n",
      "O RMSE do modelo AD usando max_leaf_nodes=None e max_depth=5 foi de 0.18.\n",
      "O RMSE do modelo AD usando max_leaf_nodes=None e max_depth=10 foi de 0.15.\n",
      "O RMSE do modelo AD usando max_leaf_nodes=4 e max_depth=None foi de 0.21.\n",
      "O RMSE do modelo AD usando max_leaf_nodes=4 e max_depth=5 foi de 0.21.\n",
      "O RMSE do modelo AD usando max_leaf_nodes=4 e max_depth=10 foi de 0.21.\n",
      "O RMSE do modelo AD usando max_leaf_nodes=10 e max_depth=None foi de 0.19.\n",
      "O RMSE do modelo AD usando max_leaf_nodes=10 e max_depth=5 foi de 0.19.\n",
      "O RMSE do modelo AD usando max_leaf_nodes=10 e max_depth=10 foi de 0.19.\n"
     ]
    }
   ],
   "source": [
    "NUM_FOLHAS = [None, 4, 10]\n",
    "NUM_PROFUNDIDADE = [None, 5, 10]\n",
    "\n",
    "for n_folhas, n_profundidade in product(NUM_FOLHAS, NUM_PROFUNDIDADE):\n",
    "    modelo_ad2 = DecisionTreeRegressor(\n",
    "        max_leaf_nodes=n_folhas,\n",
    "        max_depth=n_profundidade,\n",
    "        random_state=SEMENTE_ALEATORIA,\n",
    "    )\n",
    "\n",
    "    modelo_ad2.fit(X_treino, y_treino)\n",
    "\n",
    "    y_verdadeiro_ad2 = y_teste\n",
    "    y_previsao_ad2 = modelo_ad2.predict(X_teste)\n",
    "    RMSE_ad2 = mean_squared_error(y_verdadeiro_ad2, y_previsao_ad2, squared=False)\n",
    "\n",
    "    print(\n",
    "        f\"O RMSE do modelo AD usando max_leaf_nodes={n_folhas} \"\n",
    "        f\"e max_depth={n_profundidade} foi de {RMSE_ad2:.2f}.\"\n",
    "    )"
   ]
  },
  {
   "cell_type": "markdown",
   "id": "edae8439-ab65-406e-85fa-55901f84cb23",
   "metadata": {},
   "source": [
    "##### REPRESENTAÇÃO VISUAL DA ÁRVORE DE DECISÕES"
   ]
  },
  {
   "cell_type": "code",
   "execution_count": 26,
   "id": "01bd3e31-06cb-40fe-8840-b4982ecb3145",
   "metadata": {},
   "outputs": [
    {
     "data": {
      "image/png": "[encoded data removed]",
      "text/plain": [
       "<Figure size 1050x600 with 1 Axes>"
      ]
     },
     "metadata": {
      "needs_background": "light"
     },
     "output_type": "display_data"
    }
   ],
   "source": [
    "# cria e treina o modelo\n",
    "modelo_dt = DecisionTreeRegressor(\n",
    "    max_leaf_nodes=6,\n",
    "    random_state=SEMENTE_ALEATORIA,\n",
    ")\n",
    "modelo_dt.fit(normalizador_x.transform(X_treino), normalizador_y.transform(y_treino))\n",
    "\n",
    "# cria os objetos de figura e eixo\n",
    "fig, axe = plt.subplots(\n",
    "    ncols=1,\n",
    "    nrows=1,\n",
    "    figsize=(7, 4),\n",
    "    dpi=150,\n",
    ")\n",
    "\n",
    "# plota o grafo da árvore de decisão\n",
    "tree.plot_tree(\n",
    "    modelo_dt,\n",
    "    feature_names=FEATURES,\n",
    "    ax=axe,\n",
    "    impurity=False,\n",
    "    filled=True,\n",
    "    proportion=True,\n",
    "    precision=2,\n",
    ")\n",
    "\n",
    "# mostra o plot para o usuário\n",
    "plt.show()"
   ]
  },
  {
   "cell_type": "markdown",
   "id": "ad361fad-c196-415d-a01c-ac7bfd430b63",
   "metadata": {},
   "source": [
    "##### MODELO DE PREVISÃO"
   ]
  },
  {
   "cell_type": "code",
   "execution_count": 27,
   "id": "3b453118-934d-49cc-a477-9a09e0908830",
   "metadata": {},
   "outputs": [
    {
     "data": {
      "image/png": "[encoded data removed]",
      "text/plain": [
       "<Figure size 432x288 with 1 Axes>"
      ]
     },
     "metadata": {
      "needs_background": "light"
     },
     "output_type": "display_data"
    }
   ],
   "source": [
    "#Plot \n",
    "plt.plot(y_verdadeiro, y_previsao, label = 'Teste de Precisão do Dataset', ls=\"none\", marker=\"o\", alpha=0.1, markersize=2)\n",
    "plt.title(\"Modelo de Previsão - Árvore de Decisão\")\n",
    "plt.xlabel('Modelo Real')\n",
    "plt.ylabel('Modelo Previsão')\n",
    "plt.show()"
   ]
  },
  {
   "cell_type": "markdown",
   "id": "522f8d70-b271-4a92-b716-d74a63255f67",
   "metadata": {},
   "source": [
    "##### ANÁLISE DOS RESULTADOS OBTIDOS \n",
    "##### Comparação Baseline & Árvore de Decisão"
   ]
  },
  {
   "cell_type": "markdown",
   "id": "7ba40e32-3480-49f7-be90-4d9ed1f80886",
   "metadata": {},
   "source": [
    "Este modelo, usufrui da utilização de dois hiperparâmetros que foram alterados de acordo com o desejo das discentes. Dada as alterações dos hiperparâmetros, os RMSE obtidos foram de:\n",
    "<ul>\n",
    " <li> O RMSE do modelo AD usando max_leaf_nodes=None e max_depth=None foi de 0.08. </li>\n",
    " <li> O RMSE do modelo AD usando max_leaf_nodes=None e max_depth=5 foi de 0.18. </li>\n",
    " <li> O RMSE do modelo AD usando max_leaf_nodes=None e max_depth=10 foi de 0.15. </li>\n",
    " <li> O RMSE do modelo AD usando max_leaf_nodes=4 e max_depth=None foi de 0.21. </li>\n",
    " <li> O RMSE do modelo AD usando max_leaf_nodes=4 e max_depth=5 foi de 0.21. </li>\n",
    " <li> O RMSE do modelo AD usando max_leaf_nodes=4 e max_depth=10 foi de 0.21. </li>\n",
    " <li> O RMSE do modelo AD usando max_leaf_nodes=10 e max_depth=None foi de 0.19. </li>\n",
    " <li> O RMSE do modelo AD usando max_leaf_nodes=10 e max_depth=5 foi de 0.19. </li>\n",
    " <li> O RMSE do modelo AD usando max_leaf_nodes=10 e max_depth=10 foi de 0.19.</li>\n",
    "</ul>\n",
    "\n",
    "Estes RMSE apresentam uma grande margem de variação, visto que as taxas vão de 8-21%. Nesse sentido observa-se que aquelas em que o max_depht são igualadas a None, os valores de erro serão menores."
   ]
  },
  {
   "cell_type": "markdown",
   "id": "21d0b3e4-6faa-4cc9-a401-f6ae400990e4",
   "metadata": {},
   "source": [
    "## 5. Floresta aleatória"
   ]
  },
  {
   "cell_type": "code",
   "execution_count": null,
   "id": "fe720159-16aa-43b5-aee1-eea0d29e2e14",
   "metadata": {},
   "outputs": [
    {
     "name": "stdout",
     "output_type": "stream",
     "text": [
      "(238626, 1) (26515, 1)\n",
      "(238626,) (26515,)\n"
     ]
    }
   ],
   "source": [
    "# alterando o formato do target\n",
    "print(y_treino.shape, y_teste.shape)\n",
    "y_treino = y_treino.ravel()\n",
    "y_teste = y_teste.ravel()\n",
    "print(y_treino.shape, y_teste.shape)\n",
    "\n",
    "# Criação do Modelo\n",
    "modelo_flore = RandomForestRegressor(random_state=SEMENTE_ALEATORIA)\n",
    "\n",
    "normalizacao = MinMaxScaler()\n",
    "X_treino_norm = normalizacao.fit_transform(X_treino)\n",
    "X_teste_norm = normalizacao.transform(X_teste)\n",
    "modelo_flore.fit(X_treino_norm, y_treino)\n",
    "\n",
    "previsao = modelo_flore.predict(X_teste_norm)\n",
    "\n",
    "print(previsao)"
   ]
  },
  {
   "cell_type": "code",
   "execution_count": null,
   "id": "613bd622-b00d-43ec-91da-af76c62ea48a",
   "metadata": {},
   "outputs": [],
   "source": [
    "y_verdadeiro = y_teste\n",
    "y_previsao = modelo_flore.predict(X_teste_norm)\n",
    "\n",
    "RMSE_flore = mean_squared_error(y_verdadeiro, y_previsao, squared=False)\n",
    "\n",
    "print(f\"O RMSE do modelo de floresta aleatória foi de {RMSE_flore}.\")"
   ]
  },
  {
   "cell_type": "markdown",
   "id": "da182a93-d856-4dc8-a95a-c4e4e7eb04cb",
   "metadata": {},
   "source": [
    "##### DEFINIÇÃO DE HIPERPARÂMETROS - MODELO BASEADO EM SALA"
   ]
  },
  {
   "cell_type": "code",
   "execution_count": null,
   "id": "f2268693-92c0-4e1c-8d2e-1f9c2194312a",
   "metadata": {},
   "outputs": [],
   "source": [
    "NUM_ARVORES = [10, 100, 300]\n",
    "NUM_FOLHAS = [None, 6]\n",
    "NUM_PROFUNDIDADE = [None, 3]\n",
    "\n",
    "for n_folhas, n_profundidade, n_arvores in product(\n",
    "    NUM_FOLHAS, NUM_PROFUNDIDADE, NUM_ARVORES\n",
    "):\n",
    "    modelo_rf = RandomForestRegressor(\n",
    "        n_estimators=n_arvores,\n",
    "        max_leaf_nodes=n_folhas,\n",
    "        max_depth=n_profundidade,\n",
    "        random_state=SEMENTE_ALEATORIA,\n",
    "        n_jobs=4,\n",
    "    )\n",
    "\n",
    "    modelo_rf.fit(X_treino_norm, y_treino)\n",
    "\n",
    "    y_verdadeiro = y_teste\n",
    "    y_previsao = modelo_rf.predict(X_teste_norm)\n",
    "    RMSE = mean_squared_error(y_verdadeiro, y_previsao, squared=False)\n",
    "\n",
    "    print(\n",
    "        f\"O RMSE do modelo RF usando \"\n",
    "        f\"n_estimators={n_arvores} max_leaf_nodes={n_folhas} \"\n",
    "        f\"e max_depth={n_profundidade} foi de {RMSE:.2f}.\"\n",
    "    )"
   ]
  },
  {
   "cell_type": "markdown",
   "id": "985bda0c-9840-4520-9954-e9e95457eced",
   "metadata": {
    "tags": []
   },
   "source": [
    "##### DEFINIÇÃO DE HIPERPARÂMETROS - MODELO ALTERAÇÕES"
   ]
  },
  {
   "cell_type": "code",
   "execution_count": null,
   "id": "da069867-1aa9-40dd-b329-93286d7165eb",
   "metadata": {},
   "outputs": [],
   "source": [
    "NUM_ARVORES = [10, 150, 275]\n",
    "NUM_FOLHAS = [None, 8]\n",
    "NUM_PROFUNDIDADE = [None, 4]\n",
    "\n",
    "for n_folhas, n_profundidade, n_arvores in product(\n",
    "    NUM_FOLHAS, NUM_PROFUNDIDADE, NUM_ARVORES\n",
    "):\n",
    "    modelo_rf = RandomForestRegressor(\n",
    "        n_estimators=n_arvores,\n",
    "        max_leaf_nodes=n_folhas,\n",
    "        max_depth=n_profundidade,\n",
    "        random_state=SEMENTE_ALEATORIA,\n",
    "        n_jobs=4,\n",
    "    )\n",
    "\n",
    "    modelo_rf.fit(X_treino_norm, y_treino)\n",
    "\n",
    "    y_verdadeiro = y_teste\n",
    "    y_previsao = modelo_rf.predict(X_teste_norm)\n",
    "    RMSE = mean_squared_error(y_verdadeiro, y_previsao, squared=False)\n",
    "\n",
    "    print(\n",
    "        f\"O RMSE do modelo RF usando \"\n",
    "        f\"n_estimators={n_arvores} max_leaf_nodes={n_folhas} \"\n",
    "        f\"e max_depth={n_profundidade} foi de {RMSE:.2f}.\"\n",
    "    )"
   ]
  },
  {
   "cell_type": "markdown",
   "id": "282e3682-3775-4b06-b489-1cb50f51470a",
   "metadata": {},
   "source": [
    "##### MODELO DE PREVISÃO"
   ]
  },
  {
   "cell_type": "code",
   "execution_count": null,
   "id": "270e2ce2-cb25-4886-98b1-7251055ffe99",
   "metadata": {},
   "outputs": [],
   "source": [
    "#Plot \n",
    "plt.plot(y_verdadeiro, y_previsao, label = 'Teste de Precisão do Dataset', ls=\"none\", marker=\"o\", alpha=0.1, markersize=2)\n",
    "plt.title(\"Modelo de Previsão - Floresta Aleatória\")\n",
    "plt.xlabel('Modelo Real')\n",
    "plt.ylabel('Modelo Previsão')\n",
    "plt.show()"
   ]
  },
  {
   "cell_type": "markdown",
   "id": "dfdc523c-a39f-4500-827c-7675041ba679",
   "metadata": {
    "tags": []
   },
   "source": [
    "##### ANÁLISE DOS RESULTADOS OBTIDOS "
   ]
  },
  {
   "cell_type": "markdown",
   "id": "5295a275-2a62-4855-a733-32ccbfb11cca",
   "metadata": {},
   "source": [
    "##### ANALISANDO A IMPORTÂNCIA DAS FEATURES"
   ]
  },
  {
   "cell_type": "code",
   "execution_count": null,
   "id": "02efdcbb-1591-4016-90ad-b037e16c6e89",
   "metadata": {},
   "outputs": [],
   "source": [
    "importancia = modelo_rf.feature_importances_\n",
    "desvio_padrao = np.std(\n",
    "    [arvore.feature_importances_ for arvore in modelo_rf.estimators_], axis=0\n",
    ")\n",
    "\n",
    "serie_importancia = pd.Series(importancia, index=FEATURES)\n",
    "\n",
    "fig, axe = plt.subplots()\n",
    "serie_importancia.plot.bar(yerr=desvio_padrao, ax=axe)\n",
    "axe.set_ylabel(\"Redução média da impureza\")\n",
    "plt.show()"
   ]
  },
  {
   "cell_type": "markdown",
   "id": "a05a0f79-d325-4e3f-aef0-38ca6ee13227",
   "metadata": {},
   "source": [
    "##### Comparação Baseline & Floresta Aleatória"
   ]
  },
  {
   "cell_type": "markdown",
   "id": "a49c702a-3edf-4d0c-85a5-8ab3c556c0c8",
   "metadata": {},
   "source": [
    "Este modelo, usufrui da utilização de três hiperparâmetros que foram alterados de acordo com o desejo das discentes. Dada as alterações dos hiperparâmetros, os RMSE obtidos foram de:\n",
    "<ul>\n",
    " <li> O RMSE do modelo AD usando max_leaf_nodes=None e max_depth=None foi de 0.08. </li>\n",
    " <li> O RMSE do modelo AD usando max_leaf_nodes=None e max_depth=5 foi de 0.18. </li>\n",
    " <li> O RMSE do modelo AD usando max_leaf_nodes=None e max_depth=10 foi de 0.15. </li>\n",
    " <li> O RMSE do modelo AD usando max_leaf_nodes=4 e max_depth=None foi de 0.21. </li>\n",
    " <li> O RMSE do modelo AD usando max_leaf_nodes=4 e max_depth=5 foi de 0.21. </li>\n",
    " <li> O RMSE do modelo AD usando max_leaf_nodes=4 e max_depth=10 foi de 0.21. </li>\n",
    " <li> O RMSE do modelo AD usando max_leaf_nodes=10 e max_depth=None foi de 0.19. </li>\n",
    " <li> O RMSE do modelo AD usando max_leaf_nodes=10 e max_depth=5 foi de 0.19. </li>\n",
    " <li> O RMSE do modelo AD usando max_leaf_nodes=10 e max_depth=10 foi de 0.19.</li>\n",
    "</ul>\n",
    "\n",
    "Estes RMSE apresentam uma grande margem de variação, visto que as taxas vão de 8-21%. Nesse sentido observa-se que aquelas em que o max_depht são igualadas a None, os valores de erro serão menores."
   ]
  },
  {
   "cell_type": "markdown",
   "id": "7d734a3d-88c6-4f7c-9dea-4eceac22c111",
   "metadata": {},
   "source": [
    "<hr>"
   ]
  },
  {
   "cell_type": "markdown",
   "id": "4f4f9c4a-b8f7-43a7-8b36-cc5b164ef19b",
   "metadata": {
    "tags": []
   },
   "source": [
    "### **TREINO DE MODELOS NÃO - NORMALIZADOS:**"
   ]
  },
  {
   "cell_type": "markdown",
   "id": "7c8cd018-5aee-4ac6-b8b0-8d1961a50251",
   "metadata": {},
   "source": [
    "## 1. Baseline"
   ]
  },
  {
   "cell_type": "code",
   "execution_count": null,
   "id": "ebc48e7d-c853-4f11-a3c6-502319ffd90e",
   "metadata": {},
   "outputs": [],
   "source": [
    "# cria o modelo\n",
    "modelo_baseline = DummyRegressor()\n",
    "# treina o modelo\n",
    "modelo_baseline.fit(X_treino, y_treino)\n",
    "# realiza uma previsão usando o modelo treinado\n",
    "previsao = modelo_baseline.predict(X_teste)\n",
    "print(previsao)"
   ]
  },
  {
   "cell_type": "code",
   "execution_count": null,
   "id": "127881b6-dfdd-42ac-8f77-af4035faa7c9",
   "metadata": {},
   "outputs": [],
   "source": [
    "y_verdadeiro = y_teste\n",
    "y_previsao = modelo_baseline.predict(X_teste)\n",
    "RMSE = mean_squared_error(y_verdadeiro, y_previsao, squared=False)\n",
    "print(f\"O RMSE do modelo baseline foi de {RMSE}.\")"
   ]
  },
  {
   "cell_type": "code",
   "execution_count": null,
   "id": "2eae943e-428d-4abd-862d-89138eac220e",
   "metadata": {},
   "outputs": [],
   "source": [
    "#Plot \n",
    "plt.plot(y_verdadeiro, y_previsao, label = 'Teste de Precisão do Dataset', ls=\"none\", marker=\"o\", alpha=0.1, markersize=2)\n",
    "plt.title(\"Modelo de Previsão - Baseline\")\n",
    "plt.xlabel('Modelo Real')\n",
    "plt.ylabel('Modelo Previsão')\n",
    "plt.show()"
   ]
  },
  {
   "cell_type": "markdown",
   "id": "5952a1d9-730d-4cdd-b224-a072799d5d8e",
   "metadata": {},
   "source": [
    "#### ANÁLISE DOS RESULTADOS OBTIDOS"
   ]
  },
  {
   "cell_type": "markdown",
   "id": "648d9640-f911-4b7c-a04f-a8300afcb542",
   "metadata": {},
   "source": [
    "Este modelo realiza a média de todos os valores normalizados do modelo, apresentando uma resolução com eficiência baixa, a qual possui 25% de erro de predição."
   ]
  },
  {
   "cell_type": "markdown",
   "id": "85bb53a5-618c-4c9e-bc19-a5f334de71a9",
   "metadata": {},
   "source": [
    "## 2. K-vizinhos mais próximos"
   ]
  },
  {
   "cell_type": "code",
   "execution_count": null,
   "id": "9e7b6ab6-2d79-4a74-8d47-305cc11f2251",
   "metadata": {},
   "outputs": [],
   "source": [
    "# cria o modelo\n",
    "modelo_knm = KNeighborsRegressor()\n",
    "\n",
    "# treina o modelo\n",
    "modelo_knm.fit(X_treino, y_treino)\n",
    "\n",
    "# realiza uma previsão usando o modelo treinado\n",
    "previsao = modelo_knm.predict(X_treino)\n",
    "print(previsao)"
   ]
  },
  {
   "cell_type": "markdown",
   "id": "9014e5ee-391a-4350-b959-ad0d376059f2",
   "metadata": {},
   "source": [
    "#### Hiperparâmetros - Analisar qual o melhor k-NN"
   ]
  },
  {
   "cell_type": "code",
   "execution_count": null,
   "id": "cca6ea1f-564c-4ffa-adfa-f87c7a64615f",
   "metadata": {},
   "outputs": [],
   "source": [
    "erro = []\n",
    "\n",
    "for n in range(1, 11):\n",
    "    modelo_knn = KNeighborsRegressor(n_neighbors=n)\n",
    "\n",
    "    modelo_knn.fit(X_treino, y_treino)\n",
    "\n",
    "    y_verdadeiro = y_teste\n",
    "    y_previsao = modelo_knn.predict(X_teste)\n",
    "    erro.append(np.mean(y_previsao != y_verdadeiro))\n",
    "\n",
    "    RMSE = mean_squared_error(y_verdadeiro, y_previsao, squared=False)\n",
    "    print(f\"O RMSE do modelo k-NN usando k = {n} foi de {RMSE}.\")"
   ]
  },
  {
   "cell_type": "markdown",
   "id": "1be927e6-891b-47ed-b7f1-c735be76a23f",
   "metadata": {},
   "source": [
    "##### ANÁLISE DOS RESULTADOS OBTIDOS "
   ]
  },
  {
   "cell_type": "markdown",
   "id": "6ccf6421-0d9d-46cc-b210-6071fec350b5",
   "metadata": {},
   "source": [
    "Observou-se que em números menores de vizinhos, há uma melhor predição do modelo devido a diminuição da taxa de erro. De modo a realizar esta análise por um meio visual, desenvolve-se uma representação por meio de um gráfico que demonstra a taxa de erro do treino conforme há a mudança dos vizinhos (*k*)."
   ]
  },
  {
   "cell_type": "markdown",
   "id": "031bd3bd-d70a-4073-ae86-520b33a129cb",
   "metadata": {},
   "source": [
    "##### REPRESENTAÇÃO VISUAL DO MELHOR *K*"
   ]
  },
  {
   "cell_type": "code",
   "execution_count": null,
   "id": "48f627f7-d7b8-40d7-88b9-f1eda6bb6bc0",
   "metadata": {},
   "outputs": [],
   "source": [
    "#Plot e caracterização do gráfico\n",
    "plt.figure(figsize=(12, 6))  \n",
    "# K analisados de 1 a 10.\n",
    "plt.plot(range(1, 11), erro, color='red', linestyle='dashed', marker='o',  \n",
    "         markerfacecolor='blue', markersize=10)\n",
    "plt.title('Erros do K - vizinhos')  \n",
    "plt.xlabel('Valor do K - Vizinho')  \n",
    "plt.ylabel('Erro') "
   ]
  },
  {
   "cell_type": "markdown",
   "id": "007b8865-21fe-443e-bf5c-455000ebab78",
   "metadata": {},
   "source": [
    "##### MODELO DE PREVISÃO"
   ]
  },
  {
   "cell_type": "code",
   "execution_count": null,
   "id": "cdaa1de2-84df-4662-9cd2-d2f0635af1dc",
   "metadata": {},
   "outputs": [],
   "source": [
    "#Plot \n",
    "plt.plot(y_verdadeiro, y_previsao, label = 'Teste de Precisão do Dataset', ls=\"none\", marker=\"o\", alpha=0.1, markersize=2)\n",
    "plt.title(\"Modelo de Previsão - kNN - vizinhos\")\n",
    "plt.xlabel('Modelo Real')\n",
    "plt.ylabel('Modelo Previsão')\n",
    "plt.show()"
   ]
  },
  {
   "cell_type": "markdown",
   "id": "f8eaf893-fc84-4c69-8d0d-9dff0872d6c2",
   "metadata": {},
   "source": [
    "##### Comparação Baseline & K-NN "
   ]
  },
  {
   "cell_type": "markdown",
   "id": "c64240d4-4e48-44cf-99a5-b64ac8147d42",
   "metadata": {},
   "source": [
    "O metódo de k-vizinhos mais próximos foi utilizado com a realização de dez *k* distintos que vão de um a dez. Após uma série de testes, obteve-se os seguintes resultados de RSME:\n",
    "\n",
    " <ul>\n",
    " <li> O RMSE do modelo k-NN usando k = 1 foi de 0.08039338505468364.  </li>\n",
    " <li> O RMSE do modelo k-NN usando k = 2 foi de 0.08407120869385942.  </li>\n",
    " <li> O RMSE do modelo k-NN usando k = 3 foi de 0.08834040689107614.  </li>\n",
    " <li> O RMSE do modelo k-NN usando k = 4 foi de 0.09253239184951216.  </li>\n",
    " <li> O RMSE do modelo k-NN usando k = 5 foi de 0.09618881660830106.  </li>\n",
    " <li> O RMSE do modelo k-NN usando k = 6 foi de 0.09913987743295201.  </li>\n",
    " <li> O RMSE do modelo k-NN usando k = 7 foi de 0.1021576465805423.   </li>\n",
    " <li> O RMSE do modelo k-NN usando k = 8 foi de 0.1046688394568031.   </li>\n",
    " <li> O RMSE do modelo k-NN usando k = 9 foi de 0.10709593590475591.  </li>\n",
    " <li> O RMSE do modelo k-NN usando k = 10 foi de 0.10954420439863449. </li>\n",
    " </ul>\n",
    "\n",
    "Nestes resultados, observou-se que o erro do modelo apresenta uma taxa de aproximadamente 8 - 10%. Esse modelo ao ser comparado com o Baseline, demonstra uma maior eficiência visto que ela é uma taxa bem menor ao ser comparada com a taxa de 25% de erro do treino obtido com o Baseline. "
   ]
  },
  {
   "cell_type": "markdown",
   "id": "60a5e2e9-c7fa-4957-95e3-a502b1ac395d",
   "metadata": {},
   "source": [
    "## 3. Modelo de Regressão Linear"
   ]
  },
  {
   "cell_type": "code",
   "execution_count": null,
   "id": "5c6b2328-e529-4f88-a76f-d8502f70e79a",
   "metadata": {},
   "outputs": [],
   "source": [
    "# cria o modelo\n",
    "modelo_linear = LinearRegression()\n",
    "\n",
    "# treina o modelo\n",
    "modelo_linear.fit(X_treino, y_treino)\n",
    "\n",
    "# realiza uma previsão usando o modelo treinado\n",
    "previsao = modelo_linear.predict(X_teste)\n",
    "print(previsao)"
   ]
  },
  {
   "cell_type": "code",
   "execution_count": null,
   "id": "286f3fb6-7d52-48a1-9008-74c432eca846",
   "metadata": {},
   "outputs": [],
   "source": [
    "y_verdadeiro = y_teste\n",
    "y_previsao = modelo_linear.predict(X_teste)\n",
    "\n",
    "RMSE = mean_squared_error(y_verdadeiro, y_previsao, squared=False)\n",
    "\n",
    "print(f\"O RMSE do modelo linear foi de {RMSE}.\")"
   ]
  },
  {
   "cell_type": "markdown",
   "id": "e09c8cee-3594-4216-a236-6af1efa6bd1b",
   "metadata": {},
   "source": [
    "##### MODELO DE PREVISÃO"
   ]
  },
  {
   "cell_type": "code",
   "execution_count": null,
   "id": "8a57153a-ffc3-47dd-a2ce-2bcf4920b31c",
   "metadata": {},
   "outputs": [],
   "source": [
    "#Plot \n",
    "plt.plot(y_verdadeiro, y_previsao, label = 'Teste de Precisão do Dataset', ls=\"none\", marker=\"o\", alpha=0.1, markersize=2)\n",
    "plt.title(\"Modelo de Previsão - Linear\")\n",
    "plt.xlabel('Modelo Real')\n",
    "plt.ylabel('Modelo Previsão')\n",
    "plt.show()"
   ]
  },
  {
   "cell_type": "markdown",
   "id": "9c747714-dca0-4ffd-a204-a02823fa3755",
   "metadata": {},
   "source": [
    "##### ANÁLISE DOS RESULTADOS OBTIDOS"
   ]
  },
  {
   "cell_type": "markdown",
   "id": "6ba9042e-ecb3-4c73-9825-2f416a51e55f",
   "metadata": {},
   "source": [
    "##### Comparação Baseline & Modelo Linear"
   ]
  },
  {
   "cell_type": "markdown",
   "id": "c5cc0618-176b-4928-85ba-530123da97c4",
   "metadata": {},
   "source": [
    "O metódo de regressão linear, obteve como RSME:\n",
    "\n",
    " <ul>\n",
    " <li> O RMSE do modelo linear foi de 0.23769024621130785.  </li>\n",
    "</ul>\n",
    "\n",
    "Dado o resultado, observou-se que o erro do modelo apresenta uma taxa de erro de aproximadamente de 23%. Esse modelo ao ser comparado com o Baseline, demonstra apresenta uma eficiência similar ao Baseline, devido a diferença das taxas ser de aproximadamente 2%."
   ]
  },
  {
   "cell_type": "markdown",
   "id": "5da5816c-cc0b-4819-a50f-a7e3d08d7889",
   "metadata": {},
   "source": [
    "## 4. Árvore de Decisão"
   ]
  },
  {
   "cell_type": "code",
   "execution_count": null,
   "id": "fdf41b46-905f-4086-baa7-4f8d37675cd3",
   "metadata": {},
   "outputs": [],
   "source": [
    "# cria o modelo\n",
    "modelo_ad = DecisionTreeRegressor(random_state=SEMENTE_ALEATORIA)\n",
    "\n",
    "# treina o modelo\n",
    "modelo_ad.fit(X_treino, y_treino)\n",
    "\n",
    "# realiza uma previsão usando o modelo treinado\n",
    "previsao_ad = modelo_ad.predict(X_teste)\n",
    "print(previsao_ad)"
   ]
  },
  {
   "cell_type": "code",
   "execution_count": null,
   "id": "19394c0b-bd4b-4e53-b3c0-29b3b613510c",
   "metadata": {},
   "outputs": [],
   "source": [
    "y_verdadeiro = y_teste\n",
    "y_previsao = modelo_ad.predict(X_teste)\n",
    "\n",
    "RMSE_ad = mean_squared_error(y_verdadeiro, y_previsao, squared=False)\n",
    "\n",
    "print(f\"O RMSE do modelo árvore de decisão foi de {RMSE_ad}.\")"
   ]
  },
  {
   "cell_type": "markdown",
   "id": "d49be640-fb79-4b52-97b3-aa4774a0f7ca",
   "metadata": {},
   "source": [
    "#### HIPERPARÂMETROS - MODELO BASEADO NO MATERIAL EM SALA"
   ]
  },
  {
   "cell_type": "code",
   "execution_count": null,
   "id": "0cff4f4f-f5a2-4f8f-aaed-a629cfb4ca60",
   "metadata": {},
   "outputs": [],
   "source": [
    "NUM_FOLHAS = [None, 6, 36]\n",
    "NUM_PROFUNDIDADE = [None, 3, 10]\n",
    "\n",
    "for n_folhas, n_profundidade in product(NUM_FOLHAS, NUM_PROFUNDIDADE):\n",
    "    modelo_ad = DecisionTreeRegressor(\n",
    "        max_leaf_nodes=n_folhas,\n",
    "        max_depth=n_profundidade,\n",
    "        random_state=SEMENTE_ALEATORIA,\n",
    "    )\n",
    "\n",
    "    modelo_ad.fit(X_treino, y_treino)\n",
    "\n",
    "    y_verdadeiro = y_teste\n",
    "    y_previsao = modelo_ad.predict(X_teste)\n",
    "    RMSE_ad = mean_squared_error(y_verdadeiro, y_previsao, squared=False)\n",
    "\n",
    "    print(\n",
    "        f\"O RMSE do modelo AD usando max_leaf_nodes={n_folhas} \"\n",
    "        f\"e max_depth={n_profundidade} foi de {RMSE_ad:.2f}.\"\n",
    "    )"
   ]
  },
  {
   "cell_type": "markdown",
   "id": "987258b4-55c1-4479-9d7e-ac0817f539f8",
   "metadata": {},
   "source": [
    "#### HIPERPARÂMETROS - ALTERAÇÃO DOS HIPERPARÂMETROS"
   ]
  },
  {
   "cell_type": "code",
   "execution_count": null,
   "id": "24582439-bad6-47d6-a7a9-8b05b8880998",
   "metadata": {},
   "outputs": [],
   "source": [
    "NUM_FOLHAS = [None, 4, 10]\n",
    "NUM_PROFUNDIDADE = [None, 5, 10]\n",
    "\n",
    "for n_folhas, n_profundidade in product(NUM_FOLHAS, NUM_PROFUNDIDADE):\n",
    "    modelo_ad2 = DecisionTreeRegressor(\n",
    "        max_leaf_nodes=n_folhas,\n",
    "        max_depth=n_profundidade,\n",
    "        random_state=SEMENTE_ALEATORIA,\n",
    "    )\n",
    "\n",
    "    modelo_ad2.fit(X_treino, y_treino)\n",
    "\n",
    "    y_verdadeiro_ad2 = y_teste\n",
    "    y_previsao_ad2 = modelo_ad2.predict(X_teste)\n",
    "    RMSE_ad2 = mean_squared_error(y_verdadeiro_ad2, y_previsao_ad2, squared=False)\n",
    "\n",
    "    print(\n",
    "        f\"O RMSE do modelo AD usando max_leaf_nodes={n_folhas} \"\n",
    "        f\"e max_depth={n_profundidade} foi de {RMSE_ad2:.2f}.\"\n",
    "    )"
   ]
  },
  {
   "cell_type": "markdown",
   "id": "8364c7b7-c0ec-43b6-9fd7-f269b996c2ff",
   "metadata": {},
   "source": [
    "#### REPRESENTAÇÃO VISUAL DA ÁRVORE DE DECISÕES"
   ]
  },
  {
   "cell_type": "code",
   "execution_count": null,
   "id": "36c083b9-1c57-4360-ba30-c2d99281a8ca",
   "metadata": {},
   "outputs": [],
   "source": [
    "# cria e treina o modelo\n",
    "modelo_dt = DecisionTreeRegressor(\n",
    "    max_leaf_nodes=6,\n",
    "    random_state=SEMENTE_ALEATORIA,\n",
    ")\n",
    "modelo_dt.fit(X_treino, y_treino)\n",
    "\n",
    "# cria os objetos de figura e eixo\n",
    "fig, axe = plt.subplots(\n",
    "    ncols=1,\n",
    "    nrows=1,\n",
    "    figsize=(7, 4),\n",
    "    dpi=150,\n",
    ")\n",
    "\n",
    "# plota o grafo da árvore de decisão\n",
    "tree.plot_tree(\n",
    "    modelo_dt,\n",
    "    feature_names=FEATURES,\n",
    "    ax=axe,\n",
    "    impurity=False,\n",
    "    filled=True,\n",
    "    proportion=True,\n",
    "    precision=2,\n",
    ")\n",
    "\n",
    "# mostra o plot para o usuário\n",
    "plt.show()"
   ]
  },
  {
   "cell_type": "markdown",
   "id": "ac6d71b3-60f1-4d8c-af80-d840b70599c2",
   "metadata": {},
   "source": [
    "#### MODELO DE PREVISÃO"
   ]
  },
  {
   "cell_type": "code",
   "execution_count": null,
   "id": "dbd13715-223d-48b6-baf3-353e811cf87f",
   "metadata": {},
   "outputs": [],
   "source": [
    "#Plot \n",
    "plt.plot(y_verdadeiro, y_previsao, label = 'Teste de Precisão do Dataset', ls=\"none\", marker=\"o\", alpha=0.1, markersize=2)\n",
    "plt.title(\"Modelo de Previsão - Árvore de Decisão\")\n",
    "plt.xlabel('Modelo Real')\n",
    "plt.ylabel('Modelo Previsão')\n",
    "plt.show()"
   ]
  },
  {
   "cell_type": "markdown",
   "id": "2ca13343-f052-43b1-8625-92ad46402ec0",
   "metadata": {},
   "source": [
    "##### ANÁLISE DOS RESULTADOS OBTIDOS"
   ]
  },
  {
   "cell_type": "markdown",
   "id": "f785b1fd-8f12-40d2-bda7-6821f1fc2c71",
   "metadata": {},
   "source": [
    "##### Comparação Baseline & Árvore de Decisões"
   ]
  },
  {
   "cell_type": "markdown",
   "id": "70ec3efd-033e-42f6-9fb7-029122fda861",
   "metadata": {},
   "source": [
    "Este modelo, usufrui da utilização de dois hiperparâmetros que foram alterados de acordo com o desejo das discentes. Dada as alterações dos hiperparâmetros, os RMSE obtidos foram de:\n",
    "<ul>\n",
    " <li> O RMSE do modelo AD usando max_leaf_nodes=None e max_depth=None foi de 0.08. </li>\n",
    " <li> O RMSE do modelo AD usando max_leaf_nodes=None e max_depth=5 foi de 0.18. </li>\n",
    " <li> O RMSE do modelo AD usando max_leaf_nodes=None e max_depth=10 foi de 0.15. </li>\n",
    " <li> O RMSE do modelo AD usando max_leaf_nodes=4 e max_depth=None foi de 0.21. </li>\n",
    " <li> O RMSE do modelo AD usando max_leaf_nodes=4 e max_depth=5 foi de 0.21. </li>\n",
    " <li> O RMSE do modelo AD usando max_leaf_nodes=4 e max_depth=10 foi de 0.21. </li>\n",
    " <li> O RMSE do modelo AD usando max_leaf_nodes=10 e max_depth=None foi de 0.19. </li>\n",
    " <li> O RMSE do modelo AD usando max_leaf_nodes=10 e max_depth=5 foi de 0.19. </li>\n",
    " <li> O RMSE do modelo AD usando max_leaf_nodes=10 e max_depth=10 foi de 0.19.</li>\n",
    "</ul>\n",
    "\n",
    "Estes RMSE apresentam uma grande margem de variação, visto que as taxas vão de 8-21%. Nesse sentido observa-se que aquelas em que o max_depht são igualadas a None, os valores de erro serão menores."
   ]
  },
  {
   "cell_type": "markdown",
   "id": "d84d0f6c-9c5f-4b32-8ed6-6bdc3089eb5a",
   "metadata": {},
   "source": [
    "## 5. Floresta aleatória"
   ]
  },
  {
   "cell_type": "code",
   "execution_count": null,
   "id": "d7ca6c7f-6b51-459d-8410-a73f2f547e23",
   "metadata": {},
   "outputs": [],
   "source": [
    "# alterando o formato do target\n",
    "print(y_treino.shape, y_teste.shape)\n",
    "y_treino = y_treino.ravel()\n",
    "y_teste = y_teste.ravel()\n",
    "print(y_treino.shape, y_teste.shape)\n",
    "\n",
    "# cria o modelo\n",
    "modelo_ad2 = RandomForestRegressor(random_state=SEMENTE_ALEATORIA)\n",
    "\n",
    "# treina o modelo\n",
    "modelo_ad2.fit(X_treino, y_treino)\n",
    "\n",
    "# realiza uma previsão usando o modelo treinado\n",
    "previsao_ad2 = modelo_ad2.predict(X_teste)\n",
    "print()\n",
    "print(previsao_ad2)"
   ]
  },
  {
   "cell_type": "code",
   "execution_count": null,
   "id": "a4609263-292f-4e7c-af44-57fa7611e26e",
   "metadata": {},
   "outputs": [],
   "source": [
    "y_verdadeiro = y_teste\n",
    "y_previsao = modelo_ad2.predict(X_teste)\n",
    "\n",
    "RMSE_ad2 = mean_squared_error(y_verdadeiro, y_previsao, squared=False)\n",
    "\n",
    "print(f\"O RMSE do modelo árvore de decisão foi de {RMSE_ad2}.\")"
   ]
  },
  {
   "cell_type": "markdown",
   "id": "9ab7c585-88b7-42f5-8c1b-eb1e99896323",
   "metadata": {},
   "source": [
    "##### HIPERPARÂMETROS - MODELO BASEADO NO EM SALA"
   ]
  },
  {
   "cell_type": "code",
   "execution_count": null,
   "id": "2c59dac2-e9f7-43f3-9cc0-66ebf4bd5004",
   "metadata": {},
   "outputs": [],
   "source": [
    "NUM_ARVORES = [10, 100, 300]\n",
    "NUM_FOLHAS = [None, 6]\n",
    "NUM_PROFUNDIDADE = [None, 3]\n",
    "\n",
    "for n_folhas, n_profundidade, n_arvores in product(\n",
    "    NUM_FOLHAS, NUM_PROFUNDIDADE, NUM_ARVORES\n",
    "):\n",
    "    modelo_rf = RandomForestRegressor(\n",
    "        n_estimators=n_arvores,\n",
    "        max_leaf_nodes=n_folhas,\n",
    "        max_depth=n_profundidade,\n",
    "        random_state=SEMENTE_ALEATORIA,\n",
    "        n_jobs=4,\n",
    "    )\n",
    "\n",
    "    modelo_rf.fit(X_treino_norm, y_treino)\n",
    "\n",
    "    y_verdadeiro = y_teste\n",
    "    y_previsao = modelo_rf.predict(X_teste_norm)\n",
    "    RMSE = mean_squared_error(y_verdadeiro, y_previsao, squared=False)\n",
    "\n",
    "    print(\n",
    "        f\"O RMSE do modelo RF usando \"\n",
    "        f\"n_estimators={n_arvores} max_leaf_nodes={n_folhas} \"\n",
    "        f\"e max_depth={n_profundidade} foi de {RMSE:.2f}.\"\n",
    "    )"
   ]
  },
  {
   "cell_type": "markdown",
   "id": "44b4d07d-361a-49f7-b08c-9c29d93cd948",
   "metadata": {},
   "source": [
    "##### HIPERPARÂMETROS - MODELO COM ALTERAÇÕES"
   ]
  },
  {
   "cell_type": "code",
   "execution_count": null,
   "id": "0bd276ab-bb53-42d1-b812-5649a16d0d50",
   "metadata": {},
   "outputs": [],
   "source": [
    "NUM_ARVORES = [10, 150, 275]\n",
    "NUM_FOLHAS = [None, 8]\n",
    "NUM_PROFUNDIDADE = [None, 4]\n",
    "\n",
    "for n_folhas, n_profundidade, n_arvores in product(\n",
    "    NUM_FOLHAS, NUM_PROFUNDIDADE, NUM_ARVORES\n",
    "):\n",
    "    modelo_rf = RandomForestRegressor(\n",
    "        n_estimators=n_arvores,\n",
    "        max_leaf_nodes=n_folhas,\n",
    "        max_depth=n_profundidade,\n",
    "        random_state=SEMENTE_ALEATORIA,\n",
    "        n_jobs=4,\n",
    "    )\n",
    "\n",
    "    modelo_rf.fit(X_treino, y_treino)\n",
    "\n",
    "    y_verdadeiro = y_teste\n",
    "    y_previsao = modelo_rf.predict(X_teste)\n",
    "    RMSE = mean_squared_error(y_verdadeiro, y_previsao, squared=False)\n",
    "\n",
    "    print(\n",
    "        f\"O RMSE do modelo RF usando \"\n",
    "        f\"n_estimators={n_arvores} max_leaf_nodes={n_folhas} \"\n",
    "        f\"e max_depth={n_profundidade} foi de {RMSE:.2f}.\"\n",
    "    )"
   ]
  },
  {
   "cell_type": "markdown",
   "id": "ea1eef3e-5447-41e6-9f86-10fa3eccd9ac",
   "metadata": {},
   "source": [
    "#### MODELO DE PREVISÃO"
   ]
  },
  {
   "cell_type": "code",
   "execution_count": null,
   "id": "2ae31f73-ffe9-444e-ac81-b2fa739867cf",
   "metadata": {},
   "outputs": [],
   "source": [
    "#Plot \n",
    "plt.plot(y_verdadeiro, y_previsao, label = 'Teste de Precisão do Dataset', ls=\"none\", marker=\"o\", alpha=0.1, markersize=2)\n",
    "plt.title(\"Modelo de Previsão - Floresta Aleatória\")\n",
    "plt.xlabel('Modelo Real')\n",
    "plt.ylabel('Modelo Previsão')\n",
    "plt.show()"
   ]
  },
  {
   "cell_type": "markdown",
   "id": "2d710533-568d-4a49-bfa8-31dccbfb0e58",
   "metadata": {},
   "source": [
    "##### ANÁLISE DOS RESULTADOS OBTIDOS"
   ]
  },
  {
   "cell_type": "markdown",
   "id": "407a658d-361a-4ae3-9bf8-f267c982497b",
   "metadata": {},
   "source": [
    "##### ANÁLISE DA IMPORTÂNCIA DAS FEATURES"
   ]
  },
  {
   "cell_type": "code",
   "execution_count": null,
   "id": "b464c344-61a5-4642-a3f6-f7a84a3f2b4e",
   "metadata": {},
   "outputs": [],
   "source": [
    "importancia = modelo_rf.feature_importances_\n",
    "desvio_padrao = np.std(\n",
    "    [arvore.feature_importances_ for arvore in modelo_rf.estimators_], axis=0\n",
    ")\n",
    "\n",
    "serie_importancia = pd.Series(importancia, index=FEATURES)\n",
    "\n",
    "fig, axe = plt.subplots()\n",
    "serie_importancia.plot.bar(yerr=desvio_padrao, ax=axe)\n",
    "axe.set_ylabel(\"Redução média da impureza\")\n",
    "plt.show()"
   ]
  },
  {
   "cell_type": "markdown",
   "id": "5d373341-6139-49ef-bd04-c384e556a13b",
   "metadata": {},
   "source": [
    "##### Comparação Baseline & Floresta Aleatória"
   ]
  },
  {
   "cell_type": "markdown",
   "id": "7eae503b-c7ea-4a73-9ae8-d57fc366de48",
   "metadata": {},
   "source": [
    "Este modelo, usufrui da utilização de três hiperparâmetros que foram alterados de acordo com o desejo das discentes. Dada as alterações dos hiperparâmetros, os RMSE obtidos foram de:\n",
    "<ul>\n",
    "<li> O RMSE do modelo RF usando n_estimators=10 max_leaf_nodes=None e max_depth=None foi de 0.07. </li>\n",
    "<li> O RMSE do modelo RF usando n_estimators=150 max_leaf_nodes=None e max_depth=None foi de 0.07. </li>\n",
    "<li> O RMSE do modelo RF usando n_estimators=275 max_leaf_nodes=None e max_depth=None foi de 0.07. </li>\n",
    "<li> O RMSE do modelo RF usando n_estimators=10 max_leaf_nodes=None e max_depth=4 foi de 0.19.     </li>\n",
    "<li> O RMSE do modelo RF usando n_estimators=150 max_leaf_nodes=None e max_depth=4 foi de 0.19.    </li>\n",
    "<li> O RMSE do modelo RF usando n_estimators=275 max_leaf_nodes=None e max_depth=4 foi de 0.19.    </li>\n",
    "<li> O RMSE do modelo RF usando n_estimators=10 max_leaf_nodes=8 e max_depth=None foi de 0.19.     </li>\n",
    "<li> O RMSE do modelo RF usando n_estimators=150 max_leaf_nodes=8 e max_depth=None foi de 0.19.    </li>\n",
    "<li> O RMSE do modelo RF usando n_estimators=275 max_leaf_nodes=8 e max_depth=None foi de 0.19.    </li>\n",
    "<li> O RMSE do modelo RF usando n_estimators=10 max_leaf_nodes=8 e max_depth=4 foi de 0.19.        </li>\n",
    "<li> O RMSE do modelo RF usando n_estimators=150 max_leaf_nodes=8 e max_depth=4 foi de 0.19.       </li>\n",
    "<li> O RMSE do modelo RF usando n_estimators=275 max_leaf_nodes=8 e max_depth=4 foi de 0.19.       </li>\n",
    "</ul>\n",
    "\n",
    "Estes RMSE apresentam uma grande margem de variação, visto que as taxas vão de 7-19%. Nesse sentido observa-se que aquelas em que o max_depht são igualadas a None, os valores de erro serão menores."
   ]
  },
  {
   "cell_type": "markdown",
   "id": "652ae3b5-c69d-4a2b-9799-4cb3f5aa27a1",
   "metadata": {},
   "source": [
    "<hr>"
   ]
  },
  {
   "cell_type": "markdown",
   "id": "0d0e5f3a-9421-4d17-8c31-c5f0a5e2046a",
   "metadata": {},
   "source": [
    "## **DESENVOLVA UM CLASSIFICADOR**"
   ]
  },
  {
   "cell_type": "code",
   "execution_count": null,
   "id": "16c586d1-6c48-4d76-8786-de1c80fa0555",
   "metadata": {},
   "outputs": [],
   "source": []
  }
 ],
 "metadata": {
  "kernelspec": {
   "display_name": "ilumpy",
   "language": "python",
   "name": "ilumpy"
  },
  "language_info": {
   "codemirror_mode": {
    "name": "ipython",
    "version": 3
   },
   "file_extension": ".py",
   "mimetype": "text/x-python",
   "name": "python",
   "nbconvert_exporter": "python",
   "pygments_lexer": "ipython3",
   "version": "3.9.7"
  }
 },
 "nbformat": 4,
 "nbformat_minor": 5
}
