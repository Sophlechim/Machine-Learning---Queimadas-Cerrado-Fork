{
 "cells": [
  {
   "cell_type": "markdown",
   "id": "f1ae9492-8734-4bd3-a5e2-9d3c549e190e",
   "metadata": {},
   "source": [
    "## Análise dos dados - Precipitação como target"
   ]
  },
  {
   "cell_type": "code",
   "execution_count": 1,
   "id": "3ec57b45-faa2-41b8-9ce6-060d9626668c",
   "metadata": {},
   "outputs": [],
   "source": [
    "import pandas as pd\n",
    "import seaborn as sns\n",
    "import matplotlib.pyplot as plt\n",
    "import numpy as np\n",
    "from scipy import stats\n",
    "from sklearn.pipeline import Pipeline\n",
    "from sklearn.preprocessing import PolynomialFeatures\n",
    "from sklearn.linear_model import LinearRegression\n",
    "from sklearn.model_selection import train_test_split\n",
    "from sklearn.dummy import DummyRegressor\n",
    "from sklearn.metrics import mean_squared_error\n",
    "from sklearn.neighbors import KNeighborsRegressor\n",
    "from sklearn.preprocessing import MinMaxScaler\n",
    "from sklearn.tree import DecisionTreeRegressor\n",
    "from itertools import product\n",
    "from matplotlib import pyplot as plt\n",
    "from sklearn import tree"
   ]
  },
  {
   "cell_type": "code",
   "execution_count": 2,
   "id": "4a8dfe50-d7d4-433f-908f-4925a64caf0f",
   "metadata": {},
   "outputs": [],
   "source": [
    "#Dados do Cerrado Brasileiro, armazenados mensalmente via .csv\n",
    "arquivos = ['janeiro.csv','fev.csv','marco.csv','abril.csv','maio.csv','junho.csv','julho.csv']"
   ]
  },
  {
   "cell_type": "code",
   "execution_count": 3,
   "id": "bb61312c-c228-481f-b980-c74954cc1445",
   "metadata": {},
   "outputs": [],
   "source": [
    "def read_csv(list_of_files):\n",
    "    dfs = []\n",
    "    for x in list_of_files:\n",
    "        file = pd.read_csv(x, sep=',')\n",
    "        dfs.append(file)\n",
    "    df = pd.concat(dfs).reset_index(drop=True)\n",
    "        \n",
    "    return df"
   ]
  },
  {
   "cell_type": "code",
   "execution_count": 4,
   "id": "bebe13fb-16ab-4bd1-8975-1fede61f7aa7",
   "metadata": {},
   "outputs": [],
   "source": [
    "meses = read_csv(arquivos)"
   ]
  },
  {
   "cell_type": "code",
   "execution_count": 5,
   "id": "d8d17da0-952f-4e3a-915e-233e69440720",
   "metadata": {},
   "outputs": [],
   "source": [
    "#Dados trabalhados para a eliminação de NaN nas colunas e identificação dos tipos de dados\n",
    "meses.convert_dtypes()\n",
    "meses.dropna(how='any', inplace=True)"
   ]
  },
  {
   "cell_type": "code",
   "execution_count": 6,
   "id": "57a294f9-3cc1-49b7-8809-45db908836c4",
   "metadata": {},
   "outputs": [],
   "source": [
    "# Para rodar o código pela primeira vez, descomente essas linhas\n",
    "\n",
    "meses.drop(columns=['Unnamed: 0','estado', 'satelite', 'municipio', 'pais', 'municipio_id', 'estado_id', 'pais_id', 'bioma', 'risco_fogo'], axis = 1, inplace=True)"
   ]
  },
  {
   "cell_type": "code",
   "execution_count": 7,
   "id": "34be5cd3-e578-4f29-8c74-3147e5c276e9",
   "metadata": {},
   "outputs": [],
   "source": [
    "meses_chuva = meses['precipitacao'] > 0\n",
    "meses_2 = meses[meses_chuva]"
   ]
  },
  {
   "cell_type": "code",
   "execution_count": 8,
   "id": "dc07938a-beb2-4c24-b0f1-d05c5379db78",
   "metadata": {},
   "outputs": [
    {
     "data": {
      "text/html": [
       "<div>\n",
       "<style scoped>\n",
       "    .dataframe tbody tr th:only-of-type {\n",
       "        vertical-align: middle;\n",
       "    }\n",
       "\n",
       "    .dataframe tbody tr th {\n",
       "        vertical-align: top;\n",
       "    }\n",
       "\n",
       "    .dataframe thead th {\n",
       "        text-align: right;\n",
       "    }\n",
       "</style>\n",
       "<table border=\"1\" class=\"dataframe\">\n",
       "  <thead>\n",
       "    <tr style=\"text-align: right;\">\n",
       "      <th></th>\n",
       "      <th>lat</th>\n",
       "      <th>lon</th>\n",
       "      <th>numero_dias_sem_chuva</th>\n",
       "      <th>precipitacao</th>\n",
       "    </tr>\n",
       "  </thead>\n",
       "  <tbody>\n",
       "    <tr>\n",
       "      <th>count</th>\n",
       "      <td>273373.000000</td>\n",
       "      <td>273373.000000</td>\n",
       "      <td>273373.000000</td>\n",
       "      <td>273373.000000</td>\n",
       "    </tr>\n",
       "    <tr>\n",
       "      <th>mean</th>\n",
       "      <td>-12.048766</td>\n",
       "      <td>-48.222861</td>\n",
       "      <td>20.981487</td>\n",
       "      <td>0.209739</td>\n",
       "    </tr>\n",
       "    <tr>\n",
       "      <th>std</th>\n",
       "      <td>4.372613</td>\n",
       "      <td>4.025935</td>\n",
       "      <td>60.127384</td>\n",
       "      <td>1.448025</td>\n",
       "    </tr>\n",
       "    <tr>\n",
       "      <th>min</th>\n",
       "      <td>-24.617660</td>\n",
       "      <td>-60.029380</td>\n",
       "      <td>-999.000000</td>\n",
       "      <td>0.000000</td>\n",
       "    </tr>\n",
       "    <tr>\n",
       "      <th>25%</th>\n",
       "      <td>-14.382070</td>\n",
       "      <td>-50.144900</td>\n",
       "      <td>7.000000</td>\n",
       "      <td>0.000000</td>\n",
       "    </tr>\n",
       "    <tr>\n",
       "      <th>50%</th>\n",
       "      <td>-11.912250</td>\n",
       "      <td>-47.211150</td>\n",
       "      <td>20.000000</td>\n",
       "      <td>0.000000</td>\n",
       "    </tr>\n",
       "    <tr>\n",
       "      <th>75%</th>\n",
       "      <td>-8.854180</td>\n",
       "      <td>-45.229420</td>\n",
       "      <td>36.000000</td>\n",
       "      <td>0.000000</td>\n",
       "    </tr>\n",
       "    <tr>\n",
       "      <th>max</th>\n",
       "      <td>-2.382940</td>\n",
       "      <td>-41.698070</td>\n",
       "      <td>129.000000</td>\n",
       "      <td>66.900000</td>\n",
       "    </tr>\n",
       "  </tbody>\n",
       "</table>\n",
       "</div>"
      ],
      "text/plain": [
       "                 lat            lon  numero_dias_sem_chuva   precipitacao\n",
       "count  273373.000000  273373.000000          273373.000000  273373.000000\n",
       "mean      -12.048766     -48.222861              20.981487       0.209739\n",
       "std         4.372613       4.025935              60.127384       1.448025\n",
       "min       -24.617660     -60.029380            -999.000000       0.000000\n",
       "25%       -14.382070     -50.144900               7.000000       0.000000\n",
       "50%       -11.912250     -47.211150              20.000000       0.000000\n",
       "75%        -8.854180     -45.229420              36.000000       0.000000\n",
       "max        -2.382940     -41.698070             129.000000      66.900000"
      ]
     },
     "metadata": {},
     "output_type": "display_data"
    }
   ],
   "source": [
    "display(meses.describe())"
   ]
  },
  {
   "cell_type": "code",
   "execution_count": 9,
   "id": "fcd266b9-c945-46df-b1c2-adbcb9935e3c",
   "metadata": {},
   "outputs": [
    {
     "data": {
      "text/html": [
       "<div>\n",
       "<style scoped>\n",
       "    .dataframe tbody tr th:only-of-type {\n",
       "        vertical-align: middle;\n",
       "    }\n",
       "\n",
       "    .dataframe tbody tr th {\n",
       "        vertical-align: top;\n",
       "    }\n",
       "\n",
       "    .dataframe thead th {\n",
       "        text-align: right;\n",
       "    }\n",
       "</style>\n",
       "<table border=\"1\" class=\"dataframe\">\n",
       "  <thead>\n",
       "    <tr style=\"text-align: right;\">\n",
       "      <th></th>\n",
       "      <th>lat</th>\n",
       "      <th>lon</th>\n",
       "      <th>data_hora_gmt</th>\n",
       "      <th>numero_dias_sem_chuva</th>\n",
       "      <th>precipitacao</th>\n",
       "    </tr>\n",
       "  </thead>\n",
       "  <tbody>\n",
       "    <tr>\n",
       "      <th>0</th>\n",
       "      <td>-12.314859</td>\n",
       "      <td>-43.234066</td>\n",
       "      <td>2022-03-02 01:05:48</td>\n",
       "      <td>9.0</td>\n",
       "      <td>2.7</td>\n",
       "    </tr>\n",
       "    <tr>\n",
       "      <th>1</th>\n",
       "      <td>-14.901800</td>\n",
       "      <td>-52.233601</td>\n",
       "      <td>2022-03-02 01:23:36</td>\n",
       "      <td>0.0</td>\n",
       "      <td>6.2</td>\n",
       "    </tr>\n",
       "    <tr>\n",
       "      <th>2</th>\n",
       "      <td>-14.904000</td>\n",
       "      <td>-52.242802</td>\n",
       "      <td>2022-03-02 01:23:36</td>\n",
       "      <td>0.0</td>\n",
       "      <td>5.9</td>\n",
       "    </tr>\n",
       "    <tr>\n",
       "      <th>3</th>\n",
       "      <td>-20.227880</td>\n",
       "      <td>-46.415940</td>\n",
       "      <td>2022-03-02 01:28:00</td>\n",
       "      <td>8.0</td>\n",
       "      <td>0.0</td>\n",
       "    </tr>\n",
       "    <tr>\n",
       "      <th>4</th>\n",
       "      <td>-20.229250</td>\n",
       "      <td>-46.426820</td>\n",
       "      <td>2022-03-02 01:28:00</td>\n",
       "      <td>8.0</td>\n",
       "      <td>0.0</td>\n",
       "    </tr>\n",
       "    <tr>\n",
       "      <th>...</th>\n",
       "      <td>...</td>\n",
       "      <td>...</td>\n",
       "      <td>...</td>\n",
       "      <td>...</td>\n",
       "      <td>...</td>\n",
       "    </tr>\n",
       "    <tr>\n",
       "      <th>273368</th>\n",
       "      <td>-6.360000</td>\n",
       "      <td>-45.670000</td>\n",
       "      <td>2022-07-29 23:54:47</td>\n",
       "      <td>46.0</td>\n",
       "      <td>0.0</td>\n",
       "    </tr>\n",
       "    <tr>\n",
       "      <th>273369</th>\n",
       "      <td>-6.360000</td>\n",
       "      <td>-45.690000</td>\n",
       "      <td>2022-07-29 23:54:47</td>\n",
       "      <td>46.0</td>\n",
       "      <td>0.0</td>\n",
       "    </tr>\n",
       "    <tr>\n",
       "      <th>273370</th>\n",
       "      <td>-6.400000</td>\n",
       "      <td>-44.140000</td>\n",
       "      <td>2022-07-29 23:54:47</td>\n",
       "      <td>34.0</td>\n",
       "      <td>0.0</td>\n",
       "    </tr>\n",
       "    <tr>\n",
       "      <th>273371</th>\n",
       "      <td>-6.350000</td>\n",
       "      <td>-45.670000</td>\n",
       "      <td>2022-07-29 23:54:47</td>\n",
       "      <td>46.0</td>\n",
       "      <td>0.0</td>\n",
       "    </tr>\n",
       "    <tr>\n",
       "      <th>273372</th>\n",
       "      <td>-6.340000</td>\n",
       "      <td>-45.690000</td>\n",
       "      <td>2022-07-29 23:54:47</td>\n",
       "      <td>45.0</td>\n",
       "      <td>0.0</td>\n",
       "    </tr>\n",
       "  </tbody>\n",
       "</table>\n",
       "<p>273373 rows × 5 columns</p>\n",
       "</div>"
      ],
      "text/plain": [
       "              lat        lon        data_hora_gmt  numero_dias_sem_chuva  \\\n",
       "0      -12.314859 -43.234066  2022-03-02 01:05:48                    9.0   \n",
       "1      -14.901800 -52.233601  2022-03-02 01:23:36                    0.0   \n",
       "2      -14.904000 -52.242802  2022-03-02 01:23:36                    0.0   \n",
       "3      -20.227880 -46.415940  2022-03-02 01:28:00                    8.0   \n",
       "4      -20.229250 -46.426820  2022-03-02 01:28:00                    8.0   \n",
       "...           ...        ...                  ...                    ...   \n",
       "273368  -6.360000 -45.670000  2022-07-29 23:54:47                   46.0   \n",
       "273369  -6.360000 -45.690000  2022-07-29 23:54:47                   46.0   \n",
       "273370  -6.400000 -44.140000  2022-07-29 23:54:47                   34.0   \n",
       "273371  -6.350000 -45.670000  2022-07-29 23:54:47                   46.0   \n",
       "273372  -6.340000 -45.690000  2022-07-29 23:54:47                   45.0   \n",
       "\n",
       "        precipitacao  \n",
       "0                2.7  \n",
       "1                6.2  \n",
       "2                5.9  \n",
       "3                0.0  \n",
       "4                0.0  \n",
       "...              ...  \n",
       "273368           0.0  \n",
       "273369           0.0  \n",
       "273370           0.0  \n",
       "273371           0.0  \n",
       "273372           0.0  \n",
       "\n",
       "[273373 rows x 5 columns]"
      ]
     },
     "metadata": {},
     "output_type": "display_data"
    }
   ],
   "source": [
    "meses = meses.reset_index()\n",
    "del meses['index']\n",
    "display(meses)"
   ]
  },
  {
   "cell_type": "code",
   "execution_count": 10,
   "id": "d399ea35-c916-4d4e-8b70-5f2789c84b55",
   "metadata": {},
   "outputs": [],
   "source": [
    "TAMANHO_TESTE = 0.1 # fração de dados utilizada para teste: 10%\n",
    "SEMENTE_ALEATORIA = 6000 # semente escolhida aleatoriamente\n",
    "DATASET_NAME = \"meses\"\n",
    "FEATURES = [\"numero_dias_sem_chuva\", \"lat\", \"lon\"]\n",
    "TARGET = [\"precipitacao\"]\n",
    "\n",
    "indices = meses_2.index\n",
    "indices_treino, indices_teste = train_test_split(\n",
    "    indices, test_size=TAMANHO_TESTE, random_state=SEMENTE_ALEATORIA\n",
    ")\n",
    "\n",
    "meses_treino = meses_2.loc[indices_treino]\n",
    "meses_teste = meses_2.loc[indices_teste]\n",
    "\n",
    "X_treino = meses_treino.reindex(FEATURES, axis=1).values\n",
    "y_treino = meses_treino.reindex(TARGET, axis=1).values\n",
    "X_teste = meses_teste.reindex(FEATURES, axis=1).values\n",
    "y_teste = meses_teste.reindex(TARGET, axis=1).values"
   ]
  },
  {
   "cell_type": "markdown",
   "id": "c6f66181-2435-4c85-a25d-a0d3f06f2c3c",
   "metadata": {},
   "source": [
    "### K-vizinhos mais próximos"
   ]
  },
  {
   "cell_type": "code",
   "execution_count": 11,
   "id": "11f7138e-3492-4628-b8be-d59c05c1215e",
   "metadata": {},
   "outputs": [
    {
     "name": "stdout",
     "output_type": "stream",
     "text": [
      "[[0.5  ]\n",
      " [0.52 ]\n",
      " [3.   ]\n",
      " ...\n",
      " [3.78 ]\n",
      " [3.738]\n",
      " [0.098]]\n"
     ]
    }
   ],
   "source": [
    "#cria o modelo \n",
    "modelo_knn = KNeighborsRegressor()\n",
    "\n",
    "# treina o modelo\n",
    "modelo_knn.fit(X_treino, y_treino)\n",
    "\n",
    "# realiza uma previsão usando o modelo\n",
    "previsao_knn = modelo_knn.predict(X_teste)\n",
    "print(previsao_knn)"
   ]
  },
  {
   "cell_type": "code",
   "execution_count": 12,
   "id": "1ea26d59-fb53-43a8-beb4-5c994a642dca",
   "metadata": {},
   "outputs": [
    {
     "name": "stdout",
     "output_type": "stream",
     "text": [
      "O RMSE do modelo k-NN foi de 2.7236775698144493 com 1 vizinhos.\n",
      "O RMSE do modelo k-NN foi de 3.2878989795479794 com 5 vizinhos.\n",
      "O RMSE do modelo k-NN foi de 3.4986848958371763 com 10 vizinhos.\n",
      "O RMSE do modelo k-NN foi de 3.5948530449450864 com 15 vizinhos.\n",
      "O RMSE do modelo k-NN foi de 3.6648340196906846 com 20 vizinhos.\n"
     ]
    }
   ],
   "source": [
    "NUM_VIZINHOS = [1, 5, 10, 15, 20]\n",
    "\n",
    "for n in NUM_VIZINHOS:\n",
    "    modelo_knn = KNeighborsRegressor(n_neighbors=n)\n",
    "    \n",
    "    modelo_knn.fit(X_treino, y_treino)\n",
    "    \n",
    "    y_verdadeiro_knn = y_teste\n",
    "    y_previsao_knn = modelo_knn.predict(X_teste)\n",
    "\n",
    "    RMSE_knn = mean_squared_error(y_verdadeiro_knn, y_previsao_knn, squared=False)\n",
    "\n",
    "    print(f\"O RMSE do modelo k-NN foi de {RMSE_knn} com {n} vizinhos.\")"
   ]
  },
  {
   "cell_type": "code",
   "execution_count": 31,
   "id": "0610611e-3532-4f8d-8e50-6be83da98da5",
   "metadata": {},
   "outputs": [
    {
     "data": {
      "image/png": "[encoded data removed]",
      "text/plain": [
       "<Figure size 432x288 with 1 Axes>"
      ]
     },
     "metadata": {
      "needs_background": "light"
     },
     "output_type": "display_data"
    }
   ],
   "source": [
    "plt.plot(y_verdadeiro_knn, y_previsao_knn, label = 'Teste de Precisão do Dataset', ls='none', marker='o', alpha=0.2, markersize=2)\n",
    "plt.title('Modelo de Previsão - k-Vizinhos')\n",
    "plt.xlabel('Modelo Real')\n",
    "plt.ylabel('Modelo Previsão')\n",
    "plt.show()"
   ]
  },
  {
   "cell_type": "markdown",
   "id": "2838f341-a428-42d2-807b-6fc593367660",
   "metadata": {},
   "source": [
    "### Regressão Linear"
   ]
  },
  {
   "cell_type": "code",
   "execution_count": 14,
   "id": "e8e927f0-966a-4737-8ca4-a2bb74f37868",
   "metadata": {},
   "outputs": [
    {
     "name": "stdout",
     "output_type": "stream",
     "text": [
      "[[2.36602556]\n",
      " [1.84871257]\n",
      " [2.60723704]\n",
      " ...\n",
      " [1.88320297]\n",
      " [2.37085003]\n",
      " [1.97810482]]\n"
     ]
    }
   ],
   "source": [
    "# cria o modelo\n",
    "modelo_linear = LinearRegression()\n",
    "\n",
    "# treina o modelo\n",
    "modelo_linear.fit(X_treino, y_treino)\n",
    "\n",
    "# realiza uma previsão usando o modelo treinado\n",
    "previsao = modelo_linear.predict(X_teste)\n",
    "print(previsao)"
   ]
  },
  {
   "cell_type": "code",
   "execution_count": 15,
   "id": "ee1c666b-b2b0-4e8c-bff6-f3fc69edab99",
   "metadata": {},
   "outputs": [
    {
     "name": "stdout",
     "output_type": "stream",
     "text": [
      "O RMSE do modelo linear foi de 4.200570346370156.\n"
     ]
    }
   ],
   "source": [
    "y_verdadeiro_ml = y_teste\n",
    "y_previsao_ml = modelo_linear.predict(X_teste)\n",
    "\n",
    "RMSE_linear = mean_squared_error(y_verdadeiro_ml, y_previsao_ml, squared=False)\n",
    "\n",
    "print(f\"O RMSE do modelo linear foi de {RMSE_linear}.\")"
   ]
  },
  {
   "cell_type": "code",
   "execution_count": 27,
   "id": "7fa99f62-da45-49c6-8dd4-46245e228db7",
   "metadata": {},
   "outputs": [
    {
     "data": {
      "image/png": "[encoded data removed]",
      "text/plain": [
       "<Figure size 432x288 with 1 Axes>"
      ]
     },
     "metadata": {
      "needs_background": "light"
     },
     "output_type": "display_data"
    }
   ],
   "source": [
    "plt.plot(y_verdadeiro_ml, y_previsao_ml, label = 'Teste de Precisão do Dataset', ls='none', marker='o', alpha=0.2, markersize=2)\n",
    "plt.title('Modelo de Previsão - Regressão Linear')\n",
    "plt.xlabel('Modelo Real')\n",
    "plt.ylabel('Modelo Previsão')\n",
    "plt.show()"
   ]
  },
  {
   "cell_type": "markdown",
   "id": "b7c1c570-3c2a-483a-ac62-d7810ae8fc1a",
   "metadata": {},
   "source": [
    "### Árvore de Decisão"
   ]
  },
  {
   "cell_type": "code",
   "execution_count": 17,
   "id": "c4e59035-04a8-4270-9279-cacc4106b50c",
   "metadata": {},
   "outputs": [
    {
     "name": "stdout",
     "output_type": "stream",
     "text": [
      "[0.5  0.73 3.1  ... 2.9  3.76 0.2 ]\n"
     ]
    }
   ],
   "source": [
    "from sklearn.tree import DecisionTreeRegressor\n",
    "\n",
    "# cria o modelo\n",
    "modelo_ad = DecisionTreeRegressor(random_state=SEMENTE_ALEATORIA)\n",
    "\n",
    "# treina o modelo\n",
    "modelo_ad.fit(X_treino, y_treino)\n",
    "\n",
    "# realiza uma previsão usando o modelo treinado\n",
    "previsao_ad = modelo_ad.predict(X_teste)\n",
    "print(previsao_ad)"
   ]
  },
  {
   "cell_type": "code",
   "execution_count": 18,
   "id": "afef3c48-73a8-45bd-86a2-16ec5c981ee2",
   "metadata": {},
   "outputs": [
    {
     "name": "stdout",
     "output_type": "stream",
     "text": [
      "O RMSE do modelo AD usando max_leaf_nodes=None e max_depth=None foi de 2.45.\n",
      "O RMSE do modelo AD usando max_leaf_nodes=None e max_depth=3 foi de 4.12.\n",
      "O RMSE do modelo AD usando max_leaf_nodes=None e max_depth=10 foi de 3.47.\n",
      "O RMSE do modelo AD usando max_leaf_nodes=6 e max_depth=None foi de 4.16.\n",
      "O RMSE do modelo AD usando max_leaf_nodes=6 e max_depth=3 foi de 4.14.\n",
      "O RMSE do modelo AD usando max_leaf_nodes=6 e max_depth=10 foi de 4.16.\n",
      "O RMSE do modelo AD usando max_leaf_nodes=36 e max_depth=None foi de 3.99.\n",
      "O RMSE do modelo AD usando max_leaf_nodes=36 e max_depth=3 foi de 4.12.\n",
      "O RMSE do modelo AD usando max_leaf_nodes=36 e max_depth=10 foi de 3.90.\n"
     ]
    }
   ],
   "source": [
    "from itertools import product\n",
    "\n",
    "NUM_FOLHAS = [None, 6, 36]\n",
    "NUM_PROFUNDIDADE = [None, 3, 10]\n",
    "\n",
    "for n_folhas, n_profundidade in product(NUM_FOLHAS, NUM_PROFUNDIDADE):\n",
    "    modelo_ad = DecisionTreeRegressor(\n",
    "        max_leaf_nodes=n_folhas,\n",
    "        max_depth=n_profundidade,\n",
    "        random_state=SEMENTE_ALEATORIA,\n",
    "    )\n",
    "\n",
    "    modelo_ad.fit(X_treino, y_treino)\n",
    "\n",
    "    y_verdadeiro_ad = y_teste\n",
    "    y_previsao_ad = modelo_ad.predict(X_teste)\n",
    "    RMSE_ad = mean_squared_error(y_verdadeiro_ad, y_previsao_ad, squared=False)\n",
    "\n",
    "    print(\n",
    "        f\"O RMSE do modelo AD usando max_leaf_nodes={n_folhas} \"\n",
    "        f\"e max_depth={n_profundidade} foi de {RMSE_ad:.2f}.\"\n",
    "    )"
   ]
  },
  {
   "cell_type": "code",
   "execution_count": 32,
   "id": "9318dda4-6c5b-468d-a277-c7d6d3f79970",
   "metadata": {},
   "outputs": [
    {
     "data": {
      "image/png": "[encoded data removed]",
      "text/plain": [
       "<Figure size 432x288 with 1 Axes>"
      ]
     },
     "metadata": {
      "needs_background": "light"
     },
     "output_type": "display_data"
    }
   ],
   "source": [
    "plt.plot(y_verdadeiro_ad, y_previsao_ad, label = 'Teste de Precisão do Dataset', ls='none', marker='o', alpha=0.2, markersize=2)\n",
    "plt.title('Modelo de Previsão - Árvora de Decisão')\n",
    "plt.xlabel('Modelo Real')\n",
    "plt.ylabel('Modelo Previsão')\n",
    "plt.show()"
   ]
  },
  {
   "cell_type": "markdown",
   "id": "39ad9611-56c5-46cf-9538-221bcedb41db",
   "metadata": {},
   "source": [
    "### Floresta Aleatória"
   ]
  },
  {
   "cell_type": "code",
   "execution_count": 21,
   "id": "13396916-1fad-4674-a43b-d7851f54799c",
   "metadata": {},
   "outputs": [
    {
     "name": "stdout",
     "output_type": "stream",
     "text": [
      "(25049, 1) (2784, 1)\n",
      "(25049,) (2784,)\n",
      "\n",
      "[0.5        0.76503289 3.064      ... 3.256      3.7539     0.3353    ]\n"
     ]
    }
   ],
   "source": [
    "from sklearn.ensemble import RandomForestRegressor\n",
    "\n",
    "# alterando o formato do target\n",
    "print(y_treino.shape, y_teste.shape)\n",
    "y_treino = y_treino.ravel()\n",
    "y_teste = y_teste.ravel()\n",
    "print(y_treino.shape, y_teste.shape)\n",
    "\n",
    "# cria o modelo\n",
    "modelo_fa = RandomForestRegressor(random_state=SEMENTE_ALEATORIA)\n",
    "\n",
    "# treina o modelo\n",
    "modelo_fa.fit(X_treino, y_treino)\n",
    "\n",
    "# realiza uma previsão usando o modelo treinado\n",
    "previsao_fa = modelo_fa.predict(X_teste)\n",
    "print()\n",
    "print(previsao_fa)"
   ]
  },
  {
   "cell_type": "code",
   "execution_count": 23,
   "id": "a3fd4809-30da-40ff-bfdc-ad6b87e9eb8d",
   "metadata": {},
   "outputs": [
    {
     "name": "stdout",
     "output_type": "stream",
     "text": [
      "O RMSE do modelo RF usando n_estimators=10 max_leaf_nodes=None e max_depth=None foi de 2.61.\n",
      "O RMSE do modelo RF usando n_estimators=100 max_leaf_nodes=None e max_depth=None foi de 2.47.\n",
      "O RMSE do modelo RF usando n_estimators=300 max_leaf_nodes=None e max_depth=None foi de 2.46.\n",
      "O RMSE do modelo RF usando n_estimators=10 max_leaf_nodes=None e max_depth=3 foi de 4.08.\n",
      "O RMSE do modelo RF usando n_estimators=100 max_leaf_nodes=None e max_depth=3 foi de 4.09.\n",
      "O RMSE do modelo RF usando n_estimators=300 max_leaf_nodes=None e max_depth=3 foi de 4.09.\n",
      "O RMSE do modelo RF usando n_estimators=10 max_leaf_nodes=6 e max_depth=None foi de 4.11.\n",
      "O RMSE do modelo RF usando n_estimators=100 max_leaf_nodes=6 e max_depth=None foi de 4.12.\n",
      "O RMSE do modelo RF usando n_estimators=300 max_leaf_nodes=6 e max_depth=None foi de 4.12.\n",
      "O RMSE do modelo RF usando n_estimators=10 max_leaf_nodes=6 e max_depth=3 foi de 4.11.\n",
      "O RMSE do modelo RF usando n_estimators=100 max_leaf_nodes=6 e max_depth=3 foi de 4.11.\n",
      "O RMSE do modelo RF usando n_estimators=300 max_leaf_nodes=6 e max_depth=3 foi de 4.11.\n"
     ]
    }
   ],
   "source": [
    "from itertools import product\n",
    "\n",
    "NUM_ARVORES = [10, 100, 300]\n",
    "NUM_FOLHAS = [None, 6]\n",
    "NUM_PROFUNDIDADE = [None, 3]\n",
    "\n",
    "for n_folhas, n_profundidade, n_arvores in product(\n",
    "    NUM_FOLHAS, NUM_PROFUNDIDADE, NUM_ARVORES\n",
    "):\n",
    "    modelo_fa = RandomForestRegressor(\n",
    "        n_estimators = n_arvores,\n",
    "        max_leaf_nodes = n_folhas,\n",
    "        max_depth = n_profundidade,\n",
    "        random_state = SEMENTE_ALEATORIA,\n",
    "        n_jobs = 4,\n",
    "    )\n",
    "\n",
    "    modelo_fa.fit(X_treino, y_treino)\n",
    "\n",
    "    y_verdadeiro_fa = y_teste\n",
    "    y_previsao_fa = modelo_fa.predict(X_teste)\n",
    "    \n",
    "    RMSE_fa = mean_squared_error(y_verdadeiro_fa, y_previsao_fa, squared=False)\n",
    "\n",
    "    print(\n",
    "        f\"O RMSE do modelo RF usando \"\n",
    "        f\"n_estimators={n_arvores} max_leaf_nodes={n_folhas} \"\n",
    "        f\"e max_depth={n_profundidade} foi de {RMSE_fa:.2f}.\"\n",
    "    )"
   ]
  },
  {
   "cell_type": "code",
   "execution_count": 30,
   "id": "fac4252a-e2b7-4fe8-8b4b-cdeb2131b2d9",
   "metadata": {},
   "outputs": [
    {
     "data": {
      "image/png": "[encoded data removed]",
      "text/plain": [
       "<Figure size 432x288 with 1 Axes>"
      ]
     },
     "metadata": {
      "needs_background": "light"
     },
     "output_type": "display_data"
    }
   ],
   "source": [
    "plt.plot(y_verdadeiro_fa, y_previsao_fa, label = 'Teste de Precisão do Dataset', ls='none', marker='o', alpha=0.2, markersize=2)\n",
    "plt.title('Modelo de Previsão - Floresta Aleatória')\n",
    "plt.xlabel('Modelo Real')\n",
    "plt.ylabel('Modelo Previsão')\n",
    "plt.show()"
   ]
  },
  {
   "cell_type": "markdown",
   "id": "92ef4a9a-1d29-4e9c-aade-f3219fd235b7",
   "metadata": {},
   "source": [
    "Analisar e criar uma hipótese do que pode ser, vemos que claramente, não conseguimos prever nada com os dados que temos. A falta e features pode ter influenciado fortemente nos resultados dos modelos, uma vez que não temos informações básicas como temperatura, umidade do ar e do solo e até o uso de solo."
   ]
  },
  {
   "cell_type": "markdown",
   "id": "ccb370f5-7951-4611-80f0-0b03c57fb137",
   "metadata": {},
   "source": [
    "Falta de especificação e diferenciação de dados numéricos, o que causa essas colunas de pontos sobrepostos."
   ]
  },
  {
   "cell_type": "code",
   "execution_count": null,
   "id": "818984ac-1251-451b-9302-2019a2829610",
   "metadata": {},
   "outputs": [],
   "source": []
  }
 ],
 "metadata": {
  "kernelspec": {
   "display_name": "ilumpy",
   "language": "python",
   "name": "ilumpy"
  },
  "language_info": {
   "codemirror_mode": {
    "name": "ipython",
    "version": 3
   },
   "file_extension": ".py",
   "mimetype": "text/x-python",
   "name": "python",
   "nbconvert_exporter": "python",
   "pygments_lexer": "ipython3",
   "version": "3.9.7"
  }
 },
 "nbformat": 4,
 "nbformat_minor": 5
}
