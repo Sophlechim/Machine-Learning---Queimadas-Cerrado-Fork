{
  "nbformat": 4,
  "nbformat_minor": 0,
  "metadata": {
    "colab": {
      "provenance": [],
      "authorship_tag": "ABX9TyPynzaQeNt2Pwz1GB+gZ+26",
      "include_colab_link": true
    },
    "kernelspec": {
      "name": "python3",
      "display_name": "Python 3"
    },
    "language_info": {
      "name": "python"
    }
  },
  "cells": [
    {
      "cell_type": "markdown",
      "metadata": {
        "id": "view-in-github",
        "colab_type": "text"
      },
      "source": [
        "<a href=\"https://colab.research.google.com/github/monocas/Machine-Learning----Queimadas-Cerrado/blob/main/Projeto_ML_Oficial.ipynb\" target=\"_parent\"><img src=\"https://colab.research.google.com/assets/colab-badge.svg\" alt=\"Open In Colab\"/></a>"
      ]
    },
    {
      "cell_type": "code",
      "execution_count": 5,
      "metadata": {
        "id": "dFEU4t1PsOln"
      },
      "outputs": [],
      "source": []
    },
    {
      "cell_type": "markdown",
      "metadata": {
        "id": "f723d4f2-0ccf-4278-bfd1-60ce1ffa33b2"
      },
      "source": [
        "### **RISCO DE FOGO: QUEIMADAS NO CERRADO**\n",
        "<hr>\n",
        "<p align=\"justify\">\n",
        "O primeiro bloco da disciplina de Aprendizado de Máquina trata da coleta e análise exploratória de dados. Desenvolvemos um modelo de previsão para incidência de focos de incêndio no Cerrado a partir do banco de dados de queimadas do INPE. O grupo é composto pelas alunas:\n",
        "<p align=\"justify\">\n",
        "Isabela Bento Beneti </p>\n",
        "<p align=\"justify\">\n",
        "Monyque Karoline de Paula Silva </p>\n",
        "<p align=\"justify\">\n",
        "Sofia Baccega C.C. de Oliveira </p>\n",
        "<p align=\"justify\">\n",
        "Sophia Figueiredo Michel </p>\n",
        "<hr>\n",
        "\n",
        "### **Início:**\n",
        "<p align=\"justify\">\n",
        "Neste bloco tratamos e analisamos os dados obtidos a respeito dos focos de incêndio registrados no Cerrado durante o período Janeiro-Julho de 2022. Para isso, construímos e filtramos o dataframe e utilizamos bibliotecas de processamento, análise e plotagem de dados.\n",
        "</p>"
      ]
    },
    {
      "cell_type": "markdown",
      "metadata": {
        "id": "91bf04d8-0846-458f-8daa-7478fce608ce"
      },
      "source": [
        "### **Coleta:**"
      ]
    },
    {
      "cell_type": "code",
      "execution_count": 6,
      "metadata": {
        "id": "d599a2b6-ef46-47d1-ba4c-39692c0926f3"
      },
      "outputs": [],
      "source": [
        "import pandas as pd\n",
        "import seaborn as sns\n",
        "import matplotlib.pyplot as plt\n",
        "import numpy as np\n",
        "from scipy import stats\n",
        "from sklearn.pipeline import Pipeline\n",
        "from sklearn.preprocessing import PolynomialFeatures\n",
        "from sklearn.linear_model import LinearRegression\n",
        "from sklearn.model_selection import train_test_split\n",
        "from sklearn.dummy import DummyRegressor\n",
        "from sklearn.metrics import mean_squared_error\n",
        "from sklearn.neighbors import KNeighborsRegressor\n",
        "from sklearn.preprocessing import MinMaxScaler\n",
        "from sklearn.tree import DecisionTreeRegressor\n",
        "from itertools import product\n",
        "from matplotlib import pyplot as plt\n",
        "from sklearn import tree"
      ]
    },
    {
      "cell_type": "code",
      "execution_count": 7,
      "metadata": {
        "id": "7b240f1e-4a9b-4f32-8d61-b33c8ddb6928"
      },
      "outputs": [],
      "source": [
        "#Dados do Cerrado Brasileiro, armazenados mensalmente via .csv\n",
        "arquivos = ['janeiro.csv','fev.csv','marco.csv','abril.csv','maio.csv','junho.csv','julho.csv']"
      ]
    },
    {
      "cell_type": "code",
      "execution_count": 8,
      "metadata": {
        "id": "437be181-8d79-4dc6-a734-c0ad9b2272f0"
      },
      "outputs": [],
      "source": [
        "def read_csv(list_of_files):\n",
        "    dfs = []\n",
        "    for x in list_of_files:\n",
        "        file = pd.read_csv(x, sep=',')\n",
        "        dfs.append(file)\n",
        "    df = pd.concat(dfs).reset_index(drop=True)\n",
        "        \n",
        "    return df"
      ]
    },
    {
      "cell_type": "code",
      "execution_count": 12,
      "metadata": {
        "id": "a7f83c41-9b26-4e21-bc62-817d9330febd"
      },
      "outputs": [],
      "source": [
        "meses = read_csv(arquivos)"
      ]
    },
    {
      "cell_type": "markdown",
      "metadata": {
        "id": "d99c37ad-e536-4116-a17f-dfd1365c9c03"
      },
      "source": [
        "Utilizamos o comando drop, da biblioteca pandas, para eliminar as linhas dos dados não atribuídos (NaN)."
      ]
    },
    {
      "cell_type": "code",
      "execution_count": 13,
      "metadata": {
        "id": "e088e9bd-6184-4523-80df-e26d0d77ebff"
      },
      "outputs": [],
      "source": [
        "#Dados trabalhados para a eliminação de NaN nas colunas e identificação dos tipos de dados\n",
        "meses.convert_dtypes()\n",
        "meses.dropna(how='any', inplace=True)"
      ]
    },
    {
      "cell_type": "code",
      "execution_count": 14,
      "metadata": {
        "id": "a55ee367-b6c9-4cbe-8710-a147d3810ab8"
      },
      "outputs": [],
      "source": [
        "## Para rodar o código pela primeira vez, descomente essas linhas\n",
        "\n",
        "meses.drop(columns=['Unnamed: 0','estado', 'municipio', 'pais', 'municipio_id', 'estado_id', 'pais_id', 'bioma'], axis = 1, inplace=True)"
      ]
    },
    {
      "cell_type": "code",
      "execution_count": 15,
      "metadata": {
        "id": "d0b6ebd4-0128-459c-8ca4-13fdd0d28332",
        "outputId": "88f9051e-b94d-47f3-b758-aef0a8fc6cef",
        "colab": {
          "base_uri": "https://localhost:8080/"
        }
      },
      "outputs": [
        {
          "output_type": "execute_result",
          "data": {
            "text/plain": [
              "<bound method NDFrame.describe of               lat        lon mes hora  numero_dias_sem_chuva  precipitacao  \\\n",
              "775    -12.314859 -43.234066   3   01                    9.0           2.7   \n",
              "778    -20.227880 -46.415940   3   01                    8.0           0.0   \n",
              "779    -20.229250 -46.426820   3   01                    8.0           0.0   \n",
              "780    -20.238930 -46.425510   3   01                    8.0           0.0   \n",
              "781    -20.237550 -46.414600   3   01                    8.0           0.0   \n",
              "...           ...        ...  ..  ...                    ...           ...   \n",
              "287431  -6.360000 -45.670000   7   23                   46.0           0.0   \n",
              "287432  -6.360000 -45.690000   7   23                   46.0           0.0   \n",
              "287433  -6.400000 -44.140000   7   23                   34.0           0.0   \n",
              "287434  -6.350000 -45.670000   7   23                   46.0           0.0   \n",
              "287435  -6.340000 -45.690000   7   23                   45.0           0.0   \n",
              "\n",
              "        risco_fogo  \n",
              "775            1.0  \n",
              "778            0.3  \n",
              "779            0.3  \n",
              "780            0.4  \n",
              "781            0.4  \n",
              "...            ...  \n",
              "287431         1.0  \n",
              "287432         1.0  \n",
              "287433         1.0  \n",
              "287434         1.0  \n",
              "287435         1.0  \n",
              "\n",
              "[265141 rows x 7 columns]>"
            ]
          },
          "metadata": {},
          "execution_count": 15
        }
      ],
      "source": [
        "meses['satelite']= meses['data_hora_gmt']\n",
        "meses['satelite'] = meses['satelite'].str[11:13] #criando coluna \"hora\" a partir de \"data_hora_gmt\"\n",
        "meses['data_hora_gmt'] = meses['data_hora_gmt'].str[6] #criando coluna \"mes\" a partir de \"data_hora_gmt\"\n",
        "meses_fogo = meses['risco_fogo'] > 0\n",
        "meses.rename(columns={'satelite': 'hora'}, inplace= True)\n",
        "meses.rename(columns={'data_hora_gmt': 'mes'}, inplace = True)\n",
        "meses = meses[meses_fogo]\n",
        "meses.describe"
      ]
    },
    {
      "cell_type": "markdown",
      "metadata": {
        "id": "8d817b37-a484-4cf7-a5ff-4e8ec536b5a0"
      },
      "source": [
        "Após a seleção de colunas, identificamos os tipos de dados utilizados em cada coluna. Para o nosso dataframe, quisemos verificar quais variáveis numéricas temos e quais teremos que converter para float."
      ]
    },
    {
      "cell_type": "code",
      "execution_count": 16,
      "metadata": {
        "id": "9adeea55-4c6b-471b-b384-bf1aff6fdda5",
        "outputId": "e79ffdd6-9d29-490c-af42-0e80bb5312aa",
        "colab": {
          "base_uri": "https://localhost:8080/"
        }
      },
      "outputs": [
        {
          "output_type": "execute_result",
          "data": {
            "text/plain": [
              "(lat                      float64\n",
              " lon                      float64\n",
              " mes                       object\n",
              " hora                      object\n",
              " numero_dias_sem_chuva    float64\n",
              " precipitacao             float64\n",
              " risco_fogo               float64\n",
              " dtype: object, (265141, 7))"
            ]
          },
          "metadata": {},
          "execution_count": 16
        }
      ],
      "source": [
        "meses.dtypes, meses.shape"
      ]
    },
    {
      "cell_type": "markdown",
      "metadata": {
        "id": "3b10ba09-2c32-4eba-8598-5e57d3eebe69"
      },
      "source": [
        "Então, alteramos a coluna \"data_hora_gmt\" de string (object) para float:"
      ]
    },
    {
      "cell_type": "code",
      "execution_count": 17,
      "metadata": {
        "id": "729fb8cb-e653-4304-94f0-8750a06cd0ff",
        "outputId": "5dbe3fb6-020c-4060-e7c2-7ff19df02c02",
        "colab": {
          "base_uri": "https://localhost:8080/"
        }
      },
      "outputs": [
        {
          "output_type": "stream",
          "name": "stdout",
          "text": [
            "lat                      float64\n",
            "lon                      float64\n",
            "mes                      float64\n",
            "hora                     float64\n",
            "numero_dias_sem_chuva    float64\n",
            "precipitacao             float64\n",
            "risco_fogo               float64\n",
            "dtype: object\n"
          ]
        }
      ],
      "source": [
        "meses[\"mes\"] = meses[\"mes\"].astype(float)\n",
        "meses[\"hora\"] = meses[\"hora\"].astype(float)\n",
        "print(meses.dtypes)"
      ]
    },
    {
      "cell_type": "code",
      "execution_count": 18,
      "metadata": {
        "id": "d9b4957c-06b9-4265-8e93-90780b4c2ea4",
        "outputId": "62e322ab-45aa-41a6-a101-dee5035f1550",
        "colab": {
          "base_uri": "https://localhost:8080/",
          "height": 300
        }
      },
      "outputs": [
        {
          "output_type": "display_data",
          "data": {
            "text/plain": [
              "                 lat            lon            mes           hora  \\\n",
              "count  265141.000000  265141.000000  265141.000000  265141.000000   \n",
              "mean      -11.978888     -48.191533       5.959584      13.805519   \n",
              "std         4.324839       4.013527       1.203238       6.113204   \n",
              "min       -24.617660     -60.029380       2.000000       0.000000   \n",
              "25%       -14.334340     -50.130000       5.000000      12.000000   \n",
              "50%       -11.840000     -47.163000       6.000000      16.000000   \n",
              "75%        -8.780950     -45.208540       7.000000      17.000000   \n",
              "max        -2.383860     -41.698070       7.000000      23.000000   \n",
              "\n",
              "       numero_dias_sem_chuva   precipitacao     risco_fogo  \n",
              "count          265141.000000  265141.000000  265141.000000  \n",
              "mean               21.485572       0.098769       0.850110  \n",
              "std                60.515029       0.611814       0.255347  \n",
              "min              -999.000000       0.000000       0.010000  \n",
              "25%                 7.000000       0.000000       0.800000  \n",
              "50%                20.000000       0.000000       1.000000  \n",
              "75%                37.000000       0.000000       1.000000  \n",
              "max               129.000000      21.050000       1.000000  "
            ],
            "text/html": [
              "\n",
              "  <div id=\"df-696a4e5f-95fc-4f39-8962-110777c9211a\">\n",
              "    <div class=\"colab-df-container\">\n",
              "      <div>\n",
              "<style scoped>\n",
              "    .dataframe tbody tr th:only-of-type {\n",
              "        vertical-align: middle;\n",
              "    }\n",
              "\n",
              "    .dataframe tbody tr th {\n",
              "        vertical-align: top;\n",
              "    }\n",
              "\n",
              "    .dataframe thead th {\n",
              "        text-align: right;\n",
              "    }\n",
              "</style>\n",
              "<table border=\"1\" class=\"dataframe\">\n",
              "  <thead>\n",
              "    <tr style=\"text-align: right;\">\n",
              "      <th></th>\n",
              "      <th>lat</th>\n",
              "      <th>lon</th>\n",
              "      <th>mes</th>\n",
              "      <th>hora</th>\n",
              "      <th>numero_dias_sem_chuva</th>\n",
              "      <th>precipitacao</th>\n",
              "      <th>risco_fogo</th>\n",
              "    </tr>\n",
              "  </thead>\n",
              "  <tbody>\n",
              "    <tr>\n",
              "      <th>count</th>\n",
              "      <td>265141.000000</td>\n",
              "      <td>265141.000000</td>\n",
              "      <td>265141.000000</td>\n",
              "      <td>265141.000000</td>\n",
              "      <td>265141.000000</td>\n",
              "      <td>265141.000000</td>\n",
              "      <td>265141.000000</td>\n",
              "    </tr>\n",
              "    <tr>\n",
              "      <th>mean</th>\n",
              "      <td>-11.978888</td>\n",
              "      <td>-48.191533</td>\n",
              "      <td>5.959584</td>\n",
              "      <td>13.805519</td>\n",
              "      <td>21.485572</td>\n",
              "      <td>0.098769</td>\n",
              "      <td>0.850110</td>\n",
              "    </tr>\n",
              "    <tr>\n",
              "      <th>std</th>\n",
              "      <td>4.324839</td>\n",
              "      <td>4.013527</td>\n",
              "      <td>1.203238</td>\n",
              "      <td>6.113204</td>\n",
              "      <td>60.515029</td>\n",
              "      <td>0.611814</td>\n",
              "      <td>0.255347</td>\n",
              "    </tr>\n",
              "    <tr>\n",
              "      <th>min</th>\n",
              "      <td>-24.617660</td>\n",
              "      <td>-60.029380</td>\n",
              "      <td>2.000000</td>\n",
              "      <td>0.000000</td>\n",
              "      <td>-999.000000</td>\n",
              "      <td>0.000000</td>\n",
              "      <td>0.010000</td>\n",
              "    </tr>\n",
              "    <tr>\n",
              "      <th>25%</th>\n",
              "      <td>-14.334340</td>\n",
              "      <td>-50.130000</td>\n",
              "      <td>5.000000</td>\n",
              "      <td>12.000000</td>\n",
              "      <td>7.000000</td>\n",
              "      <td>0.000000</td>\n",
              "      <td>0.800000</td>\n",
              "    </tr>\n",
              "    <tr>\n",
              "      <th>50%</th>\n",
              "      <td>-11.840000</td>\n",
              "      <td>-47.163000</td>\n",
              "      <td>6.000000</td>\n",
              "      <td>16.000000</td>\n",
              "      <td>20.000000</td>\n",
              "      <td>0.000000</td>\n",
              "      <td>1.000000</td>\n",
              "    </tr>\n",
              "    <tr>\n",
              "      <th>75%</th>\n",
              "      <td>-8.780950</td>\n",
              "      <td>-45.208540</td>\n",
              "      <td>7.000000</td>\n",
              "      <td>17.000000</td>\n",
              "      <td>37.000000</td>\n",
              "      <td>0.000000</td>\n",
              "      <td>1.000000</td>\n",
              "    </tr>\n",
              "    <tr>\n",
              "      <th>max</th>\n",
              "      <td>-2.383860</td>\n",
              "      <td>-41.698070</td>\n",
              "      <td>7.000000</td>\n",
              "      <td>23.000000</td>\n",
              "      <td>129.000000</td>\n",
              "      <td>21.050000</td>\n",
              "      <td>1.000000</td>\n",
              "    </tr>\n",
              "  </tbody>\n",
              "</table>\n",
              "</div>\n",
              "      <button class=\"colab-df-convert\" onclick=\"convertToInteractive('df-696a4e5f-95fc-4f39-8962-110777c9211a')\"\n",
              "              title=\"Convert this dataframe to an interactive table.\"\n",
              "              style=\"display:none;\">\n",
              "        \n",
              "  <svg xmlns=\"http://www.w3.org/2000/svg\" height=\"24px\"viewBox=\"0 0 24 24\"\n",
              "       width=\"24px\">\n",
              "    <path d=\"M0 0h24v24H0V0z\" fill=\"none\"/>\n",
              "    <path d=\"M18.56 5.44l.94 2.06.94-2.06 2.06-.94-2.06-.94-.94-2.06-.94 2.06-2.06.94zm-11 1L8.5 8.5l.94-2.06 2.06-.94-2.06-.94L8.5 2.5l-.94 2.06-2.06.94zm10 10l.94 2.06.94-2.06 2.06-.94-2.06-.94-.94-2.06-.94 2.06-2.06.94z\"/><path d=\"M17.41 7.96l-1.37-1.37c-.4-.4-.92-.59-1.43-.59-.52 0-1.04.2-1.43.59L10.3 9.45l-7.72 7.72c-.78.78-.78 2.05 0 2.83L4 21.41c.39.39.9.59 1.41.59.51 0 1.02-.2 1.41-.59l7.78-7.78 2.81-2.81c.8-.78.8-2.07 0-2.86zM5.41 20L4 18.59l7.72-7.72 1.47 1.35L5.41 20z\"/>\n",
              "  </svg>\n",
              "      </button>\n",
              "      \n",
              "  <style>\n",
              "    .colab-df-container {\n",
              "      display:flex;\n",
              "      flex-wrap:wrap;\n",
              "      gap: 12px;\n",
              "    }\n",
              "\n",
              "    .colab-df-convert {\n",
              "      background-color: #E8F0FE;\n",
              "      border: none;\n",
              "      border-radius: 50%;\n",
              "      cursor: pointer;\n",
              "      display: none;\n",
              "      fill: #1967D2;\n",
              "      height: 32px;\n",
              "      padding: 0 0 0 0;\n",
              "      width: 32px;\n",
              "    }\n",
              "\n",
              "    .colab-df-convert:hover {\n",
              "      background-color: #E2EBFA;\n",
              "      box-shadow: 0px 1px 2px rgba(60, 64, 67, 0.3), 0px 1px 3px 1px rgba(60, 64, 67, 0.15);\n",
              "      fill: #174EA6;\n",
              "    }\n",
              "\n",
              "    [theme=dark] .colab-df-convert {\n",
              "      background-color: #3B4455;\n",
              "      fill: #D2E3FC;\n",
              "    }\n",
              "\n",
              "    [theme=dark] .colab-df-convert:hover {\n",
              "      background-color: #434B5C;\n",
              "      box-shadow: 0px 1px 3px 1px rgba(0, 0, 0, 0.15);\n",
              "      filter: drop-shadow(0px 1px 2px rgba(0, 0, 0, 0.3));\n",
              "      fill: #FFFFFF;\n",
              "    }\n",
              "  </style>\n",
              "\n",
              "      <script>\n",
              "        const buttonEl =\n",
              "          document.querySelector('#df-696a4e5f-95fc-4f39-8962-110777c9211a button.colab-df-convert');\n",
              "        buttonEl.style.display =\n",
              "          google.colab.kernel.accessAllowed ? 'block' : 'none';\n",
              "\n",
              "        async function convertToInteractive(key) {\n",
              "          const element = document.querySelector('#df-696a4e5f-95fc-4f39-8962-110777c9211a');\n",
              "          const dataTable =\n",
              "            await google.colab.kernel.invokeFunction('convertToInteractive',\n",
              "                                                     [key], {});\n",
              "          if (!dataTable) return;\n",
              "\n",
              "          const docLinkHtml = 'Like what you see? Visit the ' +\n",
              "            '<a target=\"_blank\" href=https://colab.research.google.com/notebooks/data_table.ipynb>data table notebook</a>'\n",
              "            + ' to learn more about interactive tables.';\n",
              "          element.innerHTML = '';\n",
              "          dataTable['output_type'] = 'display_data';\n",
              "          await google.colab.output.renderOutput(dataTable, element);\n",
              "          const docLink = document.createElement('div');\n",
              "          docLink.innerHTML = docLinkHtml;\n",
              "          element.appendChild(docLink);\n",
              "        }\n",
              "      </script>\n",
              "    </div>\n",
              "  </div>\n",
              "  "
            ]
          },
          "metadata": {}
        }
      ],
      "source": [
        "display(meses.describe())"
      ]
    },
    {
      "cell_type": "code",
      "execution_count": 19,
      "metadata": {
        "id": "17ff7fee-e4e7-4be4-b97f-279e736002cd",
        "outputId": "e7420d5b-62b3-413a-f76e-f6ada4c1ce25",
        "colab": {
          "base_uri": "https://localhost:8080/",
          "height": 423
        }
      },
      "outputs": [
        {
          "output_type": "display_data",
          "data": {
            "text/plain": [
              "              lat        lon  mes  hora  numero_dias_sem_chuva  precipitacao  \\\n",
              "0      -12.314859 -43.234066  3.0   1.0                    9.0           2.7   \n",
              "1      -20.227880 -46.415940  3.0   1.0                    8.0           0.0   \n",
              "2      -20.229250 -46.426820  3.0   1.0                    8.0           0.0   \n",
              "3      -20.238930 -46.425510  3.0   1.0                    8.0           0.0   \n",
              "4      -20.237550 -46.414600  3.0   1.0                    8.0           0.0   \n",
              "...           ...        ...  ...   ...                    ...           ...   \n",
              "265136  -6.360000 -45.670000  7.0  23.0                   46.0           0.0   \n",
              "265137  -6.360000 -45.690000  7.0  23.0                   46.0           0.0   \n",
              "265138  -6.400000 -44.140000  7.0  23.0                   34.0           0.0   \n",
              "265139  -6.350000 -45.670000  7.0  23.0                   46.0           0.0   \n",
              "265140  -6.340000 -45.690000  7.0  23.0                   45.0           0.0   \n",
              "\n",
              "        risco_fogo  \n",
              "0              1.0  \n",
              "1              0.3  \n",
              "2              0.3  \n",
              "3              0.4  \n",
              "4              0.4  \n",
              "...            ...  \n",
              "265136         1.0  \n",
              "265137         1.0  \n",
              "265138         1.0  \n",
              "265139         1.0  \n",
              "265140         1.0  \n",
              "\n",
              "[265141 rows x 7 columns]"
            ],
            "text/html": [
              "\n",
              "  <div id=\"df-7fbc7d7d-9de9-429b-ae45-c557750872bd\">\n",
              "    <div class=\"colab-df-container\">\n",
              "      <div>\n",
              "<style scoped>\n",
              "    .dataframe tbody tr th:only-of-type {\n",
              "        vertical-align: middle;\n",
              "    }\n",
              "\n",
              "    .dataframe tbody tr th {\n",
              "        vertical-align: top;\n",
              "    }\n",
              "\n",
              "    .dataframe thead th {\n",
              "        text-align: right;\n",
              "    }\n",
              "</style>\n",
              "<table border=\"1\" class=\"dataframe\">\n",
              "  <thead>\n",
              "    <tr style=\"text-align: right;\">\n",
              "      <th></th>\n",
              "      <th>lat</th>\n",
              "      <th>lon</th>\n",
              "      <th>mes</th>\n",
              "      <th>hora</th>\n",
              "      <th>numero_dias_sem_chuva</th>\n",
              "      <th>precipitacao</th>\n",
              "      <th>risco_fogo</th>\n",
              "    </tr>\n",
              "  </thead>\n",
              "  <tbody>\n",
              "    <tr>\n",
              "      <th>0</th>\n",
              "      <td>-12.314859</td>\n",
              "      <td>-43.234066</td>\n",
              "      <td>3.0</td>\n",
              "      <td>1.0</td>\n",
              "      <td>9.0</td>\n",
              "      <td>2.7</td>\n",
              "      <td>1.0</td>\n",
              "    </tr>\n",
              "    <tr>\n",
              "      <th>1</th>\n",
              "      <td>-20.227880</td>\n",
              "      <td>-46.415940</td>\n",
              "      <td>3.0</td>\n",
              "      <td>1.0</td>\n",
              "      <td>8.0</td>\n",
              "      <td>0.0</td>\n",
              "      <td>0.3</td>\n",
              "    </tr>\n",
              "    <tr>\n",
              "      <th>2</th>\n",
              "      <td>-20.229250</td>\n",
              "      <td>-46.426820</td>\n",
              "      <td>3.0</td>\n",
              "      <td>1.0</td>\n",
              "      <td>8.0</td>\n",
              "      <td>0.0</td>\n",
              "      <td>0.3</td>\n",
              "    </tr>\n",
              "    <tr>\n",
              "      <th>3</th>\n",
              "      <td>-20.238930</td>\n",
              "      <td>-46.425510</td>\n",
              "      <td>3.0</td>\n",
              "      <td>1.0</td>\n",
              "      <td>8.0</td>\n",
              "      <td>0.0</td>\n",
              "      <td>0.4</td>\n",
              "    </tr>\n",
              "    <tr>\n",
              "      <th>4</th>\n",
              "      <td>-20.237550</td>\n",
              "      <td>-46.414600</td>\n",
              "      <td>3.0</td>\n",
              "      <td>1.0</td>\n",
              "      <td>8.0</td>\n",
              "      <td>0.0</td>\n",
              "      <td>0.4</td>\n",
              "    </tr>\n",
              "    <tr>\n",
              "      <th>...</th>\n",
              "      <td>...</td>\n",
              "      <td>...</td>\n",
              "      <td>...</td>\n",
              "      <td>...</td>\n",
              "      <td>...</td>\n",
              "      <td>...</td>\n",
              "      <td>...</td>\n",
              "    </tr>\n",
              "    <tr>\n",
              "      <th>265136</th>\n",
              "      <td>-6.360000</td>\n",
              "      <td>-45.670000</td>\n",
              "      <td>7.0</td>\n",
              "      <td>23.0</td>\n",
              "      <td>46.0</td>\n",
              "      <td>0.0</td>\n",
              "      <td>1.0</td>\n",
              "    </tr>\n",
              "    <tr>\n",
              "      <th>265137</th>\n",
              "      <td>-6.360000</td>\n",
              "      <td>-45.690000</td>\n",
              "      <td>7.0</td>\n",
              "      <td>23.0</td>\n",
              "      <td>46.0</td>\n",
              "      <td>0.0</td>\n",
              "      <td>1.0</td>\n",
              "    </tr>\n",
              "    <tr>\n",
              "      <th>265138</th>\n",
              "      <td>-6.400000</td>\n",
              "      <td>-44.140000</td>\n",
              "      <td>7.0</td>\n",
              "      <td>23.0</td>\n",
              "      <td>34.0</td>\n",
              "      <td>0.0</td>\n",
              "      <td>1.0</td>\n",
              "    </tr>\n",
              "    <tr>\n",
              "      <th>265139</th>\n",
              "      <td>-6.350000</td>\n",
              "      <td>-45.670000</td>\n",
              "      <td>7.0</td>\n",
              "      <td>23.0</td>\n",
              "      <td>46.0</td>\n",
              "      <td>0.0</td>\n",
              "      <td>1.0</td>\n",
              "    </tr>\n",
              "    <tr>\n",
              "      <th>265140</th>\n",
              "      <td>-6.340000</td>\n",
              "      <td>-45.690000</td>\n",
              "      <td>7.0</td>\n",
              "      <td>23.0</td>\n",
              "      <td>45.0</td>\n",
              "      <td>0.0</td>\n",
              "      <td>1.0</td>\n",
              "    </tr>\n",
              "  </tbody>\n",
              "</table>\n",
              "<p>265141 rows × 7 columns</p>\n",
              "</div>\n",
              "      <button class=\"colab-df-convert\" onclick=\"convertToInteractive('df-7fbc7d7d-9de9-429b-ae45-c557750872bd')\"\n",
              "              title=\"Convert this dataframe to an interactive table.\"\n",
              "              style=\"display:none;\">\n",
              "        \n",
              "  <svg xmlns=\"http://www.w3.org/2000/svg\" height=\"24px\"viewBox=\"0 0 24 24\"\n",
              "       width=\"24px\">\n",
              "    <path d=\"M0 0h24v24H0V0z\" fill=\"none\"/>\n",
              "    <path d=\"M18.56 5.44l.94 2.06.94-2.06 2.06-.94-2.06-.94-.94-2.06-.94 2.06-2.06.94zm-11 1L8.5 8.5l.94-2.06 2.06-.94-2.06-.94L8.5 2.5l-.94 2.06-2.06.94zm10 10l.94 2.06.94-2.06 2.06-.94-2.06-.94-.94-2.06-.94 2.06-2.06.94z\"/><path d=\"M17.41 7.96l-1.37-1.37c-.4-.4-.92-.59-1.43-.59-.52 0-1.04.2-1.43.59L10.3 9.45l-7.72 7.72c-.78.78-.78 2.05 0 2.83L4 21.41c.39.39.9.59 1.41.59.51 0 1.02-.2 1.41-.59l7.78-7.78 2.81-2.81c.8-.78.8-2.07 0-2.86zM5.41 20L4 18.59l7.72-7.72 1.47 1.35L5.41 20z\"/>\n",
              "  </svg>\n",
              "      </button>\n",
              "      \n",
              "  <style>\n",
              "    .colab-df-container {\n",
              "      display:flex;\n",
              "      flex-wrap:wrap;\n",
              "      gap: 12px;\n",
              "    }\n",
              "\n",
              "    .colab-df-convert {\n",
              "      background-color: #E8F0FE;\n",
              "      border: none;\n",
              "      border-radius: 50%;\n",
              "      cursor: pointer;\n",
              "      display: none;\n",
              "      fill: #1967D2;\n",
              "      height: 32px;\n",
              "      padding: 0 0 0 0;\n",
              "      width: 32px;\n",
              "    }\n",
              "\n",
              "    .colab-df-convert:hover {\n",
              "      background-color: #E2EBFA;\n",
              "      box-shadow: 0px 1px 2px rgba(60, 64, 67, 0.3), 0px 1px 3px 1px rgba(60, 64, 67, 0.15);\n",
              "      fill: #174EA6;\n",
              "    }\n",
              "\n",
              "    [theme=dark] .colab-df-convert {\n",
              "      background-color: #3B4455;\n",
              "      fill: #D2E3FC;\n",
              "    }\n",
              "\n",
              "    [theme=dark] .colab-df-convert:hover {\n",
              "      background-color: #434B5C;\n",
              "      box-shadow: 0px 1px 3px 1px rgba(0, 0, 0, 0.15);\n",
              "      filter: drop-shadow(0px 1px 2px rgba(0, 0, 0, 0.3));\n",
              "      fill: #FFFFFF;\n",
              "    }\n",
              "  </style>\n",
              "\n",
              "      <script>\n",
              "        const buttonEl =\n",
              "          document.querySelector('#df-7fbc7d7d-9de9-429b-ae45-c557750872bd button.colab-df-convert');\n",
              "        buttonEl.style.display =\n",
              "          google.colab.kernel.accessAllowed ? 'block' : 'none';\n",
              "\n",
              "        async function convertToInteractive(key) {\n",
              "          const element = document.querySelector('#df-7fbc7d7d-9de9-429b-ae45-c557750872bd');\n",
              "          const dataTable =\n",
              "            await google.colab.kernel.invokeFunction('convertToInteractive',\n",
              "                                                     [key], {});\n",
              "          if (!dataTable) return;\n",
              "\n",
              "          const docLinkHtml = 'Like what you see? Visit the ' +\n",
              "            '<a target=\"_blank\" href=https://colab.research.google.com/notebooks/data_table.ipynb>data table notebook</a>'\n",
              "            + ' to learn more about interactive tables.';\n",
              "          element.innerHTML = '';\n",
              "          dataTable['output_type'] = 'display_data';\n",
              "          await google.colab.output.renderOutput(dataTable, element);\n",
              "          const docLink = document.createElement('div');\n",
              "          docLink.innerHTML = docLinkHtml;\n",
              "          element.appendChild(docLink);\n",
              "        }\n",
              "      </script>\n",
              "    </div>\n",
              "  </div>\n",
              "  "
            ]
          },
          "metadata": {}
        }
      ],
      "source": [
        "meses = meses.reset_index()\n",
        "del meses['index']\n",
        "display(meses)"
      ]
    },
    {
      "cell_type": "markdown",
      "metadata": {
        "id": "5e516903-0baf-4a77-a60d-0a4510457a20"
      },
      "source": [
        "Após a identificação dos tipos de dados existentes no código, normalizamos os dados por meio do comando \"zscore\". Esse processo de normalização é extremamente importante para análises estátisticas por transformar a escala da distribuição de uma variável e tornar coerente as proporções entre conjunto de elementos.\n",
        "\n",
        "(abaixo, em comentário, temos uma demonstração da normalização manual)"
      ]
    },
    {
      "cell_type": "code",
      "execution_count": 20,
      "metadata": {
        "id": "b824a2d1-fa2d-4bdf-9460-3f5b2e491c4a"
      },
      "outputs": [],
      "source": [
        "#c_maximo = meses['numero_dias_sem_chuva'].max()\n",
        "#c_minimo = meses['numero_dias_sem_chuva'].min()\n",
        "\n",
        "#p_maximo = meses['precipitacao'].max()\n",
        "#p_minimo = meses['precipitacao'].min()\n",
        "\n",
        "#lat_maximo = meses['lat'].max()\n",
        "#lat_minimo = meses['lat'].min()\n",
        "\n",
        "#lon_maximo = meses['lon'].max()\n",
        "#lon_minimo = meses['lon'].min()\n",
        "\n",
        "#meses['numero_dias_sem_chuva'] = (meses['numero_dias_sem_chuva'] - c_minimo) / (c_maximo - c_minimo)\n",
        "#meses['precipitacao'] = (meses['precipitacao'] - p_minimo) / (p_maximo - p_minimo)\n",
        "#meses['lat'] = (meses['lat'] - lat_minimo) / (lat_maximo - lat_minimo)\n",
        "#meses['lon'] = (meses['lon'] - lon_minimo) / (lon_maximo - lon_minimo)\n",
        "\n",
        "\n",
        "#display(meses)"
      ]
    },
    {
      "cell_type": "code",
      "source": [],
      "metadata": {
        "id": "7NFnntkm9zMw"
      },
      "execution_count": 20,
      "outputs": []
    }
  ]
}