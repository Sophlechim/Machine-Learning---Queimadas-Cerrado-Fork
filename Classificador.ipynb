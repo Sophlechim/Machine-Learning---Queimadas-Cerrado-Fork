{
 "cells": [
  {
   "cell_type": "code",
   "execution_count": 2,
   "id": "e3ad2459-b1b1-48bd-ac2f-5902d8f3fc1f",
   "metadata": {},
   "outputs": [],
   "source": [
    "import pandas as pd\n",
    "import seaborn as sns\n",
    "import matplotlib.pyplot as plt\n",
    "import numpy as np\n",
    "from scipy import stats\n",
    "\n",
    "from sklearn.pipeline import Pipeline\n",
    "from sklearn.preprocessing import PolynomialFeatures\n",
    "from sklearn.linear_model import LinearRegression\n",
    "from sklearn.model_selection import train_test_split\n",
    "from sklearn.dummy import DummyRegressor\n",
    "from sklearn.metrics import mean_squared_error\n",
    "from sklearn.neighbors import KNeighborsRegressor\n",
    "from sklearn.preprocessing import MinMaxScaler\n",
    "from sklearn.tree import DecisionTreeRegressor\n",
    "from sklearn.ensemble import RandomForestRegressor\n",
    "from sklearn.model_selection import GridSearchCV\n",
    "from sklearn import tree\n",
    "from sklearn.neighbors import KNeighborsClassifier\n",
    "\n",
    "from itertools import product\n",
    "from matplotlib import pyplot as plt"
   ]
  },
  {
   "cell_type": "code",
   "execution_count": 3,
   "id": "7b7d7e35-e747-4cf2-a6a8-ed48179bd58c",
   "metadata": {},
   "outputs": [],
   "source": [
    "#Dados do Cerrado Brasileiro, armazenados mensalmente via .csv\n",
    "arquivos = ['janeiro.csv','fev.csv','marco.csv','abril.csv','maio.csv','junho.csv','julho.csv']"
   ]
  },
  {
   "cell_type": "code",
   "execution_count": 4,
   "id": "eb90446c-38a5-4b53-aae2-be6e3fa7f0e3",
   "metadata": {},
   "outputs": [],
   "source": [
    "def read_csv(list_of_files):\n",
    "    dfs = []\n",
    "    for x in list_of_files:\n",
    "        file = pd.read_csv(x, sep=',')\n",
    "        dfs.append(file)\n",
    "    df = pd.concat(dfs).reset_index(drop=True)\n",
    "        \n",
    "    return df"
   ]
  },
  {
   "cell_type": "code",
   "execution_count": 5,
   "id": "3b7448f2-10b5-40b7-98ac-cd3858437171",
   "metadata": {},
   "outputs": [],
   "source": [
    "meses = read_csv(arquivos)"
   ]
  },
  {
   "cell_type": "code",
   "execution_count": 6,
   "id": "b4bf89f5-951d-4619-a57d-113965b462d1",
   "metadata": {},
   "outputs": [],
   "source": [
    "#Dados trabalhados para a eliminação de NaN nas colunas e identificação dos tipos de dados\n",
    "meses.convert_dtypes()\n",
    "meses.dropna(how='any', inplace=True)"
   ]
  },
  {
   "cell_type": "code",
   "execution_count": 7,
   "id": "12c619bf-3685-481f-b0f3-e6d8541aae6f",
   "metadata": {},
   "outputs": [],
   "source": [
    "meses.drop(columns=['Unnamed: 0','estado', 'satelite', 'municipio', 'pais', 'municipio_id', 'estado_id', 'pais_id', 'bioma'], axis = 1, inplace=True)"
   ]
  },
  {
   "cell_type": "code",
   "execution_count": 8,
   "id": "a41b3341-5dac-4712-90e7-150de7ffa763",
   "metadata": {},
   "outputs": [],
   "source": [
    "meses_fogo = meses['risco_fogo'] > 0\n",
    "meses = meses[meses_fogo]"
   ]
  },
  {
   "cell_type": "code",
   "execution_count": 9,
   "id": "aa24c3eb-f623-4a2c-aa92-fc1e44785936",
   "metadata": {},
   "outputs": [
    {
     "data": {
      "text/html": [
       "<div>\n",
       "<style scoped>\n",
       "    .dataframe tbody tr th:only-of-type {\n",
       "        vertical-align: middle;\n",
       "    }\n",
       "\n",
       "    .dataframe tbody tr th {\n",
       "        vertical-align: top;\n",
       "    }\n",
       "\n",
       "    .dataframe thead th {\n",
       "        text-align: right;\n",
       "    }\n",
       "</style>\n",
       "<table border=\"1\" class=\"dataframe\">\n",
       "  <thead>\n",
       "    <tr style=\"text-align: right;\">\n",
       "      <th></th>\n",
       "      <th>lat</th>\n",
       "      <th>lon</th>\n",
       "      <th>data_hora_gmt</th>\n",
       "      <th>numero_dias_sem_chuva</th>\n",
       "      <th>precipitacao</th>\n",
       "      <th>risco_fogo</th>\n",
       "    </tr>\n",
       "  </thead>\n",
       "  <tbody>\n",
       "    <tr>\n",
       "      <th>0</th>\n",
       "      <td>-12.314859</td>\n",
       "      <td>-43.234066</td>\n",
       "      <td>2022-03-02 01:05:48</td>\n",
       "      <td>9.0</td>\n",
       "      <td>2.7</td>\n",
       "      <td>1.0</td>\n",
       "    </tr>\n",
       "    <tr>\n",
       "      <th>1</th>\n",
       "      <td>-20.227880</td>\n",
       "      <td>-46.415940</td>\n",
       "      <td>2022-03-02 01:28:00</td>\n",
       "      <td>8.0</td>\n",
       "      <td>0.0</td>\n",
       "      <td>0.3</td>\n",
       "    </tr>\n",
       "    <tr>\n",
       "      <th>2</th>\n",
       "      <td>-20.229250</td>\n",
       "      <td>-46.426820</td>\n",
       "      <td>2022-03-02 01:28:00</td>\n",
       "      <td>8.0</td>\n",
       "      <td>0.0</td>\n",
       "      <td>0.3</td>\n",
       "    </tr>\n",
       "    <tr>\n",
       "      <th>3</th>\n",
       "      <td>-20.238930</td>\n",
       "      <td>-46.425510</td>\n",
       "      <td>2022-03-02 01:28:00</td>\n",
       "      <td>8.0</td>\n",
       "      <td>0.0</td>\n",
       "      <td>0.4</td>\n",
       "    </tr>\n",
       "    <tr>\n",
       "      <th>4</th>\n",
       "      <td>-20.237550</td>\n",
       "      <td>-46.414600</td>\n",
       "      <td>2022-03-02 01:28:00</td>\n",
       "      <td>8.0</td>\n",
       "      <td>0.0</td>\n",
       "      <td>0.4</td>\n",
       "    </tr>\n",
       "    <tr>\n",
       "      <th>...</th>\n",
       "      <td>...</td>\n",
       "      <td>...</td>\n",
       "      <td>...</td>\n",
       "      <td>...</td>\n",
       "      <td>...</td>\n",
       "      <td>...</td>\n",
       "    </tr>\n",
       "    <tr>\n",
       "      <th>265136</th>\n",
       "      <td>-6.360000</td>\n",
       "      <td>-45.670000</td>\n",
       "      <td>2022-07-29 23:54:47</td>\n",
       "      <td>46.0</td>\n",
       "      <td>0.0</td>\n",
       "      <td>1.0</td>\n",
       "    </tr>\n",
       "    <tr>\n",
       "      <th>265137</th>\n",
       "      <td>-6.360000</td>\n",
       "      <td>-45.690000</td>\n",
       "      <td>2022-07-29 23:54:47</td>\n",
       "      <td>46.0</td>\n",
       "      <td>0.0</td>\n",
       "      <td>1.0</td>\n",
       "    </tr>\n",
       "    <tr>\n",
       "      <th>265138</th>\n",
       "      <td>-6.400000</td>\n",
       "      <td>-44.140000</td>\n",
       "      <td>2022-07-29 23:54:47</td>\n",
       "      <td>34.0</td>\n",
       "      <td>0.0</td>\n",
       "      <td>1.0</td>\n",
       "    </tr>\n",
       "    <tr>\n",
       "      <th>265139</th>\n",
       "      <td>-6.350000</td>\n",
       "      <td>-45.670000</td>\n",
       "      <td>2022-07-29 23:54:47</td>\n",
       "      <td>46.0</td>\n",
       "      <td>0.0</td>\n",
       "      <td>1.0</td>\n",
       "    </tr>\n",
       "    <tr>\n",
       "      <th>265140</th>\n",
       "      <td>-6.340000</td>\n",
       "      <td>-45.690000</td>\n",
       "      <td>2022-07-29 23:54:47</td>\n",
       "      <td>45.0</td>\n",
       "      <td>0.0</td>\n",
       "      <td>1.0</td>\n",
       "    </tr>\n",
       "  </tbody>\n",
       "</table>\n",
       "<p>265141 rows × 6 columns</p>\n",
       "</div>"
      ],
      "text/plain": [
       "              lat        lon        data_hora_gmt  numero_dias_sem_chuva  \\\n",
       "0      -12.314859 -43.234066  2022-03-02 01:05:48                    9.0   \n",
       "1      -20.227880 -46.415940  2022-03-02 01:28:00                    8.0   \n",
       "2      -20.229250 -46.426820  2022-03-02 01:28:00                    8.0   \n",
       "3      -20.238930 -46.425510  2022-03-02 01:28:00                    8.0   \n",
       "4      -20.237550 -46.414600  2022-03-02 01:28:00                    8.0   \n",
       "...           ...        ...                  ...                    ...   \n",
       "265136  -6.360000 -45.670000  2022-07-29 23:54:47                   46.0   \n",
       "265137  -6.360000 -45.690000  2022-07-29 23:54:47                   46.0   \n",
       "265138  -6.400000 -44.140000  2022-07-29 23:54:47                   34.0   \n",
       "265139  -6.350000 -45.670000  2022-07-29 23:54:47                   46.0   \n",
       "265140  -6.340000 -45.690000  2022-07-29 23:54:47                   45.0   \n",
       "\n",
       "        precipitacao  risco_fogo  \n",
       "0                2.7         1.0  \n",
       "1                0.0         0.3  \n",
       "2                0.0         0.3  \n",
       "3                0.0         0.4  \n",
       "4                0.0         0.4  \n",
       "...              ...         ...  \n",
       "265136           0.0         1.0  \n",
       "265137           0.0         1.0  \n",
       "265138           0.0         1.0  \n",
       "265139           0.0         1.0  \n",
       "265140           0.0         1.0  \n",
       "\n",
       "[265141 rows x 6 columns]"
      ]
     },
     "metadata": {},
     "output_type": "display_data"
    }
   ],
   "source": [
    "meses = meses.reset_index()\n",
    "del meses['index']\n",
    "display(meses)"
   ]
  },
  {
   "cell_type": "code",
   "execution_count": 10,
   "id": "a0afb9ab-ea9e-47db-8e25-75b703cddcac",
   "metadata": {},
   "outputs": [
    {
     "name": "stdout",
     "output_type": "stream",
     "text": [
      "13853 Risco Baixo\n",
      "16018 Risco Baixo-Médio\n",
      "19324 Risco Médio\n",
      "23407 Risco Médio-Alto\n",
      "192539 Risco Alto\n"
     ]
    }
   ],
   "source": [
    "logic = meses[\"risco_fogo\"] <= 0.2\n",
    "print(len(meses.loc[logic]),'Risco Baixo')\n",
    "logic = (meses[\"risco_fogo\"] > 0.2) & (meses[\"risco_fogo\"]<= 0.4)\n",
    "print(len(meses.loc[logic]),'Risco Baixo-Médio')\n",
    "logic = (meses[\"risco_fogo\"] > 0.4) & (meses[\"risco_fogo\"] <= 0.6)\n",
    "print(len(meses.loc[logic]),'Risco Médio')\n",
    "logic = (meses[\"risco_fogo\"] > 0.6) & (meses[\"risco_fogo\"] <= 0.8)\n",
    "print(len(meses.loc[logic]),'Risco Médio-Alto')\n",
    "logic = (meses[\"risco_fogo\"] > 0.8)\n",
    "print(len(meses.loc[logic]),'Risco Alto')"
   ]
  },
  {
   "cell_type": "code",
   "execution_count": 11,
   "id": "25dde1fd-c5cc-4b5c-be7b-afe18045dca5",
   "metadata": {},
   "outputs": [
    {
     "name": "stdout",
     "output_type": "stream",
     "text": [
      "              lat        lon        data_hora_gmt  numero_dias_sem_chuva  \\\n",
      "0      -12.314859 -43.234066  2022-03-02 01:05:48                    9.0   \n",
      "1      -20.227880 -46.415940  2022-03-02 01:28:00                    8.0   \n",
      "2      -20.229250 -46.426820  2022-03-02 01:28:00                    8.0   \n",
      "3      -20.238930 -46.425510  2022-03-02 01:28:00                    8.0   \n",
      "4      -20.237550 -46.414600  2022-03-02 01:28:00                    8.0   \n",
      "...           ...        ...                  ...                    ...   \n",
      "265136  -6.360000 -45.670000  2022-07-29 23:54:47                   46.0   \n",
      "265137  -6.360000 -45.690000  2022-07-29 23:54:47                   46.0   \n",
      "265138  -6.400000 -44.140000  2022-07-29 23:54:47                   34.0   \n",
      "265139  -6.350000 -45.670000  2022-07-29 23:54:47                   46.0   \n",
      "265140  -6.340000 -45.690000  2022-07-29 23:54:47                   45.0   \n",
      "\n",
      "        precipitacao  risco_fogo   Risco Categórico  \n",
      "0                2.7         1.0         Risco Alto  \n",
      "1                0.0         0.3  Risco Médio-Baixo  \n",
      "2                0.0         0.3  Risco Médio-Baixo  \n",
      "3                0.0         0.4  Risco Médio-Baixo  \n",
      "4                0.0         0.4  Risco Médio-Baixo  \n",
      "...              ...         ...                ...  \n",
      "265136           0.0         1.0         Risco Alto  \n",
      "265137           0.0         1.0         Risco Alto  \n",
      "265138           0.0         1.0         Risco Alto  \n",
      "265139           0.0         1.0         Risco Alto  \n",
      "265140           0.0         1.0         Risco Alto  \n",
      "\n",
      "[265141 rows x 7 columns]\n"
     ]
    }
   ],
   "source": [
    "meses['Risco Categórico'] = None\n",
    "\n",
    "logic = meses[\"risco_fogo\"] <= 0.2\n",
    "meses.loc[logic, 'Risco Categórico'] = 'Risco Baixo'\n",
    "logic = (meses[\"risco_fogo\"] > 0.2) & (meses[\"risco_fogo\"]<= 0.4)\n",
    "meses.loc[logic, 'Risco Categórico'] = 'Risco Médio-Baixo'\n",
    "logic = (meses[\"risco_fogo\"] > 0.4) & (meses[\"risco_fogo\"] <= 0.6)\n",
    "meses.loc[logic, 'Risco Categórico'] = 'Risco Médio'\n",
    "logic = (meses[\"risco_fogo\"] > 0.6) & (meses[\"risco_fogo\"] <= 0.8)\n",
    "meses.loc[logic, 'Risco Categórico'] = 'Risco Médio-Alto'\n",
    "logic = (meses[\"risco_fogo\"] > 0.8)\n",
    "meses.loc[logic, 'Risco Categórico'] = 'Risco Alto'\n",
    "print(meses)\n"
   ]
  },
  {
   "cell_type": "code",
   "execution_count": 12,
   "id": "4d15f106-28f7-49a4-8458-eb1a0b5dbe7e",
   "metadata": {},
   "outputs": [],
   "source": [
    "TAMANHO_TESTE = 0.1 # fração de dados utilizada para teste: 10%\n",
    "SEMENTE_ALEATORIA = 61455 # semente escolhida aleatoriamente\n",
    "DATASET_NAME = \"meses\"\n",
    "FEATURES = [\"numero_dias_sem_chuva\", \"precipitacao\", \"lat\", \"lon\"]\n",
    "TARGET = [\"Risco Categórico\"]\n",
    "\n",
    "indices = meses.index\n",
    "indices_treino, indices_teste = train_test_split(\n",
    "    indices, test_size=TAMANHO_TESTE, random_state=SEMENTE_ALEATORIA\n",
    ")\n",
    "\n",
    "meses_treino = meses.loc[indices_treino]\n",
    "meses_teste = meses.loc[indices_teste]\n",
    "\n",
    "X_treino = meses_treino.reindex(FEATURES, axis=1).values\n",
    "y_treino = meses_treino.reindex(TARGET, axis=1).values\n",
    "X_teste = meses_teste.reindex(FEATURES, axis=1).values\n",
    "y_teste = meses_teste.reindex(TARGET, axis=1).values"
   ]
  },
  {
   "cell_type": "code",
   "execution_count": 13,
   "id": "3cb84d41-9040-4224-be61-573998b993b6",
   "metadata": {},
   "outputs": [
    {
     "name": "stdout",
     "output_type": "stream",
     "text": [
      "(238626, 1) (26515, 1)\n",
      "(238626,) (26515,)\n",
      "['Risco Médio-Alto' 'Risco Médio-Alto' 'Risco Alto' ... 'Risco Alto'\n",
      " 'Risco Alto' 'Risco Alto']\n"
     ]
    }
   ],
   "source": [
    "print(y_treino.shape, y_teste.shape)\n",
    "y_treino = y_treino.ravel()\n",
    "y_teste = y_teste.ravel()\n",
    "print(y_treino.shape, y_teste.shape)\n",
    "\n",
    "# cria o modelo\n",
    "modelo_knn = KNeighborsClassifier()\n",
    "\n",
    "# treina o modelo\n",
    "modelo_knn.fit(X_treino,y_treino)\n",
    "\n",
    "# realiza uma previsão usando o modelo treinado\n",
    "previsao = modelo_knn.predict(X_teste)\n",
    "print(previsao)"
   ]
  },
  {
   "cell_type": "code",
   "execution_count": 14,
   "id": "a89a5803-d2fe-4623-8513-bc0c8680a20c",
   "metadata": {},
   "outputs": [
    {
     "name": "stdout",
     "output_type": "stream",
     "text": [
      "Accuracy: 0.9105034885913634\n"
     ]
    }
   ],
   "source": [
    "from sklearn import metrics\n",
    "\n",
    "print(\"Accuracy:\",metrics.accuracy_score(y_teste, previsao))"
   ]
  },
  {
   "cell_type": "code",
   "execution_count": null,
   "id": "b9e0a8bb-85dd-4852-8c06-898820b6e350",
   "metadata": {},
   "outputs": [],
   "source": []
  }
 ],
 "metadata": {
  "kernelspec": {
   "display_name": "ilumpy",
   "language": "python",
   "name": "ilumpy"
  },
  "language_info": {
   "codemirror_mode": {
    "name": "ipython",
    "version": 3
   },
   "file_extension": ".py",
   "mimetype": "text/x-python",
   "name": "python",
   "nbconvert_exporter": "python",
   "pygments_lexer": "ipython3",
   "version": "3.9.7"
  }
 },
 "nbformat": 4,
 "nbformat_minor": 5
}
