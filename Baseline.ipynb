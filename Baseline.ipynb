{
 "cells": [
  {
   "cell_type": "markdown",
   "id": "10898920-2b1f-4a77-8957-db390cc21419",
   "metadata": {},
   "source": [
    "# Criando modelo preditivo baseline"
   ]
  },
  {
   "cell_type": "code",
   "execution_count": 47,
   "id": "76e30f2e-0c8d-4e1d-bac6-db2bdfe847de",
   "metadata": {},
   "outputs": [],
   "source": [
    "import pandas as pd\n",
    "import numpy as np\n",
    "import matplotlib.pyplot as plt\n",
    "from sklearn.pipeline import Pipeline\n",
    "from sklearn.preprocessing import PolynomialFeatures\n",
    "from sklearn.linear_model import LinearRegression\n",
    "import seaborn as sns\n",
    "from sklearn.model_selection import train_test_split\n",
    "from sklearn.dummy import DummyRegressor\n",
    "from sklearn.metrics import mean_squared_error\n",
    "# importando bibliotecas que podem ser úteis"
   ]
  },
  {
   "cell_type": "code",
   "execution_count": 48,
   "id": "f6619ac7-aefb-4242-9694-f537c3107b91",
   "metadata": {},
   "outputs": [
    {
     "name": "stdout",
     "output_type": "stream",
     "text": [
      "        Unnamed: 0       lat       lon        data_hora_gmt   satelite  \\\n",
      "62029      1961540  -5.98557 -46.64561  2022-07-16 16:26:00    NOAA-20   \n",
      "71179      2193473 -10.65682 -50.27650  2022-07-18 17:28:00    NOAA-20   \n",
      "7027        296599  -7.22330 -47.24215  2022-07-03 16:20:00    NPP-375   \n",
      "73629      2301261 -10.50854 -47.05639  2022-07-19 13:38:00  TERRA_M-T   \n",
      "63756      1978889 -18.29000 -52.66000  2022-07-16 22:53:31    GOES-16   \n",
      "...            ...       ...       ...                  ...        ...   \n",
      "108657     3276292  -9.74022 -46.05020  2022-07-26 16:37:00    NOAA-20   \n",
      "17195       582309  -9.47659 -49.37650  2022-07-06 01:41:00  TERRA_M-M   \n",
      "14629       546120 -12.91973 -45.68085  2022-07-05 16:30:00    NOAA-20   \n",
      "23972       833030 -19.30514 -45.45443  2022-07-07 16:39:00    NPP-375   \n",
      "15246       546937  -6.89744 -43.43041  2022-07-05 16:33:00    NOAA-20   \n",
      "\n",
      "                municipio        estado    pais  municipio_id  estado_id  \\\n",
      "62029          SÍTIO NOVO      MARANHÃO  Brasil       2111805         21   \n",
      "71179   LAGOA DA CONFUSÃO     TOCANTINS  Brasil       1711902         17   \n",
      "7027             CAROLINA      MARANHÃO  Brasil       2102804         21   \n",
      "73629            MATEIROS     TOCANTINS  Brasil       1712702         17   \n",
      "63756     CHAPADÃO DO CÉU         GOIÁS  Brasil       5205471         52   \n",
      "...                   ...           ...     ...           ...        ...   \n",
      "108657      ALTO PARNAÍBA      MARANHÃO  Brasil       2100501         21   \n",
      "17195         ABREULÂNDIA     TOCANTINS  Brasil       1700251         17   \n",
      "14629       SÃO DESIDÉRIO         BAHIA  Brasil       2928901         29   \n",
      "23972       QUARTEL GERAL  MINAS GERAIS  Brasil       3153707         31   \n",
      "15246           JERUMENHA         PIAUÍ  Brasil       2205300         22   \n",
      "\n",
      "        pais_id  numero_dias_sem_chuva  precipitacao  risco_fogo    bioma  \n",
      "62029        33                   31.0           0.0         1.0  Cerrado  \n",
      "71179        33                   35.0           0.0         1.0  Cerrado  \n",
      "7027         33                   19.0           0.0         1.0  Cerrado  \n",
      "73629        33                   35.0           0.0         1.0  Cerrado  \n",
      "63756        33                   27.0           3.0         1.0  Cerrado  \n",
      "...         ...                    ...           ...         ...      ...  \n",
      "108657       33                   41.0           0.0         1.0  Cerrado  \n",
      "17195        33                   53.0           0.0         1.0  Cerrado  \n",
      "14629        33                   45.0           0.0         1.0  Cerrado  \n",
      "23972        33                   19.0           0.0         0.9  Cerrado  \n",
      "15246        33                   21.0           0.0         1.0  Cerrado  \n",
      "\n",
      "[106936 rows x 15 columns]\n",
      "\n",
      "        Unnamed: 0        lat       lon        data_hora_gmt   satelite  \\\n",
      "32407      1116063  -7.780320 -47.02053  2022-07-09 16:56:00    NOAA-20   \n",
      "101146     3074128  -9.023790 -46.69477  2022-07-25 12:59:00  TERRA_M-T   \n",
      "75740      2312347  -6.377080 -46.54210  2022-07-19 17:09:00    NOAA-20   \n",
      "52484      1702119 -17.980420 -43.84466  2022-07-14 16:09:00    NPP-375   \n",
      "78617      2421037 -13.330000 -45.37000  2022-07-20 13:24:02    GOES-16   \n",
      "...            ...        ...       ...                  ...        ...   \n",
      "83620      2469863  -3.973090 -43.09207  2022-07-21 03:53:00    NOAA-20   \n",
      "34072      1137041  -9.260000 -48.29000  2022-07-09 22:44:28    GOES-16   \n",
      "89963      2667949 -18.945630 -47.32719  2022-07-22 17:00:00    NPP-375   \n",
      "82812      2451038  -6.095179 -44.51577  2022-07-20 22:08:10    NOAA-19   \n",
      "57535      1836293  -9.850020 -47.08263  2022-07-15 16:43:00    NOAA-20   \n",
      "\n",
      "           municipio        estado    pais  municipio_id  estado_id  pais_id  \\\n",
      "32407       CAROLINA      MARANHÃO  Brasil       2102804         21       33   \n",
      "101146        BALSAS      MARANHÃO  Brasil       2101400         21       33   \n",
      "75740     SÍTIO NOVO      MARANHÃO  Brasil       2111805         21       33   \n",
      "52484     BUENÓPOLIS  MINAS GERAIS  Brasil       3109204         31       33   \n",
      "78617     CORRENTINA         BAHIA  Brasil       2909307         29       33   \n",
      "...              ...           ...     ...           ...        ...      ...   \n",
      "83620         BURITI      MARANHÃO  Brasil       2102200         21       33   \n",
      "34072   PEDRO AFONSO     TOCANTINS  Brasil       1716505         17       33   \n",
      "89963     PATROCÍNIO  MINAS GERAIS  Brasil       3148103         31       33   \n",
      "82812        MIRADOR      MARANHÃO  Brasil       2106706         21       33   \n",
      "57535        LIZARDA     TOCANTINS  Brasil       1712405         17       33   \n",
      "\n",
      "        numero_dias_sem_chuva  precipitacao  risco_fogo    bioma  \n",
      "32407                    25.0           0.0        1.00  Cerrado  \n",
      "101146                   41.0           0.0        1.00  Cerrado  \n",
      "75740                    36.0           0.0        1.00  Cerrado  \n",
      "52484                    29.0           0.0        1.00  Cerrado  \n",
      "78617                    65.0           0.0        1.00  Cerrado  \n",
      "...                       ...           ...         ...      ...  \n",
      "83620                    17.0           0.0        1.00  Cerrado  \n",
      "34072                    38.0           0.0        0.94  Cerrado  \n",
      "89963                     4.0           0.0        1.00  Cerrado  \n",
      "82812                    37.0           0.0        1.00  Cerrado  \n",
      "57535                    31.0           0.0        1.00  Cerrado  \n",
      "\n",
      "[11882 rows x 15 columns]\n"
     ]
    }
   ],
   "source": [
    "df= pd.read_csv('julho.csv', sep= ',') # lendo nosso dataframe, que já está pré-processado\n",
    "df_fogo = df['risco_fogo'] > 0\n",
    "df = df[df_fogo]\n",
    "\n",
    "TAMANHO_TESTE = 0.1 # fração de dados utilizada para teste: 10%\n",
    "SEMENTE_ALEATORIA = 6145 # semente escolhida aleatoriamente\n",
    "\n",
    "indices = df.index\n",
    "indices_treino, indices_teste = train_test_split(\n",
    "    indices, test_size=TAMANHO_TESTE, random_state=SEMENTE_ALEATORIA\n",
    ")\n",
    "\n",
    "df_treino = df.loc[indices_treino]\n",
    "df_teste = df.loc[indices_teste]\n",
    "\n",
    "print(df_treino)\n",
    "print()\n",
    "print(df_teste)"
   ]
  },
  {
   "cell_type": "code",
   "execution_count": 49,
   "id": "2c9c3def-c014-4602-9562-5a033495328e",
   "metadata": {},
   "outputs": [],
   "source": [
    "DATASET_NAME = \"julho\"\n",
    "FEATURES = [\"numero_dias_sem_chuva\", \"precipitacao\"]\n",
    "TARGET = [\"risco_fogo\"]\n",
    "\n",
    "indices = df.index\n",
    "indices_treino, indices_teste = train_test_split(\n",
    "    indices, test_size=TAMANHO_TESTE, random_state=SEMENTE_ALEATORIA\n",
    ")\n",
    "\n",
    "df_treino = df.loc[indices_treino]\n",
    "df_teste = df.loc[indices_teste]\n",
    "\n",
    "X_treino = df_treino.reindex(FEATURES, axis=1).values\n",
    "y_treino = df_treino.reindex(TARGET, axis=1).values\n",
    "X_teste = df_teste.reindex(FEATURES, axis=1).values\n",
    "y_teste = df_teste.reindex(TARGET, axis=1).values"
   ]
  },
  {
   "cell_type": "code",
   "execution_count": 50,
   "id": "f9c8f90b-2bea-476e-9bb7-338109fdbfe9",
   "metadata": {},
   "outputs": [
    {
     "name": "stdout",
     "output_type": "stream",
     "text": [
      "[0.95776352 0.95776352 0.95776352 ... 0.95776352 0.95776352 0.95776352]\n"
     ]
    }
   ],
   "source": [
    "# cria o modelo\n",
    "modelo_baseline = DummyRegressor()\n",
    "# treina o modelo\n",
    "modelo_baseline.fit(X_treino, y_treino)\n",
    "# realiza uma previsão usando o modelo treinado\n",
    "previsao = modelo_baseline.predict(X_teste)\n",
    "print(previsao)"
   ]
  },
  {
   "cell_type": "code",
   "execution_count": 51,
   "id": "dba0d21e-2d02-45fe-94e1-ef7f5ef46ed2",
   "metadata": {},
   "outputs": [
    {
     "name": "stdout",
     "output_type": "stream",
     "text": [
      "O RMSE do modelo baseline foi de 0.1323974988948915 dólares.\n"
     ]
    }
   ],
   "source": [
    "y_verdadeiro = y_teste\n",
    "y_previsao = modelo_baseline.predict(X_teste)\n",
    "RMSE = mean_squared_error(y_verdadeiro, y_previsao, squared=False)\n",
    "print(f\"O RMSE do modelo baseline foi de {RMSE} dólares.\")"
   ]
  },
  {
   "cell_type": "code",
   "execution_count": null,
   "id": "eb2a7bf8-f726-4038-85bc-b5453f03ed9b",
   "metadata": {},
   "outputs": [],
   "source": []
  }
 ],
 "metadata": {
  "kernelspec": {
   "display_name": "ilumpy",
   "language": "python",
   "name": "ilumpy"
  },
  "language_info": {
   "codemirror_mode": {
    "name": "ipython",
    "version": 3
   },
   "file_extension": ".py",
   "mimetype": "text/x-python",
   "name": "python",
   "nbconvert_exporter": "python",
   "pygments_lexer": "ipython3",
   "version": "3.9.7"
  }
 },
 "nbformat": 4,
 "nbformat_minor": 5
}
