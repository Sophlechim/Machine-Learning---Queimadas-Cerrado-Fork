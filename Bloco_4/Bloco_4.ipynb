{
 "cells": [
  {
   "cell_type": "markdown",
   "id": "a65ca462-78aa-4acd-af81-09c722ff7849",
   "metadata": {},
   "source": [
    "### **RISCO DE FOGO: QUEIMADAS NO CERRADO**\n",
    "<hr>\n",
    "<p align=\"justify\">\n",
    "Este trabalho é referente as tarefas desenvolvidas no Bloco 4. Espera-se desenvolver um projeto capaz de utilizar os comandos aprendidos pela linguagem de programação Python, na disciplina de Aprendizado de Máquina, além de desenvolver um sistema de previsão através de Machine Learning. O grupo desenvolvedor é composto pelas discentes:\n",
    "<ul>",
    "<p align=\"justify\"><li>\n",
    "Isabela Bento Beneti </p></li>\n",
    "<p align=\"justify\"><li>\n",
    "Monyque Karoline de Paula Silva </p></li>\n",
    "<p align=\"justify\"><li>\n",
    "Sofia Baccega C.C. de Oliveira </p></li>\n",
    "<p align=\"justify\"><li>\n",
    "Sophia Figueiredo Michel </p></li>\n",
    "<hr></ul>\n",
    "\n",
    "### **Início:**\n",
    "<p align=\"justify\">\n",
    "Em um primento momento, iremos demonstrar o processo de tratamento dos dados obtidos via Database do INPE a respeito dos focos de incêndio ocorridos no Cerrado durante o período Janeiro 2021-Novembro 2022. É necessário realizar as padronizações de bibliotecas inicias, como a Pandas, Seaborn e Matplotlib, posteriormente, trabalha-se os dados até a otimização destes para a análise dos atríbutos escolhidos.\n",
    "</p>"
   ]
  },
  {
   "cell_type": "markdown",
   "id": "62992d75-d9d6-4561-a3a3-ac1bc69f66ec",
   "metadata": {},
   "source": [
    "## **Coleta:**"
   ]
  },
  {
   "cell_type": "code",
   "execution_count": 3,
   "id": "a12f9518-233d-4bf2-a80c-4bd04b19f648",
   "metadata": {},
   "outputs": [],
   "source": [
    "import pandas as pd\n",
    "import seaborn as sns\n",
    "import matplotlib.pyplot as plt\n",
    "import numpy as np\n",
    "from scipy import stats\n",
    "from sklearn.pipeline import Pipeline\n",
    "from sklearn.preprocessing import PolynomialFeatures\n",
    "from sklearn.linear_model import LinearRegression\n",
    "from sklearn.model_selection import train_test_split\n",
    "from sklearn.dummy import DummyRegressor\n",
    "from sklearn.metrics import mean_squared_error\n",
    "from sklearn.neighbors import KNeighborsRegressor\n",
    "from sklearn.preprocessing import MinMaxScaler\n",
    "from sklearn.tree import DecisionTreeRegressor\n",
    "from itertools import product\n",
    "from matplotlib import pyplot as plt\n",
    "from sklearn import tree\n",
    "from sklearn.model_selection import train_test_split"
   ]
  },
  {
   "cell_type": "code",
   "execution_count": 4,
   "id": "ddae1885-87e4-496e-b3b9-be6d561140c7",
   "metadata": {},
   "outputs": [],
   "source": [
    "#Dados do Cerrado Brasileiro, armazenados mensalmente via .csv\n",
    "arquivos = ['janeiro.csv','fevereiro.csv','marco.csv','abril.csv','maio.csv','junho.csv','julho.csv', 'agosto.csv', 'setembro.csv', 'outubro.csv','novembro.csv', 'janeiro_2021.csv','fevereiro_2021.csv','março_2021.csv','abril_2021.csv','maio_2021.csv','junho_2021.csv','julho_2021.csv', 'agosto_2021.csv', 'setembro_2021.csv', 'outubro_2021.csv','novembro_2021.csv','dezembro_2021.csv']"
   ]
  },
  {
   "cell_type": "code",
   "execution_count": 5,
   "id": "38b0a55c-f335-4787-84cb-246e7001d988",
   "metadata": {},
   "outputs": [],
   "source": [
    "def read_csv(list_of_files):\n",
    "    dfs = []\n",
    "    for x in list_of_files:\n",
    "        file = pd.read_csv(x, sep=',')\n",
    "        dfs.append(file)\n",
    "    df = pd.concat(dfs).reset_index(drop=True)\n",
    "        \n",
    "    return df"
   ]
  },
  {
   "cell_type": "code",
   "execution_count": 6,
   "id": "529f20ce-ce24-431e-a0b0-2e42eb9bf593",
   "metadata": {},
   "outputs": [],
   "source": [
    "meses = read_csv(arquivos)"
   ]
  },
  {
   "cell_type": "code",
   "execution_count": 7,
   "id": "45f41d67-383b-4883-9e2c-34dde14d34e8",
   "metadata": {},
   "outputs": [],
   "source": [
    "#Dados trabalhados para a eliminação de NaN nas colunas e identificação dos tipos de dados\n",
    "meses.convert_dtypes()\n",
    "meses.dropna(how='any', inplace=True)"
   ]
  },
  {
   "cell_type": "code",
   "execution_count": 8,
   "id": "c790b203-0c27-4483-b4aa-b051f69f957c",
   "metadata": {},
   "outputs": [],
   "source": [
    "## Para rodar o código pela primeira vez, descomente essas linhas\n",
    "\n",
    "meses.drop(columns=['estado', 'municipio', 'pais', 'bioma'], axis = 1, inplace=True)"
   ]
  },
  {
   "cell_type": "code",
   "execution_count": 9,
   "id": "0730692e-ce35-4c8e-b734-2f7a6a3d4dbe",
   "metadata": {},
   "outputs": [
    {
     "data": {
      "text/plain": [
       "<bound method NDFrame.describe of         mes hora  diasemchuva  precipitacao  riscofogo  latitude  longitude  \\\n",
       "0        01   17          4.0           3.7        0.2 -20.03711  -52.22083   \n",
       "2        01   17          8.0           7.6        0.1 -20.15087  -52.07791   \n",
       "39       01   16          2.0           0.8        0.1  -2.82439  -43.21342   \n",
       "40       01   17          0.0           3.1        0.3 -15.05135  -56.54026   \n",
       "41       01   17          2.0           0.1        0.1 -14.26308  -56.63799   \n",
       "...      ..  ...          ...           ...        ...       ...        ...   \n",
       "1486832  12   17          1.0           0.8        0.9 -21.10422  -54.98014   \n",
       "1486833  12   17          1.0           0.9        0.9 -21.10286  -54.97052   \n",
       "1486834  12   17          1.0           1.5        0.6 -20.46754  -55.41792   \n",
       "1486836  12   15         11.0           3.3        0.1  -3.01367  -42.05988   \n",
       "1486837  12   15         11.0           3.0        0.2  -3.01146  -42.03683   \n",
       "\n",
       "          frp  \n",
       "0         8.3  \n",
       "2         8.9  \n",
       "39       25.1  \n",
       "40        6.2  \n",
       "41        2.6  \n",
       "...       ...  \n",
       "1486832  27.5  \n",
       "1486833  72.7  \n",
       "1486834   8.5  \n",
       "1486836  34.6  \n",
       "1486837  27.9  \n",
       "\n",
       "[1221468 rows x 8 columns]>"
      ]
     },
     "execution_count": 9,
     "metadata": {},
     "output_type": "execute_result"
    }
   ],
   "source": [
    "meses['satelite']= meses['datahora']\n",
    "meses['satelite'] = meses['satelite'].str[11:13] #criando coluna \"hora\" a partir de \"datahora\"\n",
    "meses['datahora'] = meses['datahora'].str[5:7] #criando coluna \"mes\" a partir de \"datahora\"\n",
    "meses_fogo = meses['riscofogo'] > 0\n",
    "meses.rename(columns={'satelite': 'hora'}, inplace= True)\n",
    "meses.rename(columns={'datahora': 'mes'}, inplace = True)\n",
    "meses = meses[meses_fogo]\n",
    "meses.describe"
   ]
  },
  {
   "cell_type": "code",
   "execution_count": 10,
   "id": "7e3b8ff5-6d87-43ef-aa4a-d7dc3c72d720",
   "metadata": {},
   "outputs": [
    {
     "name": "stdout",
     "output_type": "stream",
     "text": [
      "mes             float64\n",
      "hora            float64\n",
      "diasemchuva     float64\n",
      "precipitacao    float64\n",
      "riscofogo       float64\n",
      "latitude        float64\n",
      "longitude       float64\n",
      "frp             float64\n",
      "dtype: object\n"
     ]
    }
   ],
   "source": [
    "meses[\"mes\"] = meses[\"mes\"].astype(float)\n",
    "meses[\"hora\"] = meses[\"hora\"].astype(float)\n",
    "print(meses.dtypes)"
   ]
  },
  {
   "cell_type": "markdown",
   "id": "9ab45b12-be5c-4608-9fe2-259bcee9935a",
   "metadata": {},
   "source": [
    "# Validação Cruzada"
    "O método de validação cruzada é uma ferramenta que nos ajuda a encontrar hiperparâmetros razoáveis para o modelo. Com ela, é possível avaliar o ajuste do algoritmo ao modelo e previnir o sobreajuste (overfitting) - que hipergeneraliza os pontos conhecidos a ponto de comprometer a validade do acerto dos pontos de teste - e o subajuste (underfitting) - que pode não ser capaz de identificar sequer a relação entre os valores de entrada e de saída dos pontos de treinamento -. Dentre os tipos de validação cruzada, o mecanismo geral é basicamente o mesmo: o conjunto é dividido em k partes rotuladas, aleatórias e mutuamente exclusivas e essas partes são, então, utilizadas alternadamente entre treino, teste e validação. Em nosso notebook, realizamos validação k-fold e a de floresta aleatória."
   ]
  },
  {
   "cell_type": "code",
   "execution_count": 11,
   "id": "d0240c4c-7837-4f58-9232-bb03dbc84013",
   "metadata": {},
   "outputs": [],
   "source": [
    "TAMANHO_TESTE = 0.1\n",
    "SEMENTE_ALEATORIA = 61455\n",
    "DATASET_NAME = \"meses\"\n",
    "FEATURES = [\"diasemchuva\", \"precipitacao\", \"latitude\", \"longitude\",\"mes\",\"hora\"]\n",
    "TARGET = [\"riscofogo\"]\n",
    "\n",
    "\n",
    "\n",
    "indices = meses.index\n",
    "indices_treino, indices_teste = train_test_split(\n",
    "    indices, test_size=TAMANHO_TESTE, random_state=SEMENTE_ALEATORIA\n",
    ")\n",
    "\n",
    "df_treino = meses.loc[indices_treino]\n",
    "df_teste = meses.loc[indices_teste]\n",
    "\n",
    "X_treino = df_treino.reindex(FEATURES, axis=1).values\n",
    "y_treino = df_treino.reindex(TARGET, axis=1).values.ravel()\n",
    "X_teste = df_teste.reindex(FEATURES, axis=1).values\n",
    "y_teste = df_teste.reindex(TARGET, axis=1).values.ravel()"
   ]
  },
  {
   "cell_type": "code",
   "execution_count": 12,
   "id": "cac08d0e-ce6b-4e69-811d-859046c0dc86",
   "metadata": {},
   "outputs": [
    {
     "name": "stdout",
     "output_type": "stream",
     "text": [
      "Os scores foram de:  [0.9274912  0.93079897 0.92817844 0.92991564 0.92908985 0.92949992\n",
      " 0.93048384 0.92977075 0.92838405 0.93059256]\n",
      "\n",
      "A média dos scores é de:  0.9294205214432265\n"
     ]
    }
   ],
   "source": [
    "# Cálculo do 𝑅²\n",
    "from sklearn.ensemble import RandomForestRegressor\n",
    "from sklearn.model_selection import cross_val_score\n",
    "\n",
    "NUM_ARVORES = 10\n",
    "NUM_FOLDS = 10\n",
    "NUM_CPU_CORES = 4\n",
    "\n",
    "modelo_rf = RandomForestRegressor(\n",
    "    n_estimators=NUM_ARVORES,\n",
    "    random_state=SEMENTE_ALEATORIA,\n",
    "    n_jobs=NUM_CPU_CORES,\n",
    ")\n",
    "scores = cross_val_score(\n",
    "    modelo_rf,\n",
    "    X_treino,\n",
    "    y_treino,\n",
    "    cv=NUM_FOLDS,\n",
    ")\n",
    "\n",
    "print(\"Os scores foram de: \", scores)\n",
    "print()\n",
    "print(\"A média dos scores é de: \", scores.mean())"
   ]
  },
  {
   "cell_type": "code",
   "execution_count": 13,
   "id": "2d19f592-5bc3-472f-a143-98e9aec3b289",
   "metadata": {},
   "outputs": [
    {
     "name": "stdout",
     "output_type": "stream",
     "text": [
      "Os scores foram de:  [-0.0626118  -0.06120623 -0.06200971 -0.06123614 -0.06219982 -0.06170782\n",
      " -0.06124469 -0.06161975 -0.0625033  -0.06112797]\n",
      "\n",
      "A média dos scores é de:  -0.061746723259276236\n"
     ]
    }
   ],
   "source": [
    "# Cálculo do RMSE com 10 árvores\n",
    "scores = cross_val_score(\n",
    "    modelo_rf,\n",
    "    X_treino,\n",
    "    y_treino,\n",
    "    cv=NUM_FOLDS,\n",
    "    scoring=\"neg_root_mean_squared_error\",\n",
    ")\n",
    "\n",
    "print(\"Os scores foram de: \", scores)\n",
    "print()\n",
    "print(\"A média dos scores é de: \", scores.mean())"
   ]
  },
  {
   "cell_type": "code",
   "execution_count": 14,
   "id": "d950dbd6-2d58-46df-a547-4693585f6ef1",
   "metadata": {},
   "outputs": [
    {
     "name": "stdout",
     "output_type": "stream",
     "text": [
      "Os scores foram de:  [-0.05962599 -0.0579151  -0.05848344 -0.05789606 -0.05900449 -0.05789627\n",
      " -0.05812686 -0.05829608 -0.05884258 -0.05804944]\n",
      "\n",
      "A média dos scores é de:  -0.05841363090011098\n"
     ]
    }
   ],
   "source": [
    "# Cálculo do RMSE com 100 árvores, 10 Folds e 4 CPU cores\n",
    "NUM_ARVORES = 100\n",
    "NUM_FOLDS = 10\n",
    "NUM_CPU_CORES = 4\n",
    "\n",
    "modelo_rf = RandomForestRegressor(\n",
    "    n_estimators=NUM_ARVORES,\n",
    "    random_state=SEMENTE_ALEATORIA,\n",
    "    n_jobs=NUM_CPU_CORES,\n",
    ")\n",
    "scores = cross_val_score(\n",
    "    modelo_rf,\n",
    "    X_treino,\n",
    "    y_treino,\n",
    "    cv=NUM_FOLDS,\n",
    "    scoring=\"neg_root_mean_squared_error\",\n",
    ")\n",
    "\n",
    "print(\"Os scores foram de: \", scores)\n",
    "print()\n",
    "print(\"A média dos scores é de: \", scores.mean())"
   ]
  },
  {
   "cell_type": "code",
   "execution_count": 15,
   "id": "907f3497-f1ad-4c44-9106-2101b95642fd",
   "metadata": {},
   "outputs": [
    {
     "name": "stdout",
     "output_type": "stream",
     "text": [
      "Os scores foram de:  [-0.05822846 -0.05913348 -0.05904464 -0.0570965  -0.05691722 -0.05651762\n",
      " -0.05675458 -0.05779288 -0.05682845 -0.05701553 -0.05644054 -0.05658208\n",
      " -0.05659028 -0.05535932 -0.06001127 -0.05704422 -0.05724998 -0.05570392\n",
      " -0.05553655 -0.05878363 -0.05654029 -0.05519846 -0.05854655 -0.05794515\n",
      " -0.05733194 -0.05724758 -0.05742889 -0.05656633 -0.0580658  -0.05549793]\n",
      "\n",
      "A média dos scores é de:  -0.057166668917551004\n"
     ]
    }
   ],
   "source": [
    "# Cálculo do RMSE com 100 árvores, 30 Folds e 4 CPU cores\n",
    "NUM_ARVORES = 100\n",
    "NUM_FOLDS = 30\n",
    "NUM_CPU_CORES = 4\n",
    "\n",
    "modelo_rf = RandomForestRegressor(\n",
    "    n_estimators=NUM_ARVORES,\n",
    "    random_state=SEMENTE_ALEATORIA,\n",
    "    n_jobs=NUM_CPU_CORES,\n",
    ")\n",
    "scores = cross_val_score(\n",
    "    modelo_rf,\n",
    "    X_treino,\n",
    "    y_treino,\n",
    "    cv=NUM_FOLDS,\n",
    "    scoring=\"neg_root_mean_squared_error\",\n",
    ")\n",
    "\n",
    "print(\"Os scores foram de: \", scores)\n",
    "print()\n",
    "print(\"A média dos scores é de: \", scores.mean())"
   ]
  },
  {
   "cell_type": "code",
   "execution_count": 16,
   "id": "4ae46921-34c1-496b-a46f-a2560d570c7d",
   "metadata": {},
   "outputs": [
    {
     "name": "stdout",
     "output_type": "stream",
     "text": [
      "Os scores foram de:  [-0.05882262 -0.06059689 -0.05780269 -0.05794931 -0.05862359 -0.05777492\n",
      " -0.05799848 -0.05689432 -0.05740169 -0.0601359  -0.05714844 -0.05826459\n",
      " -0.05736226 -0.05836789 -0.05657332 -0.0599791  -0.05879692 -0.05829064\n",
      " -0.05859138 -0.0570342 ]\n",
      "\n",
      "A média dos scores é de:  -0.05822045743413593\n"
     ]
    }
   ],
   "source": [
    "# Cálculo do RMSE com 30 árvores, 20 FOLDS e 4 CPU cores\n",
    "NUM_ARVORES = 30\n",
    "NUM_FOLDS = 20\n",
    "NUM_CPU_CORES = 4\n",
    "\n",
    "modelo_rf = RandomForestRegressor(\n",
    "    n_estimators=NUM_ARVORES,\n",
    "    random_state=SEMENTE_ALEATORIA,\n",
    "    n_jobs=NUM_CPU_CORES,\n",
    ")\n",
    "scores = cross_val_score(\n",
    "    modelo_rf,\n",
    "    X_treino,\n",
    "    y_treino,\n",
    "    cv=NUM_FOLDS,\n",
    "    scoring=\"neg_root_mean_squared_error\",\n",
    ")\n",
    "\n",
    "print(\"Os scores foram de: \", scores)\n",
    "print()\n",
    "print(\"A média dos scores é de: \", scores.mean())"
   ]
  },
  {
   "cell_type": "code",
   "execution_count": 17,
   "id": "99c7020c-205c-47f1-9109-89edd3507929",
   "metadata": {},
   "outputs": [
    {
     "name": "stdout",
     "output_type": "stream",
     "text": [
      "Os scores foram de:  [-0.05962599 -0.0579151  -0.05848344 -0.05789606 -0.05900449 -0.05789627\n",
      " -0.05812686 -0.05829608 -0.05884258 -0.05804944]\n",
      "\n",
      "A média dos scores é de:  -0.05841363090011098\n"
     ]
    }
   ],
   "source": [
    "# Cálculo do RMSE com 100, 20 FOLDS E 10 CPU CORES árvores\n",
    "NUM_ARVORES = 100\n",
    "NUM_FOLDS = 10\n",
    "NUM_CPU_CORES = 10\n",
    "\n",
    "modelo_rf = RandomForestRegressor(\n",
    "    n_estimators=NUM_ARVORES,\n",
    "    random_state=SEMENTE_ALEATORIA,\n",
    "    n_jobs=NUM_CPU_CORES,\n",
    ")\n",
    "scores = cross_val_score(\n",
    "    modelo_rf,\n",
    "    X_treino,\n",
    "    y_treino,\n",
    "    cv=NUM_FOLDS,\n",
    "    scoring=\"neg_root_mean_squared_error\",\n",
    ")\n",
    "\n",
    "print(\"Os scores foram de: \", scores)\n",
    "print()\n",
    "print(\"A média dos scores é de: \", scores.mean())"
   ]
  },
  {
   "cell_type": "code",
   "execution_count": 18,
   "id": "8f489b60-ff46-4533-a17b-12492fccd729",
   "metadata": {},
   "outputs": [
    {
     "name": "stdout",
     "output_type": "stream",
     "text": [
      "Os scores foram de:  [-0.05951538 -0.05775168 -0.05825761 -0.05777049 -0.05884621 -0.05751285\n",
      " -0.05792576 -0.0582346  -0.05872339 -0.05784809]\n",
      "\n",
      "A média dos scores é de:  -0.05823860515130162\n"
     ]
    }
   ],
   "source": [
    "# Cálculo do RMSE com 200 árvores, 10 Folds e 4 CPU cores\n",
    "NUM_ARVORES = 200\n",
    "NUM_FOLDS = 10\n",
    "NUM_CPU_CORES = 4\n",
    "\n",
    "modelo_rf = RandomForestRegressor(\n",
    "    n_estimators=NUM_ARVORES,\n",
    "    random_state=SEMENTE_ALEATORIA,\n",
    "    n_jobs=NUM_CPU_CORES,\n",
    ")\n",
    "scores = cross_val_score(\n",
    "    modelo_rf,\n",
    "    X_treino,\n",
    "    y_treino,\n",
    "    cv=NUM_FOLDS,\n",
    "    scoring=\"neg_root_mean_squared_error\",\n",
    ")\n",
    "\n",
    "print(\"Os scores foram de: \", scores)\n",
    "print()\n",
    "print(\"A média dos scores é de: \", scores.mean())"
   ]
  },
  {
   "cell_type": "code",
   "execution_count": 19,
   "id": "5e1d07d5-a8fc-4c08-ac0f-bae550163d06",
   "metadata": {},
   "outputs": [
    {
     "name": "stdout",
     "output_type": "stream",
     "text": [
      "O RMSE do modelo floresta aleatória no conjunto de teste foi de 0.0569878008343621\n"
     ]
    }
   ],
   "source": [
    "from sklearn.metrics import mean_squared_error\n",
    "\n",
    "NUM_ARVORES = 100\n",
    "NUM_CPU_CORES = 4\n",
    "\n",
    "modelo_rf = RandomForestRegressor(\n",
    "    n_estimators=NUM_ARVORES,\n",
    "    random_state=SEMENTE_ALEATORIA,\n",
    "    n_jobs=NUM_CPU_CORES,\n",
    ")\n",
    "modelo_rf.fit(X_treino, y_treino)\n",
    "\n",
    "y_previsao = modelo_rf.predict(X_teste)\n",
    "RMSE = mean_squared_error(y_teste, y_previsao, squared=False)\n",
    "\n",
    "print(f\"O RMSE do modelo floresta aleatória no conjunto de teste foi de {RMSE}\")"
   ]
  },
  {
   "cell_type": "markdown",
   "id": "5052e728-fb4e-49bc-9b88-6d0f78dc6595",
   "metadata": {},
   "source": [
    "### Considerações sobre validação cruzada"
   ]
  },
  {
   "cell_type": "markdown",
   "id": "ac158c14-7399-4540-adcf-04da0a8f28ea",
   "metadata": {},
   "source": [
    "Como aprendemos em sala de aula, quanto menor o RMSE melhor a performance do meu modelo, podemos considerar que, dentre todos os modelos testados, o modelo com melhor performance foi o com 100 árvores e 4 CPU cores."
   ]
  },
  {
   "cell_type": "markdown",
   "id": "397a331d-6df4-4f7c-aa12-53a34dc858c0",
   "metadata": {},
   "source": [
    "## Pipelines"
   ]
  },
  {
   "cell_type": "code",
   "execution_count": 20,
   "id": "6cf5e5a6-70d7-4b9b-986e-3c2b298b3502",
   "metadata": {},
   "outputs": [
    {
     "name": "stdout",
     "output_type": "stream",
     "text": [
      "Os scores foram de:  [-0.08530448 -0.08345051 -0.0822058  -0.08334952 -0.08381845 -0.08237437\n",
      " -0.08469336 -0.08306469 -0.08494645 -0.08371488]\n",
      "\n",
      "A média dos scores é de:  -0.0836922500224663\n"
     ]
    }
   ],
   "source": [
    "# Pipeline K-nn com K=3\n",
    "from sklearn.neighbors import KNeighborsRegressor\n",
    "from sklearn.pipeline import make_pipeline\n",
    "from sklearn.preprocessing import MinMaxScaler\n",
    "\n",
    "NUM_VIZINHOS = 3\n",
    "NUM_FOLDS = 10\n",
    "\n",
    "modelo_knn_composto = make_pipeline(\n",
    "    MinMaxScaler(),\n",
    "    KNeighborsRegressor(n_neighbors=NUM_VIZINHOS),\n",
    ")\n",
    "\n",
    "scores = cross_val_score(\n",
    "    modelo_knn_composto,\n",
    "    X_treino,\n",
    "    y_treino,\n",
    "    cv=NUM_FOLDS,\n",
    "    scoring=\"neg_root_mean_squared_error\",\n",
    ")\n",
    "\n",
    "print(\"Os scores foram de: \", scores)\n",
    "print()\n",
    "print(\"A média dos scores é de: \", scores.mean())"
   ]
  },
  {
   "cell_type": "code",
   "execution_count": 21,
   "id": "e3de8141-655a-472a-9977-4c8c8857c20c",
   "metadata": {},
   "outputs": [
    {
     "name": "stdout",
     "output_type": "stream",
     "text": [
      "Os scores foram de:  [-0.08298693 -0.08010689 -0.07918781 -0.07970688 -0.08073114 -0.07870651\n",
      " -0.08155835 -0.07934053 -0.08149429 -0.08071135]\n",
      "\n",
      "A média dos scores é de:  -0.08045306837653154\n"
     ]
    }
   ],
   "source": [
    "# Pipeline K-nn com K=1\n",
    "from sklearn.neighbors import KNeighborsRegressor\n",
    "from sklearn.pipeline import make_pipeline\n",
    "from sklearn.preprocessing import MinMaxScaler\n",
    "\n",
    "NUM_VIZINHOS = 1\n",
    "NUM_FOLDS = 10\n",
    "\n",
    "modelo_knn_composto = make_pipeline(\n",
    "    MinMaxScaler(),\n",
    "    KNeighborsRegressor(n_neighbors=NUM_VIZINHOS),\n",
    ")\n",
    "\n",
    "scores = cross_val_score(\n",
    "    modelo_knn_composto,\n",
    "    X_treino,\n",
    "    y_treino,\n",
    "    cv=NUM_FOLDS,\n",
    "    scoring=\"neg_root_mean_squared_error\",\n",
    ")\n",
    "\n",
    "print(\"Os scores foram de: \", scores)\n",
    "print()\n",
    "print(\"A média dos scores é de: \", scores.mean())"
   ]
  },
  {
   "cell_type": "code",
   "execution_count": 22,
   "id": "358bd531-fbc4-42da-a3bb-2aa16e9b85a7",
   "metadata": {},
   "outputs": [
    {
     "name": "stdout",
     "output_type": "stream",
     "text": [
      "O RMSE do modelo k-NN no conjunto de teste foi de 0.0910335059258214.\n"
     ]
    }
   ],
   "source": [
    "# Pipeline K-nn com K=7\n",
    "NUM_VIZINHOS = 7\n",
    "\n",
    "modelo_knn_composto = make_pipeline(\n",
    "    MinMaxScaler(),\n",
    "    KNeighborsRegressor(n_neighbors=NUM_VIZINHOS),\n",
    ")\n",
    "modelo_knn_composto.fit(X_treino, y_treino)\n",
    "\n",
    "y_previsao = modelo_knn_composto.predict(X_teste)\n",
    "RMSE = mean_squared_error(y_teste, y_previsao, squared=False)\n",
    "\n",
    "print(f\"O RMSE do modelo k-NN no conjunto de teste foi de {RMSE}.\")"
   ]
  },
  {
   "cell_type": "markdown",
   "id": "ea40836d-1c6e-4d7f-b757-96da794fc2b1",
   "metadata": {},
   "source": [
    "### Considerações sobre pipeline"
   ]
  },
  {
   "cell_type": "markdown",
   "id": "69387176-bc9d-414c-8aaa-ffffd7d5e39f",
   "metadata": {},
   "source": [
    "Como visto nos blocos anteriores, nosso melhor resultado do modelo k-NN foi com o menor número possível de vizinhos, ou seja, apenas 1 vizinho. Isso se deve ao modo como nossos dados se comportam: é melhor relacionar os dados mais próximos para tentar predizer qual o risco de fogo de determinado locas. Esse fato explica o por quê do melhor pipeline ter sido o com NUM_VIZINHOS= 1"
   ]
  }
 ],
 "metadata": {
  "kernelspec": {
   "display_name": "ilumpy",
   "language": "python",
   "name": "ilumpy"
  },
  "language_info": {
   "codemirror_mode": {
    "name": "ipython",
    "version": 3
   },
   "file_extension": ".py",
   "mimetype": "text/x-python",
   "name": "python",
   "nbconvert_exporter": "python",
   "pygments_lexer": "ipython3",
   "version": "3.9.7"
  }
 },
 "nbformat": 4,
 "nbformat_minor": 5
}
