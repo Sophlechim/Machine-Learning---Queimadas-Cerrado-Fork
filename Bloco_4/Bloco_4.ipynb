{
 "cells": [
  {
   "cell_type": "markdown",
   "id": "a65ca462-78aa-4acd-af81-09c722ff7849",
   "metadata": {},
   "source": [
    "### **RISCO DE FOGO: QUEIMADAS NO CERRADO**\n",
    "<hr>\n",
    "<p align=\"justify\">\n",
    "Este trabalho é referente as tarefas desenvolvidas no Bloco 1. Espera-se desenvolver um projeto capaz de utilizar os comandos aprendidos pela linguagem de programação Python, na disciplina de Aprendizado de Máquina, além de desenvolver um sistema de previsão através de Machine Learning. O grupo desenvolvedor é composto pelas discentes:\n",
    "<p align=\"justify\">\n",
    "Isabela Bento Beneti </p>\n",
    "<p align=\"justify\">\n",
    "Monyque Karoline de Paula Silva </p>\n",
    "<p align=\"justify\">\n",
    "Sofia Baccega C.C. de Oliveira </p>\n",
    "<p align=\"justify\">\n",
    "Sophia Figueiredo Michel </p>\n",
    "<hr>\n",
    "\n",
    "### **Início:**\n",
    "<p align=\"justify\">\n",
    "Em um primento momento, iremos demonstrar o processo de tratamento dos dados obtidos via Database do INPE a respeito dos focos de incêndio ocorridos no Cerrado durante o período Janeiro-Julho(2022). É necessário realizar as padronizações de bibliotecas inicias, como a Pandas, Seaborn e Matplotlib, posteriormente, trabalha-se os dados até a otimização destes para a análise dos atríbutos escolhidos.\n",
    "</p>"
   ]
  },
  {
   "cell_type": "markdown",
   "id": "62992d75-d9d6-4561-a3a3-ac1bc69f66ec",
   "metadata": {},
   "source": [
    "## **Coleta:**"
   ]
  },
  {
   "cell_type": "code",
   "execution_count": 1,
   "id": "a12f9518-233d-4bf2-a80c-4bd04b19f648",
   "metadata": {},
   "outputs": [],
   "source": [
    "import pandas as pd\n",
    "import seaborn as sns\n",
    "import matplotlib.pyplot as plt\n",
    "import numpy as np\n",
    "from scipy import stats\n",
    "from sklearn.pipeline import Pipeline\n",
    "from sklearn.preprocessing import PolynomialFeatures\n",
    "from sklearn.linear_model import LinearRegression\n",
    "from sklearn.model_selection import train_test_split\n",
    "from sklearn.dummy import DummyRegressor\n",
    "from sklearn.metrics import mean_squared_error\n",
    "from sklearn.neighbors import KNeighborsRegressor\n",
    "from sklearn.preprocessing import MinMaxScaler\n",
    "from sklearn.tree import DecisionTreeRegressor\n",
    "from itertools import product\n",
    "from matplotlib import pyplot as plt\n",
    "from sklearn import tree\n",
    "from sklearn.model_selection import train_test_split"
   ]
  },
  {
   "cell_type": "code",
   "execution_count": 2,
   "id": "ddae1885-87e4-496e-b3b9-be6d561140c7",
   "metadata": {},
   "outputs": [],
   "source": [
    "#Dados do Cerrado Brasileiro, armazenados mensalmente via .csv\n",
    "arquivos = ['janeiro.csv','fev.csv','marco.csv','abril.csv','maio.csv','junho.csv','julho.csv']"
   ]
  },
  {
   "cell_type": "code",
   "execution_count": 3,
   "id": "38b0a55c-f335-4787-84cb-246e7001d988",
   "metadata": {},
   "outputs": [],
   "source": [
    "def read_csv(list_of_files):\n",
    "    dfs = []\n",
    "    for x in list_of_files:\n",
    "        file = pd.read_csv(x, sep=',')\n",
    "        dfs.append(file)\n",
    "    df = pd.concat(dfs).reset_index(drop=True)\n",
    "        \n",
    "    return df"
   ]
  },
  {
   "cell_type": "code",
   "execution_count": 4,
   "id": "529f20ce-ce24-431e-a0b0-2e42eb9bf593",
   "metadata": {},
   "outputs": [],
   "source": [
    "meses = read_csv(arquivos)"
   ]
  },
  {
   "cell_type": "code",
   "execution_count": 5,
   "id": "45f41d67-383b-4883-9e2c-34dde14d34e8",
   "metadata": {},
   "outputs": [],
   "source": [
    "#Dados trabalhados para a eliminação de NaN nas colunas e identificação dos tipos de dados\n",
    "meses.convert_dtypes()\n",
    "meses.dropna(how='any', inplace=True)"
   ]
  },
  {
   "cell_type": "code",
   "execution_count": 6,
   "id": "c790b203-0c27-4483-b4aa-b051f69f957c",
   "metadata": {},
   "outputs": [],
   "source": [
    "## Para rodar o código pela primeira vez, descomente essas linhas\n",
    "\n",
    "meses.drop(columns=['Unnamed: 0','estado', 'municipio', 'pais', 'municipio_id', 'estado_id', 'pais_id', 'bioma'], axis = 1, inplace=True)"
   ]
  },
  {
   "cell_type": "code",
   "execution_count": 7,
   "id": "0730692e-ce35-4c8e-b734-2f7a6a3d4dbe",
   "metadata": {},
   "outputs": [
    {
     "data": {
      "text/plain": [
       "<bound method NDFrame.describe of               lat        lon mes hora  numero_dias_sem_chuva  precipitacao  \\\n",
       "775    -12.314859 -43.234066   3   01                    9.0           2.7   \n",
       "778    -20.227880 -46.415940   3   01                    8.0           0.0   \n",
       "779    -20.229250 -46.426820   3   01                    8.0           0.0   \n",
       "780    -20.238930 -46.425510   3   01                    8.0           0.0   \n",
       "781    -20.237550 -46.414600   3   01                    8.0           0.0   \n",
       "...           ...        ...  ..  ...                    ...           ...   \n",
       "281582  -6.360000 -45.670000   7   23                   46.0           0.0   \n",
       "281583  -6.360000 -45.690000   7   23                   46.0           0.0   \n",
       "281584  -6.400000 -44.140000   7   23                   34.0           0.0   \n",
       "281585  -6.350000 -45.670000   7   23                   46.0           0.0   \n",
       "281586  -6.340000 -45.690000   7   23                   45.0           0.0   \n",
       "\n",
       "        risco_fogo  \n",
       "775            1.0  \n",
       "778            0.3  \n",
       "779            0.3  \n",
       "780            0.4  \n",
       "781            0.4  \n",
       "...            ...  \n",
       "281582         1.0  \n",
       "281583         1.0  \n",
       "281584         1.0  \n",
       "281585         1.0  \n",
       "281586         1.0  \n",
       "\n",
       "[265141 rows x 7 columns]>"
      ]
     },
     "execution_count": 7,
     "metadata": {},
     "output_type": "execute_result"
    }
   ],
   "source": [
    "meses['satelite']= meses['data_hora_gmt']\n",
    "meses['satelite'] = meses['satelite'].str[11:13] #criando coluna \"hora\" a partir de \"data_hora_gmt\"\n",
    "meses['data_hora_gmt'] = meses['data_hora_gmt'].str[6] #criando coluna \"mes\" a partir de \"data_hora_gmt\"\n",
    "meses_fogo = meses['risco_fogo'] > 0\n",
    "meses.rename(columns={'satelite': 'hora'}, inplace= True)\n",
    "meses.rename(columns={'data_hora_gmt': 'mes'}, inplace = True)\n",
    "meses = meses[meses_fogo]\n",
    "meses.describe"
   ]
  },
  {
   "cell_type": "code",
   "execution_count": 8,
   "id": "7e3b8ff5-6d87-43ef-aa4a-d7dc3c72d720",
   "metadata": {},
   "outputs": [
    {
     "name": "stdout",
     "output_type": "stream",
     "text": [
      "lat                      float64\n",
      "lon                      float64\n",
      "mes                      float64\n",
      "hora                     float64\n",
      "numero_dias_sem_chuva    float64\n",
      "precipitacao             float64\n",
      "risco_fogo               float64\n",
      "dtype: object\n"
     ]
    }
   ],
   "source": [
    "meses[\"mes\"] = meses[\"mes\"].astype(float)\n",
    "meses[\"hora\"] = meses[\"hora\"].astype(float)\n",
    "print(meses.dtypes)"
   ]
  },
  {
   "cell_type": "markdown",
   "id": "9ab45b12-be5c-4608-9fe2-259bcee9935a",
   "metadata": {},
   "source": [
    "# Validação Cruzada"
   ]
  },
  {
   "cell_type": "code",
   "execution_count": 12,
   "id": "d0240c4c-7837-4f58-9232-bb03dbc84013",
   "metadata": {},
   "outputs": [],
   "source": [
    "TAMANHO_TESTE = 0.1\n",
    "SEMENTE_ALEATORIA = 61455\n",
    "DATASET_NAME = \"meses\"\n",
    "FEATURES = [\"numero_dias_sem_chuva\", \"precipitacao\", \"lat\", \"lon\",\"mes\",\"hora\"]\n",
    "TARGET = [\"risco_fogo\"]\n",
    "\n",
    "\n",
    "\n",
    "indices = meses.index\n",
    "indices_treino, indices_teste = train_test_split(\n",
    "    indices, test_size=TAMANHO_TESTE, random_state=SEMENTE_ALEATORIA\n",
    ")\n",
    "\n",
    "df_treino = meses.loc[indices_treino]\n",
    "df_teste = meses.loc[indices_teste]\n",
    "\n",
    "X_treino = df_treino.reindex(FEATURES, axis=1).values\n",
    "y_treino = df_treino.reindex(TARGET, axis=1).values.ravel()\n",
    "X_teste = df_teste.reindex(FEATURES, axis=1).values\n",
    "y_teste = df_teste.reindex(TARGET, axis=1).values.ravel()"
   ]
  },
  {
   "cell_type": "code",
   "execution_count": 13,
   "id": "cac08d0e-ce6b-4e69-811d-859046c0dc86",
   "metadata": {},
   "outputs": [
    {
     "name": "stdout",
     "output_type": "stream",
     "text": [
      "Os scores foram de:  [0.95231729 0.95344754 0.94997776 0.95097113 0.94875552 0.94723071\n",
      " 0.95004955 0.94973619 0.94836843 0.95024618]\n",
      "\n",
      "A média dos scores é de:  0.9501100311365693\n"
     ]
    }
   ],
   "source": [
    "# Cálculo do 𝑅²\n",
    "from sklearn.ensemble import RandomForestRegressor\n",
    "from sklearn.model_selection import cross_val_score\n",
    "\n",
    "NUM_ARVORES = 10\n",
    "NUM_FOLDS = 10\n",
    "NUM_CPU_CORES = 4\n",
    "\n",
    "modelo_rf = RandomForestRegressor(\n",
    "    n_estimators=NUM_ARVORES,\n",
    "    random_state=SEMENTE_ALEATORIA,\n",
    "    n_jobs=NUM_CPU_CORES,\n",
    ")\n",
    "scores = cross_val_score(\n",
    "    modelo_rf,\n",
    "    X_treino,\n",
    "    y_treino,\n",
    "    cv=NUM_FOLDS,\n",
    ")\n",
    "\n",
    "print(\"Os scores foram de: \", scores)\n",
    "print()\n",
    "print(\"A média dos scores é de: \", scores.mean())"
   ]
  },
  {
   "cell_type": "code",
   "execution_count": 14,
   "id": "2d19f592-5bc3-472f-a143-98e9aec3b289",
   "metadata": {},
   "outputs": [
    {
     "name": "stdout",
     "output_type": "stream",
     "text": [
      "Os scores foram de:  [-0.05553981 -0.05536261 -0.0570356  -0.05740506 -0.05766428 -0.05837368\n",
      " -0.0572157  -0.05717934 -0.05759255 -0.05710838]\n",
      "\n",
      "A média dos scores é de:  -0.057047700606306505\n"
     ]
    }
   ],
   "source": [
    "# Cálculo do RMSE com 10 árvores\n",
    "scores = cross_val_score(\n",
    "    modelo_rf,\n",
    "    X_treino,\n",
    "    y_treino,\n",
    "    cv=NUM_FOLDS,\n",
    "    scoring=\"neg_root_mean_squared_error\",\n",
    ")\n",
    "\n",
    "print(\"Os scores foram de: \", scores)\n",
    "print()\n",
    "print(\"A média dos scores é de: \", scores.mean())"
   ]
  },
  {
   "cell_type": "code",
   "execution_count": 15,
   "id": "d950dbd6-2d58-46df-a547-4693585f6ef1",
   "metadata": {},
   "outputs": [
    {
     "name": "stdout",
     "output_type": "stream",
     "text": [
      "Os scores foram de:  [-0.05323635 -0.05233397 -0.05407626 -0.05366062 -0.05440683 -0.05549395\n",
      " -0.05440487 -0.0546266  -0.05442401 -0.05332203]\n",
      "\n",
      "A média dos scores é de:  -0.053998550025994366\n"
     ]
    }
   ],
   "source": [
    "# Cálculo do RMSE com 100 árvores\n",
    "NUM_ARVORES = 100\n",
    "NUM_FOLDS = 10\n",
    "NUM_CPU_CORES = 4\n",
    "\n",
    "modelo_rf = RandomForestRegressor(\n",
    "    n_estimators=NUM_ARVORES,\n",
    "    random_state=SEMENTE_ALEATORIA,\n",
    "    n_jobs=NUM_CPU_CORES,\n",
    ")\n",
    "scores = cross_val_score(\n",
    "    modelo_rf,\n",
    "    X_treino,\n",
    "    y_treino,\n",
    "    cv=NUM_FOLDS,\n",
    "    scoring=\"neg_root_mean_squared_error\",\n",
    ")\n",
    "\n",
    "print(\"Os scores foram de: \", scores)\n",
    "print()\n",
    "print(\"A média dos scores é de: \", scores.mean())"
   ]
  },
  {
   "cell_type": "code",
   "execution_count": 16,
   "id": "5e1d07d5-a8fc-4c08-ac0f-bae550163d06",
   "metadata": {},
   "outputs": [
    {
     "name": "stdout",
     "output_type": "stream",
     "text": [
      "O RMSE do modelo floresta aleatória no conjunto de teste foi de 0.05227392171070777 dólares.\n"
     ]
    }
   ],
   "source": [
    "from sklearn.metrics import mean_squared_error\n",
    "\n",
    "NUM_ARVORES = 100\n",
    "NUM_CPU_CORES = 4\n",
    "\n",
    "modelo_rf = RandomForestRegressor(\n",
    "    n_estimators=NUM_ARVORES,\n",
    "    random_state=SEMENTE_ALEATORIA,\n",
    "    n_jobs=NUM_CPU_CORES,\n",
    ")\n",
    "modelo_rf.fit(X_treino, y_treino)\n",
    "\n",
    "y_previsao = modelo_rf.predict(X_teste)\n",
    "RMSE = mean_squared_error(y_teste, y_previsao, squared=False)\n",
    "\n",
    "print(f\"O RMSE do modelo floresta aleatória no conjunto de teste foi de {RMSE}\")"
   ]
  },
  {
   "cell_type": "markdown",
   "id": "397a331d-6df4-4f7c-aa12-53a34dc858c0",
   "metadata": {},
   "source": [
    "## Pipelines"
   ]
  },
  {
   "cell_type": "code",
   "execution_count": 17,
   "id": "6cf5e5a6-70d7-4b9b-986e-3c2b298b3502",
   "metadata": {},
   "outputs": [
    {
     "name": "stdout",
     "output_type": "stream",
     "text": [
      "Os scores foram de:  [-0.08260132 -0.07909832 -0.08300158 -0.08282783 -0.08252275 -0.08178307\n",
      " -0.08253879 -0.08274307 -0.08203952 -0.08307247]\n",
      "\n",
      "A média dos scores é de:  -0.082222873077635\n"
     ]
    }
   ],
   "source": [
    "from sklearn.neighbors import KNeighborsRegressor\n",
    "from sklearn.pipeline import make_pipeline\n",
    "from sklearn.preprocessing import MinMaxScaler\n",
    "\n",
    "NUM_VIZINHOS = 3\n",
    "NUM_FOLDS = 10\n",
    "\n",
    "modelo_knn_composto = make_pipeline(\n",
    "    MinMaxScaler(),\n",
    "    KNeighborsRegressor(n_neighbors=NUM_VIZINHOS),\n",
    ")\n",
    "\n",
    "scores = cross_val_score(\n",
    "    modelo_knn_composto,\n",
    "    X_treino,\n",
    "    y_treino,\n",
    "    cv=NUM_FOLDS,\n",
    "    scoring=\"neg_root_mean_squared_error\",\n",
    ")\n",
    "\n",
    "print(\"Os scores foram de: \", scores)\n",
    "print()\n",
    "print(\"A média dos scores é de: \", scores.mean())"
   ]
  },
  {
   "cell_type": "code",
   "execution_count": 18,
   "id": "e3de8141-655a-472a-9977-4c8c8857c20c",
   "metadata": {},
   "outputs": [
    {
     "name": "stdout",
     "output_type": "stream",
     "text": [
      "Os scores foram de:  [-0.08260132 -0.07909832 -0.08300158 -0.08282783 -0.08252275 -0.08178307\n",
      " -0.08253879 -0.08274307 -0.08203952 -0.08307247]\n",
      "\n",
      "A média dos scores é de:  -0.082222873077635\n"
     ]
    }
   ],
   "source": [
    "from sklearn.neighbors import KNeighborsRegressor\n",
    "from sklearn.pipeline import make_pipeline\n",
    "from sklearn.preprocessing import MinMaxScaler\n",
    "\n",
    "NUM_VIZINHOS = 3\n",
    "NUM_FOLDS = 10\n",
    "\n",
    "modelo_knn_composto = make_pipeline(\n",
    "    MinMaxScaler(),\n",
    "    KNeighborsRegressor(n_neighbors=NUM_VIZINHOS),\n",
    ")\n",
    "\n",
    "scores = cross_val_score(\n",
    "    modelo_knn_composto,\n",
    "    X_treino,\n",
    "    y_treino,\n",
    "    cv=NUM_FOLDS,\n",
    "    scoring=\"neg_root_mean_squared_error\",\n",
    ")\n",
    "\n",
    "print(\"Os scores foram de: \", scores)\n",
    "print()\n",
    "print(\"A média dos scores é de: \", scores.mean())"
   ]
  },
  {
   "cell_type": "code",
   "execution_count": 19,
   "id": "358bd531-fbc4-42da-a3bb-2aa16e9b85a7",
   "metadata": {},
   "outputs": [
    {
     "name": "stdout",
     "output_type": "stream",
     "text": [
      "O RMSE do modelo k-NN no conjunto de teste foi de 0.09231368591636432 dólares.\n"
     ]
    }
   ],
   "source": [
    "NUM_VIZINHOS = 7\n",
    "\n",
    "modelo_knn_composto = make_pipeline(\n",
    "    MinMaxScaler(),\n",
    "    KNeighborsRegressor(n_neighbors=NUM_VIZINHOS),\n",
    ")\n",
    "modelo_knn_composto.fit(X_treino, y_treino)\n",
    "\n",
    "y_previsao = modelo_knn_composto.predict(X_teste)\n",
    "RMSE = mean_squared_error(y_teste, y_previsao, squared=False)\n",
    "\n",
    "print(f\"O RMSE do modelo k-NN no conjunto de teste foi de {RMSE}.\")"
   ]
  },
  {
   "cell_type": "code",
   "execution_count": null,
   "id": "2bf4e2fe-5d52-4bd5-9069-ab2a0b4f3143",
   "metadata": {},
   "outputs": [],
   "source": []
  }
 ],
 "metadata": {
  "kernelspec": {
   "display_name": "ilumpy",
   "language": "python",
   "name": "ilumpy"
  },
  "language_info": {
   "codemirror_mode": {
    "name": "ipython",
    "version": 3
   },
   "file_extension": ".py",
   "mimetype": "text/x-python",
   "name": "python",
   "nbconvert_exporter": "python",
   "pygments_lexer": "ipython3",
   "version": "3.9.7"
  }
 },
 "nbformat": 4,
 "nbformat_minor": 5
}
