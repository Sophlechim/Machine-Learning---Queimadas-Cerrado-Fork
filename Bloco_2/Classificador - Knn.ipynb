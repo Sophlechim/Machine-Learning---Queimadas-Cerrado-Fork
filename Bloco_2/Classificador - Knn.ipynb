{
 "cells": [
  {
   "cell_type": "markdown",
   "id": "b74ab88c-8023-463a-bbaf-906f7cf17ac9",
   "metadata": {},
   "source": [
    "## **DESENVOLVA UM CLASSIFICADOR**"
   ]
  },
  {
   "cell_type": "markdown",
   "id": "c391025f-a4f7-4310-a0f8-97389821b9ac",
   "metadata": {},
   "source": [
    "Dado os resultados obtidos, por meio da métrica RMSE, analisou-se que o modelo de previsão que melhor se ajustou ao projeto é o modelo de KNN-Vizinhos, principalmente quando o número de vizinhos é menor. Logo, opta-se por desenvolvimento de um classificador do tipo KNN-Vizinhos.\n",
    "Inicialmente, realiza-se a coleta de dados e posteriormente, aplica-se o metódo de classificação."
   ]
  },
  {
   "cell_type": "markdown",
   "id": "e2379b17-bd89-4516-832d-db3f15e598d5",
   "metadata": {},
   "source": [
    "### **COLETA DE DADOS**"
   ]
  },
  {
   "cell_type": "code",
   "execution_count": 1,
   "id": "00085177-5be9-49e6-b55e-1e4f20be6a39",
   "metadata": {},
   "outputs": [],
   "source": [
    "import pandas as pd\n",
    "import seaborn as sns\n",
    "import matplotlib.pyplot as plt\n",
    "import numpy as np\n",
    "from scipy import stats\n",
    "\n",
    "from sklearn.pipeline import Pipeline\n",
    "from sklearn.preprocessing import PolynomialFeatures\n",
    "from sklearn.linear_model import LinearRegression\n",
    "from sklearn.model_selection import train_test_split\n",
    "from sklearn.dummy import DummyRegressor\n",
    "from sklearn.metrics import mean_squared_error, accuracy_score, precision_score, recall_score, confusion_matrix, classification_report\n",
    "from sklearn.neighbors import KNeighborsRegressor, KNeighborsClassifier\n",
    "from sklearn.preprocessing import MinMaxScaler\n",
    "from sklearn.tree import DecisionTreeRegressor\n",
    "from sklearn.ensemble import RandomForestRegressor\n",
    "from sklearn.model_selection import GridSearchCV\n",
    "from sklearn.linear_model import LogisticRegression\n",
    "from sklearn import tree, utils, preprocessing\n",
    "from itertools import product\n",
    "from matplotlib import pyplot as plt"
   ]
  },
  {
   "cell_type": "code",
   "execution_count": 2,
   "id": "bcd79de3-c39b-496b-8ff8-82b0ce79ad51",
   "metadata": {},
   "outputs": [],
   "source": [
    "#Dados do Cerrado Brasileiro, armazenados mensalmente via .csv\n",
    "arquivos = ['janeiro.csv','fev.csv','marco.csv','abril.csv','maio.csv','junho.csv','julho.csv']"
   ]
  },
  {
   "cell_type": "code",
   "execution_count": 3,
   "id": "798fe000-b1dd-4a10-8fb7-cf1d2b193b1e",
   "metadata": {},
   "outputs": [],
   "source": [
    "def read_csv(list_of_files):\n",
    "    dfs = []\n",
    "    for x in list_of_files:\n",
    "        file = pd.read_csv(x, sep=',')\n",
    "        dfs.append(file)\n",
    "    df = pd.concat(dfs).reset_index(drop=True)\n",
    "        \n",
    "    return df"
   ]
  },
  {
   "cell_type": "code",
   "execution_count": 4,
   "id": "7cb272e4-c64f-4c68-add5-9acca4406faf",
   "metadata": {},
   "outputs": [],
   "source": [
    "meses = read_csv(arquivos)"
   ]
  },
  {
   "cell_type": "code",
   "execution_count": 5,
   "id": "1d710a6f-2c27-4ac1-8cce-a57e1d38f4a7",
   "metadata": {},
   "outputs": [],
   "source": [
    "#Dados trabalhados para a eliminação de NaN nas colunas e identificação dos tipos de dados\n",
    "meses.convert_dtypes()\n",
    "meses.dropna(how='any', inplace=True)"
   ]
  },
  {
   "cell_type": "code",
   "execution_count": 6,
   "id": "b1966d29-3b22-4152-a8a5-58442bb1da23",
   "metadata": {},
   "outputs": [],
   "source": [
    "meses.drop(columns=['Unnamed: 0','estado', 'satelite', 'municipio', 'pais', 'municipio_id', 'estado_id', 'pais_id', 'bioma', 'data_hora_gmt'], axis = 1, inplace=True)"
   ]
  },
  {
   "cell_type": "code",
   "execution_count": 7,
   "id": "e59e63f4-f33a-455a-b6e9-aab951f3bb64",
   "metadata": {},
   "outputs": [],
   "source": [
    "meses_fogo = meses['risco_fogo'] > 0\n",
    "meses = meses[meses_fogo]"
   ]
  },
  {
   "cell_type": "code",
   "execution_count": 8,
   "id": "b8f3998c-bdd0-4767-a6b9-9a534c87645b",
   "metadata": {},
   "outputs": [
    {
     "data": {
      "text/html": [
       "<div>\n",
       "<style scoped>\n",
       "    .dataframe tbody tr th:only-of-type {\n",
       "        vertical-align: middle;\n",
       "    }\n",
       "\n",
       "    .dataframe tbody tr th {\n",
       "        vertical-align: top;\n",
       "    }\n",
       "\n",
       "    .dataframe thead th {\n",
       "        text-align: right;\n",
       "    }\n",
       "</style>\n",
       "<table border=\"1\" class=\"dataframe\">\n",
       "  <thead>\n",
       "    <tr style=\"text-align: right;\">\n",
       "      <th></th>\n",
       "      <th>lat</th>\n",
       "      <th>lon</th>\n",
       "      <th>numero_dias_sem_chuva</th>\n",
       "      <th>precipitacao</th>\n",
       "      <th>risco_fogo</th>\n",
       "    </tr>\n",
       "  </thead>\n",
       "  <tbody>\n",
       "    <tr>\n",
       "      <th>0</th>\n",
       "      <td>-12.314859</td>\n",
       "      <td>-43.234066</td>\n",
       "      <td>9.0</td>\n",
       "      <td>2.7</td>\n",
       "      <td>1.0</td>\n",
       "    </tr>\n",
       "    <tr>\n",
       "      <th>1</th>\n",
       "      <td>-20.227880</td>\n",
       "      <td>-46.415940</td>\n",
       "      <td>8.0</td>\n",
       "      <td>0.0</td>\n",
       "      <td>0.3</td>\n",
       "    </tr>\n",
       "    <tr>\n",
       "      <th>2</th>\n",
       "      <td>-20.229250</td>\n",
       "      <td>-46.426820</td>\n",
       "      <td>8.0</td>\n",
       "      <td>0.0</td>\n",
       "      <td>0.3</td>\n",
       "    </tr>\n",
       "    <tr>\n",
       "      <th>3</th>\n",
       "      <td>-20.238930</td>\n",
       "      <td>-46.425510</td>\n",
       "      <td>8.0</td>\n",
       "      <td>0.0</td>\n",
       "      <td>0.4</td>\n",
       "    </tr>\n",
       "    <tr>\n",
       "      <th>4</th>\n",
       "      <td>-20.237550</td>\n",
       "      <td>-46.414600</td>\n",
       "      <td>8.0</td>\n",
       "      <td>0.0</td>\n",
       "      <td>0.4</td>\n",
       "    </tr>\n",
       "    <tr>\n",
       "      <th>...</th>\n",
       "      <td>...</td>\n",
       "      <td>...</td>\n",
       "      <td>...</td>\n",
       "      <td>...</td>\n",
       "      <td>...</td>\n",
       "    </tr>\n",
       "    <tr>\n",
       "      <th>265136</th>\n",
       "      <td>-6.360000</td>\n",
       "      <td>-45.670000</td>\n",
       "      <td>46.0</td>\n",
       "      <td>0.0</td>\n",
       "      <td>1.0</td>\n",
       "    </tr>\n",
       "    <tr>\n",
       "      <th>265137</th>\n",
       "      <td>-6.360000</td>\n",
       "      <td>-45.690000</td>\n",
       "      <td>46.0</td>\n",
       "      <td>0.0</td>\n",
       "      <td>1.0</td>\n",
       "    </tr>\n",
       "    <tr>\n",
       "      <th>265138</th>\n",
       "      <td>-6.400000</td>\n",
       "      <td>-44.140000</td>\n",
       "      <td>34.0</td>\n",
       "      <td>0.0</td>\n",
       "      <td>1.0</td>\n",
       "    </tr>\n",
       "    <tr>\n",
       "      <th>265139</th>\n",
       "      <td>-6.350000</td>\n",
       "      <td>-45.670000</td>\n",
       "      <td>46.0</td>\n",
       "      <td>0.0</td>\n",
       "      <td>1.0</td>\n",
       "    </tr>\n",
       "    <tr>\n",
       "      <th>265140</th>\n",
       "      <td>-6.340000</td>\n",
       "      <td>-45.690000</td>\n",
       "      <td>45.0</td>\n",
       "      <td>0.0</td>\n",
       "      <td>1.0</td>\n",
       "    </tr>\n",
       "  </tbody>\n",
       "</table>\n",
       "<p>265141 rows × 5 columns</p>\n",
       "</div>"
      ],
      "text/plain": [
       "              lat        lon  numero_dias_sem_chuva  precipitacao  risco_fogo\n",
       "0      -12.314859 -43.234066                    9.0           2.7         1.0\n",
       "1      -20.227880 -46.415940                    8.0           0.0         0.3\n",
       "2      -20.229250 -46.426820                    8.0           0.0         0.3\n",
       "3      -20.238930 -46.425510                    8.0           0.0         0.4\n",
       "4      -20.237550 -46.414600                    8.0           0.0         0.4\n",
       "...           ...        ...                    ...           ...         ...\n",
       "265136  -6.360000 -45.670000                   46.0           0.0         1.0\n",
       "265137  -6.360000 -45.690000                   46.0           0.0         1.0\n",
       "265138  -6.400000 -44.140000                   34.0           0.0         1.0\n",
       "265139  -6.350000 -45.670000                   46.0           0.0         1.0\n",
       "265140  -6.340000 -45.690000                   45.0           0.0         1.0\n",
       "\n",
       "[265141 rows x 5 columns]"
      ]
     },
     "metadata": {},
     "output_type": "display_data"
    }
   ],
   "source": [
    "meses = meses.reset_index()\n",
    "del meses['index']\n",
    "display(meses)"
   ]
  },
  {
   "cell_type": "code",
   "execution_count": 9,
   "id": "53a10844-26c2-4557-8e90-d8f50b115af4",
   "metadata": {},
   "outputs": [],
   "source": [
    "TAMANHO_TESTE = 0.1 # fração de dados utilizada para teste: 10%\n",
    "SEMENTE_ALEATORIA = 61455 # semente escolhida aleatoriamente\n",
    "DATASET_NAME = \"meses\"\n",
    "FEATURES = [\"numero_dias_sem_chuva\", \"precipitacao\", \"lat\", \"lon\"]\n",
    "TARGET = [\"risco_fogo\"]\n",
    "\n",
    "indices = meses.index\n",
    "indices_treino, indices_teste = train_test_split(\n",
    "    indices, test_size=TAMANHO_TESTE, random_state=SEMENTE_ALEATORIA\n",
    ")\n",
    "\n",
    "meses_treino = meses.loc[indices_treino]\n",
    "meses_teste = meses.loc[indices_teste]\n",
    "\n",
    "X_treino = meses_treino.reindex(FEATURES, axis=1).values\n",
    "y_treino = meses_treino.reindex(TARGET, axis=1).values\n",
    "X_teste = meses_teste.reindex(FEATURES, axis=1).values\n",
    "y_teste = meses_teste.reindex(TARGET, axis=1).values"
   ]
  },
  {
   "cell_type": "markdown",
   "id": "1c405edb-8abe-4b9a-9a63-4b8ab1608908",
   "metadata": {},
   "source": [
    "## **CLASSIFICADOR KNN**"
   ]
  },
  {
   "cell_type": "markdown",
   "id": "defecdd2-b7d4-46d5-99e1-1f8bc385d560",
   "metadata": {},
   "source": [
    "**Criação de Dados Categóricos**"
   ]
  },
  {
   "cell_type": "markdown",
   "id": "f466fd3d-2d27-4d5b-b53c-465860c8ec30",
   "metadata": {},
   "source": [
    "<p align=\"justify\"> Criação de Dados Categóricos, responsáveis pela classificação dos dados do target. Desenvolve-se sete categorias de indice de risco de fogo, as quais são: </p>\n",
    "<li> Risco Baixo (Risco_Fogo: 0.0 - 0.2) </li>\n",
    "<li> Risco Baixo-Médio (Risco_Fogo: 0.2 - 0.4) </li>\n",
    "<li> Risco Médio (Risco_Fogo: 0.5 - 0.6) </li>\n",
    "<li> Risco Médio-Alto (Risco_Fogo: 0.7) </li>\n",
    "<li> Risco Alto I (Risco_Fogo: 0.8) </li>\n",
    "<li> Risco Alto II (Risco_Fogo: 0.9) </li>\n",
    "<li> Risco Alto III (Risco_Fogo: 1.0) </li>\n",
    "</ul> \n",
    "\n",
    "<p align=\"justify\"> Inicialmente, analisa-se a quantidade de informações de cada target diante das condicionais categóricas estabelecidas, a falta de casas decimais corrabora com uma grande quantidade de dados na categoria Risco Alto III. </p>\n"
   ]
  },
  {
   "cell_type": "code",
   "execution_count": 10,
   "id": "0f6ab589-5b0f-4d55-81c3-9fe735003717",
   "metadata": {},
   "outputs": [
    {
     "name": "stdout",
     "output_type": "stream",
     "text": [
      "13853 Risco Baixo\n",
      "16018 Risco Baixo-Médio\n",
      "19324 Risco Médio\n",
      "11264 Risco Médio-Alto\n",
      "12143 Risco Alto I\n",
      "14494 Risco Alto II\n",
      "178045 Risco Alto III\n"
     ]
    }
   ],
   "source": [
    "# categorizando os dados\n",
    "logic = meses[\"risco_fogo\"] <= 0.2\n",
    "print(len(meses.loc[logic]),'Risco Baixo')\n",
    "logic = (meses[\"risco_fogo\"] > 0.2) & (meses[\"risco_fogo\"] <= 0.4)\n",
    "print(len(meses.loc[logic]),'Risco Baixo-Médio')\n",
    "logic = (meses[\"risco_fogo\"] > 0.4) & (meses[\"risco_fogo\"] <= 0.6)\n",
    "print(len(meses.loc[logic]),'Risco Médio')\n",
    "logic = (meses[\"risco_fogo\"] > 0.6) & (meses[\"risco_fogo\"] <= 0.7)\n",
    "print(len(meses.loc[logic]),'Risco Médio-Alto')\n",
    "logic = (meses[\"risco_fogo\"] > 0.7) & (meses[\"risco_fogo\"] <= 0.8)\n",
    "print(len(meses.loc[logic]),'Risco Alto I')\n",
    "logic = (meses[\"risco_fogo\"] > 0.8)  & (meses[\"risco_fogo\"] <= 0.9)\n",
    "print(len(meses.loc[logic]),'Risco Alto II')\n",
    "logic = (meses[\"risco_fogo\"] > 0.9)\n",
    "print(len(meses.loc[logic]),'Risco Alto III')"
   ]
  },
  {
   "cell_type": "markdown",
   "id": "a1839250-f9da-457f-bc62-e688c32bf9c0",
   "metadata": {},
   "source": [
    "<p align=\"justify\"> De modo a se incluir os dados categóricos no nosso dataset, utiliza-se dos comandos *logic* e *loc*.   </p>\n"
   ]
  },
  {
   "cell_type": "code",
   "execution_count": 11,
   "id": "e20e9b4a-8bd6-40e2-b628-ca82f95fd950",
   "metadata": {},
   "outputs": [
    {
     "name": "stdout",
     "output_type": "stream",
     "text": [
      "              lat        lon  numero_dias_sem_chuva  precipitacao  risco_fogo  \\\n",
      "0      -12.314859 -43.234066                    9.0           2.7         1.0   \n",
      "1      -20.227880 -46.415940                    8.0           0.0         0.3   \n",
      "2      -20.229250 -46.426820                    8.0           0.0         0.3   \n",
      "3      -20.238930 -46.425510                    8.0           0.0         0.4   \n",
      "4      -20.237550 -46.414600                    8.0           0.0         0.4   \n",
      "...           ...        ...                    ...           ...         ...   \n",
      "265136  -6.360000 -45.670000                   46.0           0.0         1.0   \n",
      "265137  -6.360000 -45.690000                   46.0           0.0         1.0   \n",
      "265138  -6.400000 -44.140000                   34.0           0.0         1.0   \n",
      "265139  -6.350000 -45.670000                   46.0           0.0         1.0   \n",
      "265140  -6.340000 -45.690000                   45.0           0.0         1.0   \n",
      "\n",
      "         Risco Categórico  \n",
      "0          Risco Alto III  \n",
      "1       Risco Médio-Baixo  \n",
      "2       Risco Médio-Baixo  \n",
      "3       Risco Médio-Baixo  \n",
      "4       Risco Médio-Baixo  \n",
      "...                   ...  \n",
      "265136     Risco Alto III  \n",
      "265137     Risco Alto III  \n",
      "265138     Risco Alto III  \n",
      "265139     Risco Alto III  \n",
      "265140     Risco Alto III  \n",
      "\n",
      "[265141 rows x 6 columns]\n"
     ]
    }
   ],
   "source": [
    "meses['Risco Categórico'] = None\n",
    "\n",
    "logic = meses[\"risco_fogo\"] <= 0.2\n",
    "meses.loc[logic, 'Risco Categórico'] = 'Risco Baixo'\n",
    "logic = (meses[\"risco_fogo\"] > 0.2) & (meses[\"risco_fogo\"]<= 0.4)\n",
    "meses.loc[logic, 'Risco Categórico'] = 'Risco Médio-Baixo'\n",
    "logic = (meses[\"risco_fogo\"] > 0.4) & (meses[\"risco_fogo\"] <= 0.6)\n",
    "meses.loc[logic, 'Risco Categórico'] = 'Risco Médio'\n",
    "logic = (meses[\"risco_fogo\"] > 0.6) & (meses[\"risco_fogo\"] <= 0.7)\n",
    "meses.loc[logic, 'Risco Categórico'] = 'Risco Médio-Alto'\n",
    "logic = (meses[\"risco_fogo\"] > 0.7) & (meses[\"risco_fogo\"] <= 0.8)\n",
    "meses.loc[logic, 'Risco Categórico'] = 'Risco Alto I'\n",
    "logic = (meses[\"risco_fogo\"] > 0.8) & (meses[\"risco_fogo\"] <= 0.9)\n",
    "meses.loc[logic, 'Risco Categórico'] ='Risco Alto II'\n",
    "logic = (meses[\"risco_fogo\"] > 0.9)\n",
    "meses.loc[logic, 'Risco Categórico'] = 'Risco Alto III'\n",
    "\n",
    "print(meses)"
   ]
  },
  {
   "cell_type": "markdown",
   "id": "c6c811eb-9990-4d29-8920-b41bb3c92c38",
   "metadata": {},
   "source": [
    "**Parametrizações do Classificador**"
   ]
  },
  {
   "cell_type": "code",
   "execution_count": 12,
   "id": "03f8c928-4530-4851-8200-34a4021e43b8",
   "metadata": {},
   "outputs": [],
   "source": [
    "TAMANHO_TESTE = 0.1 # fração de dados utilizada para teste: 10%\n",
    "SEMENTE_ALEATORIA = 61455 # semente escolhida aleatoriamente\n",
    "DATASET_NAME = \"meses\"\n",
    "FEATURES = [\"numero_dias_sem_chuva\", \"precipitacao\", \"lat\", \"lon\"]\n",
    "TARGET = [\"Risco Categórico\"]\n",
    "\n",
    "indices = meses.index\n",
    "indices_treino, indices_teste = train_test_split(\n",
    "    indices, test_size=TAMANHO_TESTE, random_state=SEMENTE_ALEATORIA\n",
    ")\n",
    "\n",
    "meses_treino = meses.loc[indices_treino]\n",
    "meses_teste = meses.loc[indices_teste]\n",
    "\n",
    "X_treino = meses_treino.reindex(FEATURES, axis=1).values\n",
    "y_treino = meses_treino.reindex(TARGET, axis=1).values\n",
    "X_teste = meses_teste.reindex(FEATURES, axis=1).values\n",
    "y_teste = meses_teste.reindex(TARGET, axis=1).values"
   ]
  },
  {
   "cell_type": "markdown",
   "id": "2a6ab7a2-2a3a-448e-a31d-fe186adcc1da",
   "metadata": {},
   "source": [
    "**Classificador - Teste**"
   ]
  },
  {
   "cell_type": "code",
   "execution_count": 13,
   "id": "28f857f5-e29e-41de-b2c1-974aa7ca55b8",
   "metadata": {},
   "outputs": [
    {
     "name": "stdout",
     "output_type": "stream",
     "text": [
      "(238626, 1) (26515, 1)\n",
      "(238626,) (26515,)\n",
      "['Risco Alto I' 'Risco Médio-Alto' 'Risco Alto III' ... 'Risco Alto III'\n",
      " 'Risco Alto III' 'Risco Alto III']\n"
     ]
    }
   ],
   "source": [
    "print(y_treino.shape, y_teste.shape)\n",
    "y_treino = y_treino.ravel()\n",
    "y_teste = y_teste.ravel()\n",
    "print(y_treino.shape, y_teste.shape)\n",
    "\n",
    "# cria o modelo\n",
    "modelo_knn = KNeighborsClassifier()\n",
    "\n",
    "# treina o modelo\n",
    "modelo_knn.fit(X_treino,y_treino)\n",
    "\n",
    "# realiza uma previsão usando o modelo treinado\n",
    "previsao = modelo_knn.predict(X_teste)\n",
    "print(previsao)"
   ]
  },
  {
   "cell_type": "code",
   "execution_count": 14,
   "id": "54ef41ad-7464-48ec-9838-8a177c71e698",
   "metadata": {},
   "outputs": [
    {
     "data": {
      "text/html": [
       "<div>\n",
       "<style scoped>\n",
       "    .dataframe tbody tr th:only-of-type {\n",
       "        vertical-align: middle;\n",
       "    }\n",
       "\n",
       "    .dataframe tbody tr th {\n",
       "        vertical-align: top;\n",
       "    }\n",
       "\n",
       "    .dataframe thead th {\n",
       "        text-align: right;\n",
       "    }\n",
       "</style>\n",
       "<table border=\"1\" class=\"dataframe\">\n",
       "  <thead>\n",
       "    <tr style=\"text-align: right;\">\n",
       "      <th>Predicted</th>\n",
       "      <th>Risco Alto I</th>\n",
       "      <th>Risco Alto II</th>\n",
       "      <th>Risco Alto III</th>\n",
       "      <th>Risco Baixo</th>\n",
       "      <th>Risco Médio</th>\n",
       "      <th>Risco Médio-Alto</th>\n",
       "      <th>Risco Médio-Baixo</th>\n",
       "      <th>All</th>\n",
       "    </tr>\n",
       "    <tr>\n",
       "      <th>True</th>\n",
       "      <th></th>\n",
       "      <th></th>\n",
       "      <th></th>\n",
       "      <th></th>\n",
       "      <th></th>\n",
       "      <th></th>\n",
       "      <th></th>\n",
       "      <th></th>\n",
       "    </tr>\n",
       "  </thead>\n",
       "  <tbody>\n",
       "    <tr>\n",
       "      <th>Risco Alto I</th>\n",
       "      <td>812</td>\n",
       "      <td>103</td>\n",
       "      <td>141</td>\n",
       "      <td>11</td>\n",
       "      <td>64</td>\n",
       "      <td>60</td>\n",
       "      <td>25</td>\n",
       "      <td>1216</td>\n",
       "    </tr>\n",
       "    <tr>\n",
       "      <th>Risco Alto II</th>\n",
       "      <td>112</td>\n",
       "      <td>873</td>\n",
       "      <td>364</td>\n",
       "      <td>19</td>\n",
       "      <td>38</td>\n",
       "      <td>29</td>\n",
       "      <td>17</td>\n",
       "      <td>1452</td>\n",
       "    </tr>\n",
       "    <tr>\n",
       "      <th>Risco Alto III</th>\n",
       "      <td>138</td>\n",
       "      <td>210</td>\n",
       "      <td>17251</td>\n",
       "      <td>41</td>\n",
       "      <td>95</td>\n",
       "      <td>55</td>\n",
       "      <td>58</td>\n",
       "      <td>17848</td>\n",
       "    </tr>\n",
       "    <tr>\n",
       "      <th>Risco Baixo</th>\n",
       "      <td>21</td>\n",
       "      <td>19</td>\n",
       "      <td>65</td>\n",
       "      <td>1104</td>\n",
       "      <td>49</td>\n",
       "      <td>8</td>\n",
       "      <td>92</td>\n",
       "      <td>1358</td>\n",
       "    </tr>\n",
       "    <tr>\n",
       "      <th>Risco Médio</th>\n",
       "      <td>76</td>\n",
       "      <td>47</td>\n",
       "      <td>132</td>\n",
       "      <td>52</td>\n",
       "      <td>1475</td>\n",
       "      <td>58</td>\n",
       "      <td>89</td>\n",
       "      <td>1929</td>\n",
       "    </tr>\n",
       "    <tr>\n",
       "      <th>Risco Médio-Alto</th>\n",
       "      <td>134</td>\n",
       "      <td>43</td>\n",
       "      <td>131</td>\n",
       "      <td>23</td>\n",
       "      <td>122</td>\n",
       "      <td>637</td>\n",
       "      <td>22</td>\n",
       "      <td>1112</td>\n",
       "    </tr>\n",
       "    <tr>\n",
       "      <th>Risco Médio-Baixo</th>\n",
       "      <td>26</td>\n",
       "      <td>34</td>\n",
       "      <td>88</td>\n",
       "      <td>89</td>\n",
       "      <td>174</td>\n",
       "      <td>29</td>\n",
       "      <td>1160</td>\n",
       "      <td>1600</td>\n",
       "    </tr>\n",
       "    <tr>\n",
       "      <th>All</th>\n",
       "      <td>1319</td>\n",
       "      <td>1329</td>\n",
       "      <td>18172</td>\n",
       "      <td>1339</td>\n",
       "      <td>2017</td>\n",
       "      <td>876</td>\n",
       "      <td>1463</td>\n",
       "      <td>26515</td>\n",
       "    </tr>\n",
       "  </tbody>\n",
       "</table>\n",
       "</div>"
      ],
      "text/plain": [
       "Predicted          Risco Alto I  Risco Alto II  Risco Alto III  Risco Baixo  \\\n",
       "True                                                                          \n",
       "Risco Alto I                812            103             141           11   \n",
       "Risco Alto II               112            873             364           19   \n",
       "Risco Alto III              138            210           17251           41   \n",
       "Risco Baixo                  21             19              65         1104   \n",
       "Risco Médio                  76             47             132           52   \n",
       "Risco Médio-Alto            134             43             131           23   \n",
       "Risco Médio-Baixo            26             34              88           89   \n",
       "All                        1319           1329           18172         1339   \n",
       "\n",
       "Predicted          Risco Médio  Risco Médio-Alto  Risco Médio-Baixo    All  \n",
       "True                                                                        \n",
       "Risco Alto I                64                60                 25   1216  \n",
       "Risco Alto II               38                29                 17   1452  \n",
       "Risco Alto III              95                55                 58  17848  \n",
       "Risco Baixo                 49                 8                 92   1358  \n",
       "Risco Médio               1475                58                 89   1929  \n",
       "Risco Médio-Alto           122               637                 22   1112  \n",
       "Risco Médio-Baixo          174                29               1160   1600  \n",
       "All                       2017               876               1463  26515  "
      ]
     },
     "execution_count": 14,
     "metadata": {},
     "output_type": "execute_result"
    }
   ],
   "source": [
    "#let us get the predictions using the classifier we had fit above\n",
    "y_pred = modelo_knn.predict(X_teste)\n",
    "confusion_matrix(y_teste,y_pred)\n",
    "pd.crosstab(y_teste, y_pred, rownames=['True'], colnames=['Predicted'], margins=True)"
   ]
  },
  {
   "cell_type": "code",
   "execution_count": 15,
   "id": "e33974cb-8d90-4519-a988-e345bdea5295",
   "metadata": {},
   "outputs": [
    {
     "data": {
      "text/plain": [
       "Text(0.5, 15.0, 'Predicted label')"
      ]
     },
     "execution_count": 15,
     "metadata": {},
     "output_type": "execute_result"
    },
    {
     "data": {
      "image/png": "[encoded data removed]",
      "text/plain": [
       "<Figure size 432x288 with 2 Axes>"
      ]
     },
     "metadata": {
      "needs_background": "light"
     },
     "output_type": "display_data"
    }
   ],
   "source": [
    "#let us get the predictions using the classifier we had fit above\n",
    "y_pred = modelo_knn.predict(X_teste)\n",
    "confusion_matrix(y_teste,y_pred)\n",
    "pd.crosstab(y_teste, y_pred, rownames=['True'], colnames=['Predicted'], margins=True)\n",
    "\n",
    "y_pred = modelo_knn.predict(X_teste)\n",
    "c_matrix = confusion_matrix(y_teste, y_pred)\n",
    "p = sns.heatmap(pd.DataFrame(c_matrix), annot=True, cmap=\"YlGnBu\" ,fmt='g')\n",
    "plt.title('Confusion matrix', y=1.1)\n",
    "plt.ylabel('Actual label')\n",
    "plt.xlabel('Predicted label')"
   ]
  },
  {
   "cell_type": "code",
   "execution_count": 16,
   "id": "ac2f7fbd-3ec3-4140-a067-2a7fea0c371b",
   "metadata": {},
   "outputs": [
    {
     "name": "stdout",
     "output_type": "stream",
     "text": [
      "                   precision    recall  f1-score   support\n",
      "\n",
      "     Risco Alto I       0.62      0.67      0.64      1216\n",
      "    Risco Alto II       0.66      0.60      0.63      1452\n",
      "   Risco Alto III       0.95      0.97      0.96     17848\n",
      "      Risco Baixo       0.82      0.81      0.82      1358\n",
      "      Risco Médio       0.73      0.76      0.75      1929\n",
      " Risco Médio-Alto       0.73      0.57      0.64      1112\n",
      "Risco Médio-Baixo       0.79      0.72      0.76      1600\n",
      "\n",
      "         accuracy                           0.88     26515\n",
      "        macro avg       0.76      0.73      0.74     26515\n",
      "     weighted avg       0.88      0.88      0.88     26515\n",
      "\n"
     ]
    }
   ],
   "source": [
    "print(classification_report(y_teste,y_pred))"
   ]
  },
  {
   "cell_type": "code",
   "execution_count": 17,
   "id": "2b36c766-6fdb-42ae-9b5f-7768506bd740",
   "metadata": {},
   "outputs": [
    {
     "name": "stdout",
     "output_type": "stream",
     "text": [
      "O score de eficiência do projeto é de: 0.8792004525740147\n"
     ]
    }
   ],
   "source": [
    "print(\"O score de eficiência do projeto é de \", accuracy_score(y_teste, y_pred))"
   ]
  },
  {
   "cell_type": "markdown",
   "id": "30df9cf6-2b6d-4ef5-9e18-77442c9cfd47",
   "metadata": {},
   "source": [
    "# Conclusões"
   ]
  },
  {
   "cell_type": "markdown",
   "id": "639079a4-2d5b-48b5-9668-0e24d983f321",
   "metadata": {},
   "source": [
    "Observou-se que apesar do projeto apresentar uma grande eficiência, isso não significa necessariamente que os dados vão estar sempre corretos. A eficiência está alta devido os nossos dados de target de risco de fogo 1 apresentarem uma grande quantidade de dados, logo, o sistema está inclinado a chutar nos locais onde há mais números e"
   ]
  }
 ],
 "metadata": {
  "kernelspec": {
   "display_name": "ilumpy",
   "language": "python",
   "name": "ilumpy"
  },
  "language_info": {
   "codemirror_mode": {
    "name": "ipython",
    "version": 3
   },
   "file_extension": ".py",
   "mimetype": "text/x-python",
   "name": "python",
   "nbconvert_exporter": "python",
   "pygments_lexer": "ipython3",
   "version": "3.9.7"
  }
 },
 "nbformat": 4,
 "nbformat_minor": 5
}
